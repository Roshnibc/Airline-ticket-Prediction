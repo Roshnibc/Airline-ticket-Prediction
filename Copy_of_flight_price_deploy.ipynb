{
  "nbformat": 4,
  "nbformat_minor": 0,
  "metadata": {
    "kernelspec": {
      "display_name": "Python 3",
      "language": "python",
      "name": "python3"
    },
    "language_info": {
      "codemirror_mode": {
        "name": "ipython",
        "version": 3
      },
      "file_extension": ".py",
      "mimetype": "text/x-python",
      "name": "python",
      "nbconvert_exporter": "python",
      "pygments_lexer": "ipython3",
      "version": "3.7.4"
    },
    "colab": {
      "name": "Copy of flight_price_deploy.ipynb",
      "provenance": [],
      "collapsed_sections": []
    }
  },
  "cells": [
    {
      "cell_type": "code",
      "metadata": {
        "id": "d2M6IIUQsw9W"
      },
      "source": [
        "import pandas as pd\n",
        "import numpy as np\n",
        "import matplotlib.pyplot as plt\n",
        "import seaborn as sns"
      ],
      "execution_count": 155,
      "outputs": []
    },
    {
      "cell_type": "markdown",
      "metadata": {
        "id": "kFvFjKCdsw9o"
      },
      "source": [
        "#### Importing dataset\n",
        "    1.Since data is in form of excel file we have to use pandas read_excel to load the data\n",
        "    2.After loading it is important to check null values in a column or a row\n",
        "    3.If it is present then following can be done,\n",
        "        a.Filling NaN values with mean, median and mode using fillna() method\n",
        "        b.If Less missing values, we can drop it as well\n"
      ]
    },
    {
      "cell_type": "code",
      "metadata": {
        "id": "obkV3cIksw9y"
      },
      "source": [
        "train_data=pd.read_excel('Data_Train.xlsx')"
      ],
      "execution_count": 156,
      "outputs": []
    },
    {
      "cell_type": "code",
      "metadata": {
        "id": "5tE0yIfRsw92",
        "colab": {
          "base_uri": "https://localhost:8080/",
          "height": 275
        },
        "outputId": "5a4cc786-568f-44bf-edd5-33887cdb202d"
      },
      "source": [
        "train_data.head()"
      ],
      "execution_count": 157,
      "outputs": [
        {
          "output_type": "execute_result",
          "data": {
            "text/html": [
              "<div>\n",
              "<style scoped>\n",
              "    .dataframe tbody tr th:only-of-type {\n",
              "        vertical-align: middle;\n",
              "    }\n",
              "\n",
              "    .dataframe tbody tr th {\n",
              "        vertical-align: top;\n",
              "    }\n",
              "\n",
              "    .dataframe thead th {\n",
              "        text-align: right;\n",
              "    }\n",
              "</style>\n",
              "<table border=\"1\" class=\"dataframe\">\n",
              "  <thead>\n",
              "    <tr style=\"text-align: right;\">\n",
              "      <th></th>\n",
              "      <th>Airline</th>\n",
              "      <th>Date_of_Journey</th>\n",
              "      <th>Source</th>\n",
              "      <th>Destination</th>\n",
              "      <th>Route</th>\n",
              "      <th>Dep_Time</th>\n",
              "      <th>Arrival_Time</th>\n",
              "      <th>Duration</th>\n",
              "      <th>Total_Stops</th>\n",
              "      <th>Additional_Info</th>\n",
              "      <th>Price</th>\n",
              "    </tr>\n",
              "  </thead>\n",
              "  <tbody>\n",
              "    <tr>\n",
              "      <th>0</th>\n",
              "      <td>IndiGo</td>\n",
              "      <td>24/03/2019</td>\n",
              "      <td>Banglore</td>\n",
              "      <td>New Delhi</td>\n",
              "      <td>BLR → DEL</td>\n",
              "      <td>22:20</td>\n",
              "      <td>01:10 22 Mar</td>\n",
              "      <td>2h 50m</td>\n",
              "      <td>non-stop</td>\n",
              "      <td>No info</td>\n",
              "      <td>3897</td>\n",
              "    </tr>\n",
              "    <tr>\n",
              "      <th>1</th>\n",
              "      <td>Air India</td>\n",
              "      <td>1/05/2019</td>\n",
              "      <td>Kolkata</td>\n",
              "      <td>Banglore</td>\n",
              "      <td>CCU → IXR → BBI → BLR</td>\n",
              "      <td>05:50</td>\n",
              "      <td>13:15</td>\n",
              "      <td>7h 25m</td>\n",
              "      <td>2 stops</td>\n",
              "      <td>No info</td>\n",
              "      <td>7662</td>\n",
              "    </tr>\n",
              "    <tr>\n",
              "      <th>2</th>\n",
              "      <td>Jet Airways</td>\n",
              "      <td>9/06/2019</td>\n",
              "      <td>Delhi</td>\n",
              "      <td>Cochin</td>\n",
              "      <td>DEL → LKO → BOM → COK</td>\n",
              "      <td>09:25</td>\n",
              "      <td>04:25 10 Jun</td>\n",
              "      <td>19h</td>\n",
              "      <td>2 stops</td>\n",
              "      <td>No info</td>\n",
              "      <td>13882</td>\n",
              "    </tr>\n",
              "    <tr>\n",
              "      <th>3</th>\n",
              "      <td>IndiGo</td>\n",
              "      <td>12/05/2019</td>\n",
              "      <td>Kolkata</td>\n",
              "      <td>Banglore</td>\n",
              "      <td>CCU → NAG → BLR</td>\n",
              "      <td>18:05</td>\n",
              "      <td>23:30</td>\n",
              "      <td>5h 25m</td>\n",
              "      <td>1 stop</td>\n",
              "      <td>No info</td>\n",
              "      <td>6218</td>\n",
              "    </tr>\n",
              "    <tr>\n",
              "      <th>4</th>\n",
              "      <td>IndiGo</td>\n",
              "      <td>01/03/2019</td>\n",
              "      <td>Banglore</td>\n",
              "      <td>New Delhi</td>\n",
              "      <td>BLR → NAG → DEL</td>\n",
              "      <td>16:50</td>\n",
              "      <td>21:35</td>\n",
              "      <td>4h 45m</td>\n",
              "      <td>1 stop</td>\n",
              "      <td>No info</td>\n",
              "      <td>13302</td>\n",
              "    </tr>\n",
              "  </tbody>\n",
              "</table>\n",
              "</div>"
            ],
            "text/plain": [
              "       Airline Date_of_Journey    Source Destination                  Route  \\\n",
              "0       IndiGo      24/03/2019  Banglore   New Delhi              BLR → DEL   \n",
              "1    Air India       1/05/2019   Kolkata    Banglore  CCU → IXR → BBI → BLR   \n",
              "2  Jet Airways       9/06/2019     Delhi      Cochin  DEL → LKO → BOM → COK   \n",
              "3       IndiGo      12/05/2019   Kolkata    Banglore        CCU → NAG → BLR   \n",
              "4       IndiGo      01/03/2019  Banglore   New Delhi        BLR → NAG → DEL   \n",
              "\n",
              "  Dep_Time  Arrival_Time Duration Total_Stops Additional_Info  Price  \n",
              "0    22:20  01:10 22 Mar   2h 50m    non-stop         No info   3897  \n",
              "1    05:50         13:15   7h 25m     2 stops         No info   7662  \n",
              "2    09:25  04:25 10 Jun      19h     2 stops         No info  13882  \n",
              "3    18:05         23:30   5h 25m      1 stop         No info   6218  \n",
              "4    16:50         21:35   4h 45m      1 stop         No info  13302  "
            ]
          },
          "metadata": {},
          "execution_count": 157
        }
      ]
    },
    {
      "cell_type": "code",
      "metadata": {
        "id": "mpn16zcwsw99",
        "colab": {
          "base_uri": "https://localhost:8080/"
        },
        "outputId": "6278b9c3-5759-4571-d9c8-a557de6cc95a"
      },
      "source": [
        "train_data.info()"
      ],
      "execution_count": 158,
      "outputs": [
        {
          "output_type": "stream",
          "name": "stdout",
          "text": [
            "<class 'pandas.core.frame.DataFrame'>\n",
            "RangeIndex: 10683 entries, 0 to 10682\n",
            "Data columns (total 11 columns):\n",
            " #   Column           Non-Null Count  Dtype \n",
            "---  ------           --------------  ----- \n",
            " 0   Airline          10683 non-null  object\n",
            " 1   Date_of_Journey  10683 non-null  object\n",
            " 2   Source           10683 non-null  object\n",
            " 3   Destination      10683 non-null  object\n",
            " 4   Route            10682 non-null  object\n",
            " 5   Dep_Time         10683 non-null  object\n",
            " 6   Arrival_Time     10683 non-null  object\n",
            " 7   Duration         10683 non-null  object\n",
            " 8   Total_Stops      10682 non-null  object\n",
            " 9   Additional_Info  10683 non-null  object\n",
            " 10  Price            10683 non-null  int64 \n",
            "dtypes: int64(1), object(10)\n",
            "memory usage: 918.2+ KB\n"
          ]
        }
      ]
    },
    {
      "cell_type": "code",
      "metadata": {
        "id": "v4HYmYNosw-E",
        "colab": {
          "base_uri": "https://localhost:8080/"
        },
        "outputId": "cfda3c1a-5484-446a-98af-33c2f62c74f6"
      },
      "source": [
        "train_data.isnull().sum()"
      ],
      "execution_count": 159,
      "outputs": [
        {
          "output_type": "execute_result",
          "data": {
            "text/plain": [
              "Airline            0\n",
              "Date_of_Journey    0\n",
              "Source             0\n",
              "Destination        0\n",
              "Route              1\n",
              "Dep_Time           0\n",
              "Arrival_Time       0\n",
              "Duration           0\n",
              "Total_Stops        1\n",
              "Additional_Info    0\n",
              "Price              0\n",
              "dtype: int64"
            ]
          },
          "metadata": {},
          "execution_count": 159
        }
      ]
    },
    {
      "cell_type": "markdown",
      "metadata": {
        "id": "JTdwERDpsw-I"
      },
      "source": [
        "#### as less missing values,I can directly drop these"
      ]
    },
    {
      "cell_type": "code",
      "metadata": {
        "id": "2AFy8VQOsw-L"
      },
      "source": [
        "train_data.dropna(inplace=True)"
      ],
      "execution_count": 160,
      "outputs": []
    },
    {
      "cell_type": "code",
      "metadata": {
        "id": "RlAfcaoesw-R",
        "colab": {
          "base_uri": "https://localhost:8080/"
        },
        "outputId": "808b99b4-2335-46c1-e489-d55013f1324d"
      },
      "source": [
        "train_data.isnull().sum()"
      ],
      "execution_count": 161,
      "outputs": [
        {
          "output_type": "execute_result",
          "data": {
            "text/plain": [
              "Airline            0\n",
              "Date_of_Journey    0\n",
              "Source             0\n",
              "Destination        0\n",
              "Route              0\n",
              "Dep_Time           0\n",
              "Arrival_Time       0\n",
              "Duration           0\n",
              "Total_Stops        0\n",
              "Additional_Info    0\n",
              "Price              0\n",
              "dtype: int64"
            ]
          },
          "metadata": {},
          "execution_count": 161
        }
      ]
    },
    {
      "cell_type": "code",
      "metadata": {
        "id": "YnKqcQHcsw-e",
        "colab": {
          "base_uri": "https://localhost:8080/"
        },
        "outputId": "6c4faac8-aacf-4742-abf7-fe8084965c33"
      },
      "source": [
        "train_data.dtypes"
      ],
      "execution_count": 162,
      "outputs": [
        {
          "output_type": "execute_result",
          "data": {
            "text/plain": [
              "Airline            object\n",
              "Date_of_Journey    object\n",
              "Source             object\n",
              "Destination        object\n",
              "Route              object\n",
              "Dep_Time           object\n",
              "Arrival_Time       object\n",
              "Duration           object\n",
              "Total_Stops        object\n",
              "Additional_Info    object\n",
              "Price               int64\n",
              "dtype: object"
            ]
          },
          "metadata": {},
          "execution_count": 162
        }
      ]
    },
    {
      "cell_type": "markdown",
      "metadata": {
        "id": "nauCydkrsw-o"
      },
      "source": [
        "#### From description we can see that Date_of_Journey is a object data type,\n",
        "     Therefore, we have to convert this datatype into timestamp so as to use this column properly for prediction,bcz our \n",
        "     model will not be able to understand Theses string values,it just understand Time-stamp\n",
        "    For this we require pandas to_datetime to convert object data type to datetime dtype.\n",
        "\n",
        "\n",
        "    dt.day method will extract only day of that date\n",
        "    dt.month method will extract only month of that date"
      ]
    },
    {
      "cell_type": "code",
      "metadata": {
        "id": "MBXuwRcjsw-s"
      },
      "source": [
        "def change_into_datetime(col):\n",
        "    train_data[col]=pd.to_datetime(train_data[col])\n",
        "    "
      ],
      "execution_count": 163,
      "outputs": []
    },
    {
      "cell_type": "code",
      "metadata": {
        "id": "SO0RQKQ9sw-w",
        "colab": {
          "base_uri": "https://localhost:8080/"
        },
        "outputId": "e379b250-fd90-4078-c37c-8e77d2c4ff23"
      },
      "source": [
        "train_data.columns"
      ],
      "execution_count": 164,
      "outputs": [
        {
          "output_type": "execute_result",
          "data": {
            "text/plain": [
              "Index(['Airline', 'Date_of_Journey', 'Source', 'Destination', 'Route',\n",
              "       'Dep_Time', 'Arrival_Time', 'Duration', 'Total_Stops',\n",
              "       'Additional_Info', 'Price'],\n",
              "      dtype='object')"
            ]
          },
          "metadata": {},
          "execution_count": 164
        }
      ]
    },
    {
      "cell_type": "code",
      "metadata": {
        "id": "qKPYgVnxsw-z"
      },
      "source": [
        "for i in ['Date_of_Journey','Dep_Time', 'Arrival_Time']:\n",
        "    change_into_datetime(i)"
      ],
      "execution_count": 165,
      "outputs": []
    },
    {
      "cell_type": "code",
      "metadata": {
        "id": "Tarn0y54sw-1",
        "colab": {
          "base_uri": "https://localhost:8080/"
        },
        "outputId": "fa48e2d6-863a-4f63-d506-76eb5cf7004f"
      },
      "source": [
        "train_data.dtypes"
      ],
      "execution_count": 166,
      "outputs": [
        {
          "output_type": "execute_result",
          "data": {
            "text/plain": [
              "Airline                    object\n",
              "Date_of_Journey    datetime64[ns]\n",
              "Source                     object\n",
              "Destination                object\n",
              "Route                      object\n",
              "Dep_Time           datetime64[ns]\n",
              "Arrival_Time       datetime64[ns]\n",
              "Duration                   object\n",
              "Total_Stops                object\n",
              "Additional_Info            object\n",
              "Price                       int64\n",
              "dtype: object"
            ]
          },
          "metadata": {},
          "execution_count": 166
        }
      ]
    },
    {
      "cell_type": "code",
      "metadata": {
        "id": "y_6i7wZJsw-8"
      },
      "source": [
        "train_data['Journey_day']=train_data['Date_of_Journey'].dt.day"
      ],
      "execution_count": 167,
      "outputs": []
    },
    {
      "cell_type": "code",
      "metadata": {
        "id": "yW-T6Ijisw-9"
      },
      "source": [
        "train_data['Journey_month']=train_data['Date_of_Journey'].dt.month"
      ],
      "execution_count": 168,
      "outputs": []
    },
    {
      "cell_type": "code",
      "metadata": {
        "id": "K1dnNa8Rsw--",
        "colab": {
          "base_uri": "https://localhost:8080/",
          "height": 573
        },
        "outputId": "36161bf9-0841-4e26-a343-87c639a0e5d4"
      },
      "source": [
        "train_data.head()"
      ],
      "execution_count": 169,
      "outputs": [
        {
          "output_type": "execute_result",
          "data": {
            "text/html": [
              "<div>\n",
              "<style scoped>\n",
              "    .dataframe tbody tr th:only-of-type {\n",
              "        vertical-align: middle;\n",
              "    }\n",
              "\n",
              "    .dataframe tbody tr th {\n",
              "        vertical-align: top;\n",
              "    }\n",
              "\n",
              "    .dataframe thead th {\n",
              "        text-align: right;\n",
              "    }\n",
              "</style>\n",
              "<table border=\"1\" class=\"dataframe\">\n",
              "  <thead>\n",
              "    <tr style=\"text-align: right;\">\n",
              "      <th></th>\n",
              "      <th>Airline</th>\n",
              "      <th>Date_of_Journey</th>\n",
              "      <th>Source</th>\n",
              "      <th>Destination</th>\n",
              "      <th>Route</th>\n",
              "      <th>Dep_Time</th>\n",
              "      <th>Arrival_Time</th>\n",
              "      <th>Duration</th>\n",
              "      <th>Total_Stops</th>\n",
              "      <th>Additional_Info</th>\n",
              "      <th>Price</th>\n",
              "      <th>Journey_day</th>\n",
              "      <th>Journey_month</th>\n",
              "    </tr>\n",
              "  </thead>\n",
              "  <tbody>\n",
              "    <tr>\n",
              "      <th>0</th>\n",
              "      <td>IndiGo</td>\n",
              "      <td>2019-03-24</td>\n",
              "      <td>Banglore</td>\n",
              "      <td>New Delhi</td>\n",
              "      <td>BLR → DEL</td>\n",
              "      <td>2021-09-19 22:20:00</td>\n",
              "      <td>2021-03-22 01:10:00</td>\n",
              "      <td>2h 50m</td>\n",
              "      <td>non-stop</td>\n",
              "      <td>No info</td>\n",
              "      <td>3897</td>\n",
              "      <td>24</td>\n",
              "      <td>3</td>\n",
              "    </tr>\n",
              "    <tr>\n",
              "      <th>1</th>\n",
              "      <td>Air India</td>\n",
              "      <td>2019-01-05</td>\n",
              "      <td>Kolkata</td>\n",
              "      <td>Banglore</td>\n",
              "      <td>CCU → IXR → BBI → BLR</td>\n",
              "      <td>2021-09-19 05:50:00</td>\n",
              "      <td>2021-09-19 13:15:00</td>\n",
              "      <td>7h 25m</td>\n",
              "      <td>2 stops</td>\n",
              "      <td>No info</td>\n",
              "      <td>7662</td>\n",
              "      <td>5</td>\n",
              "      <td>1</td>\n",
              "    </tr>\n",
              "    <tr>\n",
              "      <th>2</th>\n",
              "      <td>Jet Airways</td>\n",
              "      <td>2019-09-06</td>\n",
              "      <td>Delhi</td>\n",
              "      <td>Cochin</td>\n",
              "      <td>DEL → LKO → BOM → COK</td>\n",
              "      <td>2021-09-19 09:25:00</td>\n",
              "      <td>2021-06-10 04:25:00</td>\n",
              "      <td>19h</td>\n",
              "      <td>2 stops</td>\n",
              "      <td>No info</td>\n",
              "      <td>13882</td>\n",
              "      <td>6</td>\n",
              "      <td>9</td>\n",
              "    </tr>\n",
              "    <tr>\n",
              "      <th>3</th>\n",
              "      <td>IndiGo</td>\n",
              "      <td>2019-12-05</td>\n",
              "      <td>Kolkata</td>\n",
              "      <td>Banglore</td>\n",
              "      <td>CCU → NAG → BLR</td>\n",
              "      <td>2021-09-19 18:05:00</td>\n",
              "      <td>2021-09-19 23:30:00</td>\n",
              "      <td>5h 25m</td>\n",
              "      <td>1 stop</td>\n",
              "      <td>No info</td>\n",
              "      <td>6218</td>\n",
              "      <td>5</td>\n",
              "      <td>12</td>\n",
              "    </tr>\n",
              "    <tr>\n",
              "      <th>4</th>\n",
              "      <td>IndiGo</td>\n",
              "      <td>2019-01-03</td>\n",
              "      <td>Banglore</td>\n",
              "      <td>New Delhi</td>\n",
              "      <td>BLR → NAG → DEL</td>\n",
              "      <td>2021-09-19 16:50:00</td>\n",
              "      <td>2021-09-19 21:35:00</td>\n",
              "      <td>4h 45m</td>\n",
              "      <td>1 stop</td>\n",
              "      <td>No info</td>\n",
              "      <td>13302</td>\n",
              "      <td>3</td>\n",
              "      <td>1</td>\n",
              "    </tr>\n",
              "  </tbody>\n",
              "</table>\n",
              "</div>"
            ],
            "text/plain": [
              "       Airline Date_of_Journey    Source Destination                  Route  \\\n",
              "0       IndiGo      2019-03-24  Banglore   New Delhi              BLR → DEL   \n",
              "1    Air India      2019-01-05   Kolkata    Banglore  CCU → IXR → BBI → BLR   \n",
              "2  Jet Airways      2019-09-06     Delhi      Cochin  DEL → LKO → BOM → COK   \n",
              "3       IndiGo      2019-12-05   Kolkata    Banglore        CCU → NAG → BLR   \n",
              "4       IndiGo      2019-01-03  Banglore   New Delhi        BLR → NAG → DEL   \n",
              "\n",
              "             Dep_Time        Arrival_Time Duration Total_Stops  \\\n",
              "0 2021-09-19 22:20:00 2021-03-22 01:10:00   2h 50m    non-stop   \n",
              "1 2021-09-19 05:50:00 2021-09-19 13:15:00   7h 25m     2 stops   \n",
              "2 2021-09-19 09:25:00 2021-06-10 04:25:00      19h     2 stops   \n",
              "3 2021-09-19 18:05:00 2021-09-19 23:30:00   5h 25m      1 stop   \n",
              "4 2021-09-19 16:50:00 2021-09-19 21:35:00   4h 45m      1 stop   \n",
              "\n",
              "  Additional_Info  Price  Journey_day  Journey_month  \n",
              "0         No info   3897           24              3  \n",
              "1         No info   7662            5              1  \n",
              "2         No info  13882            6              9  \n",
              "3         No info   6218            5             12  \n",
              "4         No info  13302            3              1  "
            ]
          },
          "metadata": {},
          "execution_count": 169
        }
      ]
    },
    {
      "cell_type": "code",
      "metadata": {
        "id": "N9zMDQ76sw_A"
      },
      "source": [
        "## Since we have converted Date_of_Journey column into integers, Now we can drop as it is of no use.\n",
        "train_data.drop('Date_of_Journey', axis=1, inplace=True)"
      ],
      "execution_count": 170,
      "outputs": []
    },
    {
      "cell_type": "code",
      "metadata": {
        "id": "J6kGNc-Zsw_M",
        "colab": {
          "base_uri": "https://localhost:8080/",
          "height": 573
        },
        "outputId": "4fd9b489-8696-4b37-8cf1-693a4e7afe9d"
      },
      "source": [
        "train_data.head()"
      ],
      "execution_count": 171,
      "outputs": [
        {
          "output_type": "execute_result",
          "data": {
            "text/html": [
              "<div>\n",
              "<style scoped>\n",
              "    .dataframe tbody tr th:only-of-type {\n",
              "        vertical-align: middle;\n",
              "    }\n",
              "\n",
              "    .dataframe tbody tr th {\n",
              "        vertical-align: top;\n",
              "    }\n",
              "\n",
              "    .dataframe thead th {\n",
              "        text-align: right;\n",
              "    }\n",
              "</style>\n",
              "<table border=\"1\" class=\"dataframe\">\n",
              "  <thead>\n",
              "    <tr style=\"text-align: right;\">\n",
              "      <th></th>\n",
              "      <th>Airline</th>\n",
              "      <th>Source</th>\n",
              "      <th>Destination</th>\n",
              "      <th>Route</th>\n",
              "      <th>Dep_Time</th>\n",
              "      <th>Arrival_Time</th>\n",
              "      <th>Duration</th>\n",
              "      <th>Total_Stops</th>\n",
              "      <th>Additional_Info</th>\n",
              "      <th>Price</th>\n",
              "      <th>Journey_day</th>\n",
              "      <th>Journey_month</th>\n",
              "    </tr>\n",
              "  </thead>\n",
              "  <tbody>\n",
              "    <tr>\n",
              "      <th>0</th>\n",
              "      <td>IndiGo</td>\n",
              "      <td>Banglore</td>\n",
              "      <td>New Delhi</td>\n",
              "      <td>BLR → DEL</td>\n",
              "      <td>2021-09-19 22:20:00</td>\n",
              "      <td>2021-03-22 01:10:00</td>\n",
              "      <td>2h 50m</td>\n",
              "      <td>non-stop</td>\n",
              "      <td>No info</td>\n",
              "      <td>3897</td>\n",
              "      <td>24</td>\n",
              "      <td>3</td>\n",
              "    </tr>\n",
              "    <tr>\n",
              "      <th>1</th>\n",
              "      <td>Air India</td>\n",
              "      <td>Kolkata</td>\n",
              "      <td>Banglore</td>\n",
              "      <td>CCU → IXR → BBI → BLR</td>\n",
              "      <td>2021-09-19 05:50:00</td>\n",
              "      <td>2021-09-19 13:15:00</td>\n",
              "      <td>7h 25m</td>\n",
              "      <td>2 stops</td>\n",
              "      <td>No info</td>\n",
              "      <td>7662</td>\n",
              "      <td>5</td>\n",
              "      <td>1</td>\n",
              "    </tr>\n",
              "    <tr>\n",
              "      <th>2</th>\n",
              "      <td>Jet Airways</td>\n",
              "      <td>Delhi</td>\n",
              "      <td>Cochin</td>\n",
              "      <td>DEL → LKO → BOM → COK</td>\n",
              "      <td>2021-09-19 09:25:00</td>\n",
              "      <td>2021-06-10 04:25:00</td>\n",
              "      <td>19h</td>\n",
              "      <td>2 stops</td>\n",
              "      <td>No info</td>\n",
              "      <td>13882</td>\n",
              "      <td>6</td>\n",
              "      <td>9</td>\n",
              "    </tr>\n",
              "    <tr>\n",
              "      <th>3</th>\n",
              "      <td>IndiGo</td>\n",
              "      <td>Kolkata</td>\n",
              "      <td>Banglore</td>\n",
              "      <td>CCU → NAG → BLR</td>\n",
              "      <td>2021-09-19 18:05:00</td>\n",
              "      <td>2021-09-19 23:30:00</td>\n",
              "      <td>5h 25m</td>\n",
              "      <td>1 stop</td>\n",
              "      <td>No info</td>\n",
              "      <td>6218</td>\n",
              "      <td>5</td>\n",
              "      <td>12</td>\n",
              "    </tr>\n",
              "    <tr>\n",
              "      <th>4</th>\n",
              "      <td>IndiGo</td>\n",
              "      <td>Banglore</td>\n",
              "      <td>New Delhi</td>\n",
              "      <td>BLR → NAG → DEL</td>\n",
              "      <td>2021-09-19 16:50:00</td>\n",
              "      <td>2021-09-19 21:35:00</td>\n",
              "      <td>4h 45m</td>\n",
              "      <td>1 stop</td>\n",
              "      <td>No info</td>\n",
              "      <td>13302</td>\n",
              "      <td>3</td>\n",
              "      <td>1</td>\n",
              "    </tr>\n",
              "  </tbody>\n",
              "</table>\n",
              "</div>"
            ],
            "text/plain": [
              "       Airline    Source Destination                  Route  \\\n",
              "0       IndiGo  Banglore   New Delhi              BLR → DEL   \n",
              "1    Air India   Kolkata    Banglore  CCU → IXR → BBI → BLR   \n",
              "2  Jet Airways     Delhi      Cochin  DEL → LKO → BOM → COK   \n",
              "3       IndiGo   Kolkata    Banglore        CCU → NAG → BLR   \n",
              "4       IndiGo  Banglore   New Delhi        BLR → NAG → DEL   \n",
              "\n",
              "             Dep_Time        Arrival_Time Duration Total_Stops  \\\n",
              "0 2021-09-19 22:20:00 2021-03-22 01:10:00   2h 50m    non-stop   \n",
              "1 2021-09-19 05:50:00 2021-09-19 13:15:00   7h 25m     2 stops   \n",
              "2 2021-09-19 09:25:00 2021-06-10 04:25:00      19h     2 stops   \n",
              "3 2021-09-19 18:05:00 2021-09-19 23:30:00   5h 25m      1 stop   \n",
              "4 2021-09-19 16:50:00 2021-09-19 21:35:00   4h 45m      1 stop   \n",
              "\n",
              "  Additional_Info  Price  Journey_day  Journey_month  \n",
              "0         No info   3897           24              3  \n",
              "1         No info   7662            5              1  \n",
              "2         No info  13882            6              9  \n",
              "3         No info   6218            5             12  \n",
              "4         No info  13302            3              1  "
            ]
          },
          "metadata": {},
          "execution_count": 171
        }
      ]
    },
    {
      "cell_type": "code",
      "metadata": {
        "id": "V-FFYH5_sw_Q"
      },
      "source": [
        ""
      ],
      "execution_count": 171,
      "outputs": []
    },
    {
      "cell_type": "code",
      "metadata": {
        "id": "dVDKiC8Esw_T"
      },
      "source": [
        "def extract_hour(df,col):\n",
        "    df[col+\"_hour\"]=df[col].dt.hour"
      ],
      "execution_count": 172,
      "outputs": []
    },
    {
      "cell_type": "code",
      "metadata": {
        "id": "ZeGo16Ffsw_Y"
      },
      "source": [
        "def extract_min(df,col):\n",
        "    df[col+\"_minute\"]=df[col].dt.minute"
      ],
      "execution_count": 173,
      "outputs": []
    },
    {
      "cell_type": "code",
      "metadata": {
        "id": "szeFD8Nmsw_h"
      },
      "source": [
        "def drop_column(df,col):\n",
        "    df.drop(col,axis=1,inplace=True)"
      ],
      "execution_count": 174,
      "outputs": []
    },
    {
      "cell_type": "code",
      "metadata": {
        "id": "YG2D30WHsw_j"
      },
      "source": [
        "# Departure time is when a plane leaves the gate. \n",
        "# Similar to Date_of_Journey we can extract values from Dep_Time\n",
        "extract_hour(train_data,'Dep_Time')"
      ],
      "execution_count": 175,
      "outputs": []
    },
    {
      "cell_type": "code",
      "metadata": {
        "id": "iFKGR1jfsw_k"
      },
      "source": [
        "# Extracting Minutes\n",
        "extract_min(train_data,'Dep_Time')"
      ],
      "execution_count": 176,
      "outputs": []
    },
    {
      "cell_type": "code",
      "metadata": {
        "id": "wZKxFu4Psw_k"
      },
      "source": [
        "# Now we can drop Dep_Time as it is of no use\n",
        "drop_column(train_data,'Dep_Time')"
      ],
      "execution_count": 177,
      "outputs": []
    },
    {
      "cell_type": "code",
      "metadata": {
        "id": "omrcsofXsw_l",
        "colab": {
          "base_uri": "https://localhost:8080/",
          "height": 573
        },
        "outputId": "a25ec789-ce4d-4aed-9dd1-4625231d44a2"
      },
      "source": [
        "train_data.head()"
      ],
      "execution_count": 178,
      "outputs": [
        {
          "output_type": "execute_result",
          "data": {
            "text/html": [
              "<div>\n",
              "<style scoped>\n",
              "    .dataframe tbody tr th:only-of-type {\n",
              "        vertical-align: middle;\n",
              "    }\n",
              "\n",
              "    .dataframe tbody tr th {\n",
              "        vertical-align: top;\n",
              "    }\n",
              "\n",
              "    .dataframe thead th {\n",
              "        text-align: right;\n",
              "    }\n",
              "</style>\n",
              "<table border=\"1\" class=\"dataframe\">\n",
              "  <thead>\n",
              "    <tr style=\"text-align: right;\">\n",
              "      <th></th>\n",
              "      <th>Airline</th>\n",
              "      <th>Source</th>\n",
              "      <th>Destination</th>\n",
              "      <th>Route</th>\n",
              "      <th>Arrival_Time</th>\n",
              "      <th>Duration</th>\n",
              "      <th>Total_Stops</th>\n",
              "      <th>Additional_Info</th>\n",
              "      <th>Price</th>\n",
              "      <th>Journey_day</th>\n",
              "      <th>Journey_month</th>\n",
              "      <th>Dep_Time_hour</th>\n",
              "      <th>Dep_Time_minute</th>\n",
              "    </tr>\n",
              "  </thead>\n",
              "  <tbody>\n",
              "    <tr>\n",
              "      <th>0</th>\n",
              "      <td>IndiGo</td>\n",
              "      <td>Banglore</td>\n",
              "      <td>New Delhi</td>\n",
              "      <td>BLR → DEL</td>\n",
              "      <td>2021-03-22 01:10:00</td>\n",
              "      <td>2h 50m</td>\n",
              "      <td>non-stop</td>\n",
              "      <td>No info</td>\n",
              "      <td>3897</td>\n",
              "      <td>24</td>\n",
              "      <td>3</td>\n",
              "      <td>22</td>\n",
              "      <td>20</td>\n",
              "    </tr>\n",
              "    <tr>\n",
              "      <th>1</th>\n",
              "      <td>Air India</td>\n",
              "      <td>Kolkata</td>\n",
              "      <td>Banglore</td>\n",
              "      <td>CCU → IXR → BBI → BLR</td>\n",
              "      <td>2021-09-19 13:15:00</td>\n",
              "      <td>7h 25m</td>\n",
              "      <td>2 stops</td>\n",
              "      <td>No info</td>\n",
              "      <td>7662</td>\n",
              "      <td>5</td>\n",
              "      <td>1</td>\n",
              "      <td>5</td>\n",
              "      <td>50</td>\n",
              "    </tr>\n",
              "    <tr>\n",
              "      <th>2</th>\n",
              "      <td>Jet Airways</td>\n",
              "      <td>Delhi</td>\n",
              "      <td>Cochin</td>\n",
              "      <td>DEL → LKO → BOM → COK</td>\n",
              "      <td>2021-06-10 04:25:00</td>\n",
              "      <td>19h</td>\n",
              "      <td>2 stops</td>\n",
              "      <td>No info</td>\n",
              "      <td>13882</td>\n",
              "      <td>6</td>\n",
              "      <td>9</td>\n",
              "      <td>9</td>\n",
              "      <td>25</td>\n",
              "    </tr>\n",
              "    <tr>\n",
              "      <th>3</th>\n",
              "      <td>IndiGo</td>\n",
              "      <td>Kolkata</td>\n",
              "      <td>Banglore</td>\n",
              "      <td>CCU → NAG → BLR</td>\n",
              "      <td>2021-09-19 23:30:00</td>\n",
              "      <td>5h 25m</td>\n",
              "      <td>1 stop</td>\n",
              "      <td>No info</td>\n",
              "      <td>6218</td>\n",
              "      <td>5</td>\n",
              "      <td>12</td>\n",
              "      <td>18</td>\n",
              "      <td>5</td>\n",
              "    </tr>\n",
              "    <tr>\n",
              "      <th>4</th>\n",
              "      <td>IndiGo</td>\n",
              "      <td>Banglore</td>\n",
              "      <td>New Delhi</td>\n",
              "      <td>BLR → NAG → DEL</td>\n",
              "      <td>2021-09-19 21:35:00</td>\n",
              "      <td>4h 45m</td>\n",
              "      <td>1 stop</td>\n",
              "      <td>No info</td>\n",
              "      <td>13302</td>\n",
              "      <td>3</td>\n",
              "      <td>1</td>\n",
              "      <td>16</td>\n",
              "      <td>50</td>\n",
              "    </tr>\n",
              "  </tbody>\n",
              "</table>\n",
              "</div>"
            ],
            "text/plain": [
              "       Airline    Source Destination                  Route  \\\n",
              "0       IndiGo  Banglore   New Delhi              BLR → DEL   \n",
              "1    Air India   Kolkata    Banglore  CCU → IXR → BBI → BLR   \n",
              "2  Jet Airways     Delhi      Cochin  DEL → LKO → BOM → COK   \n",
              "3       IndiGo   Kolkata    Banglore        CCU → NAG → BLR   \n",
              "4       IndiGo  Banglore   New Delhi        BLR → NAG → DEL   \n",
              "\n",
              "         Arrival_Time Duration Total_Stops Additional_Info  Price  \\\n",
              "0 2021-03-22 01:10:00   2h 50m    non-stop         No info   3897   \n",
              "1 2021-09-19 13:15:00   7h 25m     2 stops         No info   7662   \n",
              "2 2021-06-10 04:25:00      19h     2 stops         No info  13882   \n",
              "3 2021-09-19 23:30:00   5h 25m      1 stop         No info   6218   \n",
              "4 2021-09-19 21:35:00   4h 45m      1 stop         No info  13302   \n",
              "\n",
              "   Journey_day  Journey_month  Dep_Time_hour  Dep_Time_minute  \n",
              "0           24              3             22               20  \n",
              "1            5              1              5               50  \n",
              "2            6              9              9               25  \n",
              "3            5             12             18                5  \n",
              "4            3              1             16               50  "
            ]
          },
          "metadata": {},
          "execution_count": 178
        }
      ]
    },
    {
      "cell_type": "code",
      "metadata": {
        "id": "CRTwLCANsw_m"
      },
      "source": [
        ""
      ],
      "execution_count": 178,
      "outputs": []
    },
    {
      "cell_type": "code",
      "metadata": {
        "id": "V2xvwsLDsw_p"
      },
      "source": [
        "# Arrival time is when the plane pulls up to the gate.\n",
        "# Similar to Date_of_Journey we can extract values from Arrival_Time\n",
        "\n",
        "# Extracting Hours\n",
        "extract_hour(train_data,'Arrival_Time')\n",
        "\n",
        "# Extracting minutes\n",
        "extract_min(train_data,'Arrival_Time')\n",
        "\n",
        "# Now we can drop Arrival_Time as it is of no use\n",
        "drop_column(train_data,'Arrival_Time')"
      ],
      "execution_count": 179,
      "outputs": []
    },
    {
      "cell_type": "code",
      "metadata": {
        "id": "_xjYK9B2sw_q",
        "colab": {
          "base_uri": "https://localhost:8080/",
          "height": 573
        },
        "outputId": "08c54dc8-246a-4c40-b6a8-a2efd250b51a"
      },
      "source": [
        "train_data.head()"
      ],
      "execution_count": 180,
      "outputs": [
        {
          "output_type": "execute_result",
          "data": {
            "text/html": [
              "<div>\n",
              "<style scoped>\n",
              "    .dataframe tbody tr th:only-of-type {\n",
              "        vertical-align: middle;\n",
              "    }\n",
              "\n",
              "    .dataframe tbody tr th {\n",
              "        vertical-align: top;\n",
              "    }\n",
              "\n",
              "    .dataframe thead th {\n",
              "        text-align: right;\n",
              "    }\n",
              "</style>\n",
              "<table border=\"1\" class=\"dataframe\">\n",
              "  <thead>\n",
              "    <tr style=\"text-align: right;\">\n",
              "      <th></th>\n",
              "      <th>Airline</th>\n",
              "      <th>Source</th>\n",
              "      <th>Destination</th>\n",
              "      <th>Route</th>\n",
              "      <th>Duration</th>\n",
              "      <th>Total_Stops</th>\n",
              "      <th>Additional_Info</th>\n",
              "      <th>Price</th>\n",
              "      <th>Journey_day</th>\n",
              "      <th>Journey_month</th>\n",
              "      <th>Dep_Time_hour</th>\n",
              "      <th>Dep_Time_minute</th>\n",
              "      <th>Arrival_Time_hour</th>\n",
              "      <th>Arrival_Time_minute</th>\n",
              "    </tr>\n",
              "  </thead>\n",
              "  <tbody>\n",
              "    <tr>\n",
              "      <th>0</th>\n",
              "      <td>IndiGo</td>\n",
              "      <td>Banglore</td>\n",
              "      <td>New Delhi</td>\n",
              "      <td>BLR → DEL</td>\n",
              "      <td>2h 50m</td>\n",
              "      <td>non-stop</td>\n",
              "      <td>No info</td>\n",
              "      <td>3897</td>\n",
              "      <td>24</td>\n",
              "      <td>3</td>\n",
              "      <td>22</td>\n",
              "      <td>20</td>\n",
              "      <td>1</td>\n",
              "      <td>10</td>\n",
              "    </tr>\n",
              "    <tr>\n",
              "      <th>1</th>\n",
              "      <td>Air India</td>\n",
              "      <td>Kolkata</td>\n",
              "      <td>Banglore</td>\n",
              "      <td>CCU → IXR → BBI → BLR</td>\n",
              "      <td>7h 25m</td>\n",
              "      <td>2 stops</td>\n",
              "      <td>No info</td>\n",
              "      <td>7662</td>\n",
              "      <td>5</td>\n",
              "      <td>1</td>\n",
              "      <td>5</td>\n",
              "      <td>50</td>\n",
              "      <td>13</td>\n",
              "      <td>15</td>\n",
              "    </tr>\n",
              "    <tr>\n",
              "      <th>2</th>\n",
              "      <td>Jet Airways</td>\n",
              "      <td>Delhi</td>\n",
              "      <td>Cochin</td>\n",
              "      <td>DEL → LKO → BOM → COK</td>\n",
              "      <td>19h</td>\n",
              "      <td>2 stops</td>\n",
              "      <td>No info</td>\n",
              "      <td>13882</td>\n",
              "      <td>6</td>\n",
              "      <td>9</td>\n",
              "      <td>9</td>\n",
              "      <td>25</td>\n",
              "      <td>4</td>\n",
              "      <td>25</td>\n",
              "    </tr>\n",
              "    <tr>\n",
              "      <th>3</th>\n",
              "      <td>IndiGo</td>\n",
              "      <td>Kolkata</td>\n",
              "      <td>Banglore</td>\n",
              "      <td>CCU → NAG → BLR</td>\n",
              "      <td>5h 25m</td>\n",
              "      <td>1 stop</td>\n",
              "      <td>No info</td>\n",
              "      <td>6218</td>\n",
              "      <td>5</td>\n",
              "      <td>12</td>\n",
              "      <td>18</td>\n",
              "      <td>5</td>\n",
              "      <td>23</td>\n",
              "      <td>30</td>\n",
              "    </tr>\n",
              "    <tr>\n",
              "      <th>4</th>\n",
              "      <td>IndiGo</td>\n",
              "      <td>Banglore</td>\n",
              "      <td>New Delhi</td>\n",
              "      <td>BLR → NAG → DEL</td>\n",
              "      <td>4h 45m</td>\n",
              "      <td>1 stop</td>\n",
              "      <td>No info</td>\n",
              "      <td>13302</td>\n",
              "      <td>3</td>\n",
              "      <td>1</td>\n",
              "      <td>16</td>\n",
              "      <td>50</td>\n",
              "      <td>21</td>\n",
              "      <td>35</td>\n",
              "    </tr>\n",
              "  </tbody>\n",
              "</table>\n",
              "</div>"
            ],
            "text/plain": [
              "       Airline    Source Destination                  Route Duration  \\\n",
              "0       IndiGo  Banglore   New Delhi              BLR → DEL   2h 50m   \n",
              "1    Air India   Kolkata    Banglore  CCU → IXR → BBI → BLR   7h 25m   \n",
              "2  Jet Airways     Delhi      Cochin  DEL → LKO → BOM → COK      19h   \n",
              "3       IndiGo   Kolkata    Banglore        CCU → NAG → BLR   5h 25m   \n",
              "4       IndiGo  Banglore   New Delhi        BLR → NAG → DEL   4h 45m   \n",
              "\n",
              "  Total_Stops Additional_Info  Price  Journey_day  Journey_month  \\\n",
              "0    non-stop         No info   3897           24              3   \n",
              "1     2 stops         No info   7662            5              1   \n",
              "2     2 stops         No info  13882            6              9   \n",
              "3      1 stop         No info   6218            5             12   \n",
              "4      1 stop         No info  13302            3              1   \n",
              "\n",
              "   Dep_Time_hour  Dep_Time_minute  Arrival_Time_hour  Arrival_Time_minute  \n",
              "0             22               20                  1                   10  \n",
              "1              5               50                 13                   15  \n",
              "2              9               25                  4                   25  \n",
              "3             18                5                 23                   30  \n",
              "4             16               50                 21                   35  "
            ]
          },
          "metadata": {},
          "execution_count": 180
        }
      ]
    },
    {
      "cell_type": "code",
      "metadata": {
        "id": "BNO8slYMsw_s"
      },
      "source": [
        ""
      ],
      "execution_count": 180,
      "outputs": []
    },
    {
      "cell_type": "code",
      "metadata": {
        "id": "-zgUiPi3sw_s",
        "colab": {
          "base_uri": "https://localhost:8080/"
        },
        "outputId": "95ad7874-4bab-4c96-e527-0f5264a1bd2b"
      },
      "source": [
        "'2h 50m'.split(' ')"
      ],
      "execution_count": 181,
      "outputs": [
        {
          "output_type": "execute_result",
          "data": {
            "text/plain": [
              "['2h', '50m']"
            ]
          },
          "metadata": {},
          "execution_count": 181
        }
      ]
    },
    {
      "cell_type": "code",
      "metadata": {
        "id": "_82UMOyLsw_t"
      },
      "source": [
        ""
      ],
      "execution_count": 181,
      "outputs": []
    },
    {
      "cell_type": "markdown",
      "metadata": {
        "id": "LUZN71D_sw_u"
      },
      "source": [
        "#### Lets Apply pre-processing on duration column,Separate Duration hours and minute from duration"
      ]
    },
    {
      "cell_type": "code",
      "metadata": {
        "id": "7-S7l_lYsw_v"
      },
      "source": [
        "duration=list(train_data['Duration'])\n",
        "\n",
        "for i in range(len(duration)):\n",
        "    if len(duration[i].split(' '))==2:\n",
        "        pass\n",
        "    else:\n",
        "        if 'h' in duration[i]:                   # Check if duration contains only hour\n",
        "            duration[i]=duration[i] + ' 0m'      # Adds 0 minute\n",
        "        else:\n",
        "            duration[i]='0h '+ duration[i]       # if duration contains only second, Adds 0 hour\n",
        "    "
      ],
      "execution_count": 182,
      "outputs": []
    },
    {
      "cell_type": "code",
      "metadata": {
        "id": "gtkoGzKssw_7"
      },
      "source": [
        "train_data['Duration']=duration"
      ],
      "execution_count": 183,
      "outputs": []
    },
    {
      "cell_type": "code",
      "metadata": {
        "id": "F4coVJjusw_8",
        "colab": {
          "base_uri": "https://localhost:8080/",
          "height": 573
        },
        "outputId": "fc29bb85-137e-494d-8b7e-9269972a1120"
      },
      "source": [
        "train_data.head()"
      ],
      "execution_count": 184,
      "outputs": [
        {
          "output_type": "execute_result",
          "data": {
            "text/html": [
              "<div>\n",
              "<style scoped>\n",
              "    .dataframe tbody tr th:only-of-type {\n",
              "        vertical-align: middle;\n",
              "    }\n",
              "\n",
              "    .dataframe tbody tr th {\n",
              "        vertical-align: top;\n",
              "    }\n",
              "\n",
              "    .dataframe thead th {\n",
              "        text-align: right;\n",
              "    }\n",
              "</style>\n",
              "<table border=\"1\" class=\"dataframe\">\n",
              "  <thead>\n",
              "    <tr style=\"text-align: right;\">\n",
              "      <th></th>\n",
              "      <th>Airline</th>\n",
              "      <th>Source</th>\n",
              "      <th>Destination</th>\n",
              "      <th>Route</th>\n",
              "      <th>Duration</th>\n",
              "      <th>Total_Stops</th>\n",
              "      <th>Additional_Info</th>\n",
              "      <th>Price</th>\n",
              "      <th>Journey_day</th>\n",
              "      <th>Journey_month</th>\n",
              "      <th>Dep_Time_hour</th>\n",
              "      <th>Dep_Time_minute</th>\n",
              "      <th>Arrival_Time_hour</th>\n",
              "      <th>Arrival_Time_minute</th>\n",
              "    </tr>\n",
              "  </thead>\n",
              "  <tbody>\n",
              "    <tr>\n",
              "      <th>0</th>\n",
              "      <td>IndiGo</td>\n",
              "      <td>Banglore</td>\n",
              "      <td>New Delhi</td>\n",
              "      <td>BLR → DEL</td>\n",
              "      <td>2h 50m</td>\n",
              "      <td>non-stop</td>\n",
              "      <td>No info</td>\n",
              "      <td>3897</td>\n",
              "      <td>24</td>\n",
              "      <td>3</td>\n",
              "      <td>22</td>\n",
              "      <td>20</td>\n",
              "      <td>1</td>\n",
              "      <td>10</td>\n",
              "    </tr>\n",
              "    <tr>\n",
              "      <th>1</th>\n",
              "      <td>Air India</td>\n",
              "      <td>Kolkata</td>\n",
              "      <td>Banglore</td>\n",
              "      <td>CCU → IXR → BBI → BLR</td>\n",
              "      <td>7h 25m</td>\n",
              "      <td>2 stops</td>\n",
              "      <td>No info</td>\n",
              "      <td>7662</td>\n",
              "      <td>5</td>\n",
              "      <td>1</td>\n",
              "      <td>5</td>\n",
              "      <td>50</td>\n",
              "      <td>13</td>\n",
              "      <td>15</td>\n",
              "    </tr>\n",
              "    <tr>\n",
              "      <th>2</th>\n",
              "      <td>Jet Airways</td>\n",
              "      <td>Delhi</td>\n",
              "      <td>Cochin</td>\n",
              "      <td>DEL → LKO → BOM → COK</td>\n",
              "      <td>19h 0m</td>\n",
              "      <td>2 stops</td>\n",
              "      <td>No info</td>\n",
              "      <td>13882</td>\n",
              "      <td>6</td>\n",
              "      <td>9</td>\n",
              "      <td>9</td>\n",
              "      <td>25</td>\n",
              "      <td>4</td>\n",
              "      <td>25</td>\n",
              "    </tr>\n",
              "    <tr>\n",
              "      <th>3</th>\n",
              "      <td>IndiGo</td>\n",
              "      <td>Kolkata</td>\n",
              "      <td>Banglore</td>\n",
              "      <td>CCU → NAG → BLR</td>\n",
              "      <td>5h 25m</td>\n",
              "      <td>1 stop</td>\n",
              "      <td>No info</td>\n",
              "      <td>6218</td>\n",
              "      <td>5</td>\n",
              "      <td>12</td>\n",
              "      <td>18</td>\n",
              "      <td>5</td>\n",
              "      <td>23</td>\n",
              "      <td>30</td>\n",
              "    </tr>\n",
              "    <tr>\n",
              "      <th>4</th>\n",
              "      <td>IndiGo</td>\n",
              "      <td>Banglore</td>\n",
              "      <td>New Delhi</td>\n",
              "      <td>BLR → NAG → DEL</td>\n",
              "      <td>4h 45m</td>\n",
              "      <td>1 stop</td>\n",
              "      <td>No info</td>\n",
              "      <td>13302</td>\n",
              "      <td>3</td>\n",
              "      <td>1</td>\n",
              "      <td>16</td>\n",
              "      <td>50</td>\n",
              "      <td>21</td>\n",
              "      <td>35</td>\n",
              "    </tr>\n",
              "  </tbody>\n",
              "</table>\n",
              "</div>"
            ],
            "text/plain": [
              "       Airline    Source Destination                  Route Duration  \\\n",
              "0       IndiGo  Banglore   New Delhi              BLR → DEL   2h 50m   \n",
              "1    Air India   Kolkata    Banglore  CCU → IXR → BBI → BLR   7h 25m   \n",
              "2  Jet Airways     Delhi      Cochin  DEL → LKO → BOM → COK   19h 0m   \n",
              "3       IndiGo   Kolkata    Banglore        CCU → NAG → BLR   5h 25m   \n",
              "4       IndiGo  Banglore   New Delhi        BLR → NAG → DEL   4h 45m   \n",
              "\n",
              "  Total_Stops Additional_Info  Price  Journey_day  Journey_month  \\\n",
              "0    non-stop         No info   3897           24              3   \n",
              "1     2 stops         No info   7662            5              1   \n",
              "2     2 stops         No info  13882            6              9   \n",
              "3      1 stop         No info   6218            5             12   \n",
              "4      1 stop         No info  13302            3              1   \n",
              "\n",
              "   Dep_Time_hour  Dep_Time_minute  Arrival_Time_hour  Arrival_Time_minute  \n",
              "0             22               20                  1                   10  \n",
              "1              5               50                 13                   15  \n",
              "2              9               25                  4                   25  \n",
              "3             18                5                 23                   30  \n",
              "4             16               50                 21                   35  "
            ]
          },
          "metadata": {},
          "execution_count": 184
        }
      ]
    },
    {
      "cell_type": "code",
      "metadata": {
        "id": "_diOWJ_Ysw_9",
        "colab": {
          "base_uri": "https://localhost:8080/",
          "height": 36
        },
        "outputId": "73228bcd-0416-4984-f60f-1d6f654c2fc9"
      },
      "source": [
        "'2h 50m'.split(' ')[1][0:-1]"
      ],
      "execution_count": 185,
      "outputs": [
        {
          "output_type": "execute_result",
          "data": {
            "application/vnd.google.colaboratory.intrinsic+json": {
              "type": "string"
            },
            "text/plain": [
              "'50'"
            ]
          },
          "metadata": {},
          "execution_count": 185
        }
      ]
    },
    {
      "cell_type": "code",
      "metadata": {
        "id": "DYG04SqmsxAC"
      },
      "source": [
        ""
      ],
      "execution_count": 185,
      "outputs": []
    },
    {
      "cell_type": "code",
      "metadata": {
        "id": "uiDCZxcgsxAE"
      },
      "source": [
        "def hour(x):\n",
        "    return x.split(' ')[0][0:-1]\n"
      ],
      "execution_count": 186,
      "outputs": []
    },
    {
      "cell_type": "code",
      "metadata": {
        "id": "K3SvFTjYsxAK"
      },
      "source": [
        "def min(x):\n",
        "    return x.split(' ')[1][0:-1]"
      ],
      "execution_count": 187,
      "outputs": []
    },
    {
      "cell_type": "code",
      "metadata": {
        "id": "eDfwIfOtsxAN"
      },
      "source": [
        "train_data['Duration_hours']=train_data['Duration'].apply(hour)\n",
        "train_data['Duration_mins']=train_data['Duration'].apply(min)"
      ],
      "execution_count": 188,
      "outputs": []
    },
    {
      "cell_type": "code",
      "metadata": {
        "id": "bpH9lixssxAR",
        "colab": {
          "base_uri": "https://localhost:8080/",
          "height": 573
        },
        "outputId": "f2732798-5401-423b-ec94-47930947325d"
      },
      "source": [
        "train_data.head()"
      ],
      "execution_count": 189,
      "outputs": [
        {
          "output_type": "execute_result",
          "data": {
            "text/html": [
              "<div>\n",
              "<style scoped>\n",
              "    .dataframe tbody tr th:only-of-type {\n",
              "        vertical-align: middle;\n",
              "    }\n",
              "\n",
              "    .dataframe tbody tr th {\n",
              "        vertical-align: top;\n",
              "    }\n",
              "\n",
              "    .dataframe thead th {\n",
              "        text-align: right;\n",
              "    }\n",
              "</style>\n",
              "<table border=\"1\" class=\"dataframe\">\n",
              "  <thead>\n",
              "    <tr style=\"text-align: right;\">\n",
              "      <th></th>\n",
              "      <th>Airline</th>\n",
              "      <th>Source</th>\n",
              "      <th>Destination</th>\n",
              "      <th>Route</th>\n",
              "      <th>Duration</th>\n",
              "      <th>Total_Stops</th>\n",
              "      <th>Additional_Info</th>\n",
              "      <th>Price</th>\n",
              "      <th>Journey_day</th>\n",
              "      <th>Journey_month</th>\n",
              "      <th>Dep_Time_hour</th>\n",
              "      <th>Dep_Time_minute</th>\n",
              "      <th>Arrival_Time_hour</th>\n",
              "      <th>Arrival_Time_minute</th>\n",
              "      <th>Duration_hours</th>\n",
              "      <th>Duration_mins</th>\n",
              "    </tr>\n",
              "  </thead>\n",
              "  <tbody>\n",
              "    <tr>\n",
              "      <th>0</th>\n",
              "      <td>IndiGo</td>\n",
              "      <td>Banglore</td>\n",
              "      <td>New Delhi</td>\n",
              "      <td>BLR → DEL</td>\n",
              "      <td>2h 50m</td>\n",
              "      <td>non-stop</td>\n",
              "      <td>No info</td>\n",
              "      <td>3897</td>\n",
              "      <td>24</td>\n",
              "      <td>3</td>\n",
              "      <td>22</td>\n",
              "      <td>20</td>\n",
              "      <td>1</td>\n",
              "      <td>10</td>\n",
              "      <td>2</td>\n",
              "      <td>50</td>\n",
              "    </tr>\n",
              "    <tr>\n",
              "      <th>1</th>\n",
              "      <td>Air India</td>\n",
              "      <td>Kolkata</td>\n",
              "      <td>Banglore</td>\n",
              "      <td>CCU → IXR → BBI → BLR</td>\n",
              "      <td>7h 25m</td>\n",
              "      <td>2 stops</td>\n",
              "      <td>No info</td>\n",
              "      <td>7662</td>\n",
              "      <td>5</td>\n",
              "      <td>1</td>\n",
              "      <td>5</td>\n",
              "      <td>50</td>\n",
              "      <td>13</td>\n",
              "      <td>15</td>\n",
              "      <td>7</td>\n",
              "      <td>25</td>\n",
              "    </tr>\n",
              "    <tr>\n",
              "      <th>2</th>\n",
              "      <td>Jet Airways</td>\n",
              "      <td>Delhi</td>\n",
              "      <td>Cochin</td>\n",
              "      <td>DEL → LKO → BOM → COK</td>\n",
              "      <td>19h 0m</td>\n",
              "      <td>2 stops</td>\n",
              "      <td>No info</td>\n",
              "      <td>13882</td>\n",
              "      <td>6</td>\n",
              "      <td>9</td>\n",
              "      <td>9</td>\n",
              "      <td>25</td>\n",
              "      <td>4</td>\n",
              "      <td>25</td>\n",
              "      <td>19</td>\n",
              "      <td>0</td>\n",
              "    </tr>\n",
              "    <tr>\n",
              "      <th>3</th>\n",
              "      <td>IndiGo</td>\n",
              "      <td>Kolkata</td>\n",
              "      <td>Banglore</td>\n",
              "      <td>CCU → NAG → BLR</td>\n",
              "      <td>5h 25m</td>\n",
              "      <td>1 stop</td>\n",
              "      <td>No info</td>\n",
              "      <td>6218</td>\n",
              "      <td>5</td>\n",
              "      <td>12</td>\n",
              "      <td>18</td>\n",
              "      <td>5</td>\n",
              "      <td>23</td>\n",
              "      <td>30</td>\n",
              "      <td>5</td>\n",
              "      <td>25</td>\n",
              "    </tr>\n",
              "    <tr>\n",
              "      <th>4</th>\n",
              "      <td>IndiGo</td>\n",
              "      <td>Banglore</td>\n",
              "      <td>New Delhi</td>\n",
              "      <td>BLR → NAG → DEL</td>\n",
              "      <td>4h 45m</td>\n",
              "      <td>1 stop</td>\n",
              "      <td>No info</td>\n",
              "      <td>13302</td>\n",
              "      <td>3</td>\n",
              "      <td>1</td>\n",
              "      <td>16</td>\n",
              "      <td>50</td>\n",
              "      <td>21</td>\n",
              "      <td>35</td>\n",
              "      <td>4</td>\n",
              "      <td>45</td>\n",
              "    </tr>\n",
              "  </tbody>\n",
              "</table>\n",
              "</div>"
            ],
            "text/plain": [
              "       Airline    Source Destination                  Route Duration  \\\n",
              "0       IndiGo  Banglore   New Delhi              BLR → DEL   2h 50m   \n",
              "1    Air India   Kolkata    Banglore  CCU → IXR → BBI → BLR   7h 25m   \n",
              "2  Jet Airways     Delhi      Cochin  DEL → LKO → BOM → COK   19h 0m   \n",
              "3       IndiGo   Kolkata    Banglore        CCU → NAG → BLR   5h 25m   \n",
              "4       IndiGo  Banglore   New Delhi        BLR → NAG → DEL   4h 45m   \n",
              "\n",
              "  Total_Stops Additional_Info  Price  Journey_day  Journey_month  \\\n",
              "0    non-stop         No info   3897           24              3   \n",
              "1     2 stops         No info   7662            5              1   \n",
              "2     2 stops         No info  13882            6              9   \n",
              "3      1 stop         No info   6218            5             12   \n",
              "4      1 stop         No info  13302            3              1   \n",
              "\n",
              "   Dep_Time_hour  Dep_Time_minute  Arrival_Time_hour  Arrival_Time_minute  \\\n",
              "0             22               20                  1                   10   \n",
              "1              5               50                 13                   15   \n",
              "2              9               25                  4                   25   \n",
              "3             18                5                 23                   30   \n",
              "4             16               50                 21                   35   \n",
              "\n",
              "  Duration_hours Duration_mins  \n",
              "0              2            50  \n",
              "1              7            25  \n",
              "2             19             0  \n",
              "3              5            25  \n",
              "4              4            45  "
            ]
          },
          "metadata": {},
          "execution_count": 189
        }
      ]
    },
    {
      "cell_type": "code",
      "metadata": {
        "id": "aUR_US4RsxAT"
      },
      "source": [
        "train_data.drop('Duration',axis=1,inplace=True)"
      ],
      "execution_count": 190,
      "outputs": []
    },
    {
      "cell_type": "code",
      "metadata": {
        "id": "RVjv6bDmsxAW",
        "colab": {
          "base_uri": "https://localhost:8080/",
          "height": 573
        },
        "outputId": "c98c0150-6687-41c5-f24f-61db45b0462a"
      },
      "source": [
        "train_data.head()"
      ],
      "execution_count": 191,
      "outputs": [
        {
          "output_type": "execute_result",
          "data": {
            "text/html": [
              "<div>\n",
              "<style scoped>\n",
              "    .dataframe tbody tr th:only-of-type {\n",
              "        vertical-align: middle;\n",
              "    }\n",
              "\n",
              "    .dataframe tbody tr th {\n",
              "        vertical-align: top;\n",
              "    }\n",
              "\n",
              "    .dataframe thead th {\n",
              "        text-align: right;\n",
              "    }\n",
              "</style>\n",
              "<table border=\"1\" class=\"dataframe\">\n",
              "  <thead>\n",
              "    <tr style=\"text-align: right;\">\n",
              "      <th></th>\n",
              "      <th>Airline</th>\n",
              "      <th>Source</th>\n",
              "      <th>Destination</th>\n",
              "      <th>Route</th>\n",
              "      <th>Total_Stops</th>\n",
              "      <th>Additional_Info</th>\n",
              "      <th>Price</th>\n",
              "      <th>Journey_day</th>\n",
              "      <th>Journey_month</th>\n",
              "      <th>Dep_Time_hour</th>\n",
              "      <th>Dep_Time_minute</th>\n",
              "      <th>Arrival_Time_hour</th>\n",
              "      <th>Arrival_Time_minute</th>\n",
              "      <th>Duration_hours</th>\n",
              "      <th>Duration_mins</th>\n",
              "    </tr>\n",
              "  </thead>\n",
              "  <tbody>\n",
              "    <tr>\n",
              "      <th>0</th>\n",
              "      <td>IndiGo</td>\n",
              "      <td>Banglore</td>\n",
              "      <td>New Delhi</td>\n",
              "      <td>BLR → DEL</td>\n",
              "      <td>non-stop</td>\n",
              "      <td>No info</td>\n",
              "      <td>3897</td>\n",
              "      <td>24</td>\n",
              "      <td>3</td>\n",
              "      <td>22</td>\n",
              "      <td>20</td>\n",
              "      <td>1</td>\n",
              "      <td>10</td>\n",
              "      <td>2</td>\n",
              "      <td>50</td>\n",
              "    </tr>\n",
              "    <tr>\n",
              "      <th>1</th>\n",
              "      <td>Air India</td>\n",
              "      <td>Kolkata</td>\n",
              "      <td>Banglore</td>\n",
              "      <td>CCU → IXR → BBI → BLR</td>\n",
              "      <td>2 stops</td>\n",
              "      <td>No info</td>\n",
              "      <td>7662</td>\n",
              "      <td>5</td>\n",
              "      <td>1</td>\n",
              "      <td>5</td>\n",
              "      <td>50</td>\n",
              "      <td>13</td>\n",
              "      <td>15</td>\n",
              "      <td>7</td>\n",
              "      <td>25</td>\n",
              "    </tr>\n",
              "    <tr>\n",
              "      <th>2</th>\n",
              "      <td>Jet Airways</td>\n",
              "      <td>Delhi</td>\n",
              "      <td>Cochin</td>\n",
              "      <td>DEL → LKO → BOM → COK</td>\n",
              "      <td>2 stops</td>\n",
              "      <td>No info</td>\n",
              "      <td>13882</td>\n",
              "      <td>6</td>\n",
              "      <td>9</td>\n",
              "      <td>9</td>\n",
              "      <td>25</td>\n",
              "      <td>4</td>\n",
              "      <td>25</td>\n",
              "      <td>19</td>\n",
              "      <td>0</td>\n",
              "    </tr>\n",
              "    <tr>\n",
              "      <th>3</th>\n",
              "      <td>IndiGo</td>\n",
              "      <td>Kolkata</td>\n",
              "      <td>Banglore</td>\n",
              "      <td>CCU → NAG → BLR</td>\n",
              "      <td>1 stop</td>\n",
              "      <td>No info</td>\n",
              "      <td>6218</td>\n",
              "      <td>5</td>\n",
              "      <td>12</td>\n",
              "      <td>18</td>\n",
              "      <td>5</td>\n",
              "      <td>23</td>\n",
              "      <td>30</td>\n",
              "      <td>5</td>\n",
              "      <td>25</td>\n",
              "    </tr>\n",
              "    <tr>\n",
              "      <th>4</th>\n",
              "      <td>IndiGo</td>\n",
              "      <td>Banglore</td>\n",
              "      <td>New Delhi</td>\n",
              "      <td>BLR → NAG → DEL</td>\n",
              "      <td>1 stop</td>\n",
              "      <td>No info</td>\n",
              "      <td>13302</td>\n",
              "      <td>3</td>\n",
              "      <td>1</td>\n",
              "      <td>16</td>\n",
              "      <td>50</td>\n",
              "      <td>21</td>\n",
              "      <td>35</td>\n",
              "      <td>4</td>\n",
              "      <td>45</td>\n",
              "    </tr>\n",
              "  </tbody>\n",
              "</table>\n",
              "</div>"
            ],
            "text/plain": [
              "       Airline    Source Destination                  Route Total_Stops  \\\n",
              "0       IndiGo  Banglore   New Delhi              BLR → DEL    non-stop   \n",
              "1    Air India   Kolkata    Banglore  CCU → IXR → BBI → BLR     2 stops   \n",
              "2  Jet Airways     Delhi      Cochin  DEL → LKO → BOM → COK     2 stops   \n",
              "3       IndiGo   Kolkata    Banglore        CCU → NAG → BLR      1 stop   \n",
              "4       IndiGo  Banglore   New Delhi        BLR → NAG → DEL      1 stop   \n",
              "\n",
              "  Additional_Info  Price  Journey_day  Journey_month  Dep_Time_hour  \\\n",
              "0         No info   3897           24              3             22   \n",
              "1         No info   7662            5              1              5   \n",
              "2         No info  13882            6              9              9   \n",
              "3         No info   6218            5             12             18   \n",
              "4         No info  13302            3              1             16   \n",
              "\n",
              "   Dep_Time_minute  Arrival_Time_hour  Arrival_Time_minute Duration_hours  \\\n",
              "0               20                  1                   10              2   \n",
              "1               50                 13                   15              7   \n",
              "2               25                  4                   25             19   \n",
              "3                5                 23                   30              5   \n",
              "4               50                 21                   35              4   \n",
              "\n",
              "  Duration_mins  \n",
              "0            50  \n",
              "1            25  \n",
              "2             0  \n",
              "3            25  \n",
              "4            45  "
            ]
          },
          "metadata": {},
          "execution_count": 191
        }
      ]
    },
    {
      "cell_type": "code",
      "metadata": {
        "id": "8ri2SOGtsxAY",
        "colab": {
          "base_uri": "https://localhost:8080/"
        },
        "outputId": "490943e9-8289-439a-f4aa-0cc8e3d8f2b9"
      },
      "source": [
        "train_data.dtypes"
      ],
      "execution_count": 192,
      "outputs": [
        {
          "output_type": "execute_result",
          "data": {
            "text/plain": [
              "Airline                object\n",
              "Source                 object\n",
              "Destination            object\n",
              "Route                  object\n",
              "Total_Stops            object\n",
              "Additional_Info        object\n",
              "Price                   int64\n",
              "Journey_day             int64\n",
              "Journey_month           int64\n",
              "Dep_Time_hour           int64\n",
              "Dep_Time_minute         int64\n",
              "Arrival_Time_hour       int64\n",
              "Arrival_Time_minute     int64\n",
              "Duration_hours         object\n",
              "Duration_mins          object\n",
              "dtype: object"
            ]
          },
          "metadata": {},
          "execution_count": 192
        }
      ]
    },
    {
      "cell_type": "code",
      "metadata": {
        "id": "T5IWL5EBsxAc"
      },
      "source": [
        "train_data['Duration_hours']=train_data['Duration_hours'].astype(int)\n",
        "train_data['Duration_mins']=train_data['Duration_mins'].astype(int)"
      ],
      "execution_count": 193,
      "outputs": []
    },
    {
      "cell_type": "code",
      "metadata": {
        "id": "AjJ9vwkUsxAd",
        "colab": {
          "base_uri": "https://localhost:8080/"
        },
        "outputId": "d04f7831-6a58-4c94-988c-71938b9fff4d"
      },
      "source": [
        "train_data.dtypes"
      ],
      "execution_count": 194,
      "outputs": [
        {
          "output_type": "execute_result",
          "data": {
            "text/plain": [
              "Airline                object\n",
              "Source                 object\n",
              "Destination            object\n",
              "Route                  object\n",
              "Total_Stops            object\n",
              "Additional_Info        object\n",
              "Price                   int64\n",
              "Journey_day             int64\n",
              "Journey_month           int64\n",
              "Dep_Time_hour           int64\n",
              "Dep_Time_minute         int64\n",
              "Arrival_Time_hour       int64\n",
              "Arrival_Time_minute     int64\n",
              "Duration_hours          int64\n",
              "Duration_mins           int64\n",
              "dtype: object"
            ]
          },
          "metadata": {},
          "execution_count": 194
        }
      ]
    },
    {
      "cell_type": "code",
      "metadata": {
        "id": "DBlUNn1DsxAe",
        "colab": {
          "base_uri": "https://localhost:8080/",
          "height": 573
        },
        "outputId": "e3f37a41-9efa-4e60-8c2d-e01c0c48c2ca"
      },
      "source": [
        "train_data.head()"
      ],
      "execution_count": 195,
      "outputs": [
        {
          "output_type": "execute_result",
          "data": {
            "text/html": [
              "<div>\n",
              "<style scoped>\n",
              "    .dataframe tbody tr th:only-of-type {\n",
              "        vertical-align: middle;\n",
              "    }\n",
              "\n",
              "    .dataframe tbody tr th {\n",
              "        vertical-align: top;\n",
              "    }\n",
              "\n",
              "    .dataframe thead th {\n",
              "        text-align: right;\n",
              "    }\n",
              "</style>\n",
              "<table border=\"1\" class=\"dataframe\">\n",
              "  <thead>\n",
              "    <tr style=\"text-align: right;\">\n",
              "      <th></th>\n",
              "      <th>Airline</th>\n",
              "      <th>Source</th>\n",
              "      <th>Destination</th>\n",
              "      <th>Route</th>\n",
              "      <th>Total_Stops</th>\n",
              "      <th>Additional_Info</th>\n",
              "      <th>Price</th>\n",
              "      <th>Journey_day</th>\n",
              "      <th>Journey_month</th>\n",
              "      <th>Dep_Time_hour</th>\n",
              "      <th>Dep_Time_minute</th>\n",
              "      <th>Arrival_Time_hour</th>\n",
              "      <th>Arrival_Time_minute</th>\n",
              "      <th>Duration_hours</th>\n",
              "      <th>Duration_mins</th>\n",
              "    </tr>\n",
              "  </thead>\n",
              "  <tbody>\n",
              "    <tr>\n",
              "      <th>0</th>\n",
              "      <td>IndiGo</td>\n",
              "      <td>Banglore</td>\n",
              "      <td>New Delhi</td>\n",
              "      <td>BLR → DEL</td>\n",
              "      <td>non-stop</td>\n",
              "      <td>No info</td>\n",
              "      <td>3897</td>\n",
              "      <td>24</td>\n",
              "      <td>3</td>\n",
              "      <td>22</td>\n",
              "      <td>20</td>\n",
              "      <td>1</td>\n",
              "      <td>10</td>\n",
              "      <td>2</td>\n",
              "      <td>50</td>\n",
              "    </tr>\n",
              "    <tr>\n",
              "      <th>1</th>\n",
              "      <td>Air India</td>\n",
              "      <td>Kolkata</td>\n",
              "      <td>Banglore</td>\n",
              "      <td>CCU → IXR → BBI → BLR</td>\n",
              "      <td>2 stops</td>\n",
              "      <td>No info</td>\n",
              "      <td>7662</td>\n",
              "      <td>5</td>\n",
              "      <td>1</td>\n",
              "      <td>5</td>\n",
              "      <td>50</td>\n",
              "      <td>13</td>\n",
              "      <td>15</td>\n",
              "      <td>7</td>\n",
              "      <td>25</td>\n",
              "    </tr>\n",
              "    <tr>\n",
              "      <th>2</th>\n",
              "      <td>Jet Airways</td>\n",
              "      <td>Delhi</td>\n",
              "      <td>Cochin</td>\n",
              "      <td>DEL → LKO → BOM → COK</td>\n",
              "      <td>2 stops</td>\n",
              "      <td>No info</td>\n",
              "      <td>13882</td>\n",
              "      <td>6</td>\n",
              "      <td>9</td>\n",
              "      <td>9</td>\n",
              "      <td>25</td>\n",
              "      <td>4</td>\n",
              "      <td>25</td>\n",
              "      <td>19</td>\n",
              "      <td>0</td>\n",
              "    </tr>\n",
              "    <tr>\n",
              "      <th>3</th>\n",
              "      <td>IndiGo</td>\n",
              "      <td>Kolkata</td>\n",
              "      <td>Banglore</td>\n",
              "      <td>CCU → NAG → BLR</td>\n",
              "      <td>1 stop</td>\n",
              "      <td>No info</td>\n",
              "      <td>6218</td>\n",
              "      <td>5</td>\n",
              "      <td>12</td>\n",
              "      <td>18</td>\n",
              "      <td>5</td>\n",
              "      <td>23</td>\n",
              "      <td>30</td>\n",
              "      <td>5</td>\n",
              "      <td>25</td>\n",
              "    </tr>\n",
              "    <tr>\n",
              "      <th>4</th>\n",
              "      <td>IndiGo</td>\n",
              "      <td>Banglore</td>\n",
              "      <td>New Delhi</td>\n",
              "      <td>BLR → NAG → DEL</td>\n",
              "      <td>1 stop</td>\n",
              "      <td>No info</td>\n",
              "      <td>13302</td>\n",
              "      <td>3</td>\n",
              "      <td>1</td>\n",
              "      <td>16</td>\n",
              "      <td>50</td>\n",
              "      <td>21</td>\n",
              "      <td>35</td>\n",
              "      <td>4</td>\n",
              "      <td>45</td>\n",
              "    </tr>\n",
              "  </tbody>\n",
              "</table>\n",
              "</div>"
            ],
            "text/plain": [
              "       Airline    Source Destination                  Route Total_Stops  \\\n",
              "0       IndiGo  Banglore   New Delhi              BLR → DEL    non-stop   \n",
              "1    Air India   Kolkata    Banglore  CCU → IXR → BBI → BLR     2 stops   \n",
              "2  Jet Airways     Delhi      Cochin  DEL → LKO → BOM → COK     2 stops   \n",
              "3       IndiGo   Kolkata    Banglore        CCU → NAG → BLR      1 stop   \n",
              "4       IndiGo  Banglore   New Delhi        BLR → NAG → DEL      1 stop   \n",
              "\n",
              "  Additional_Info  Price  Journey_day  Journey_month  Dep_Time_hour  \\\n",
              "0         No info   3897           24              3             22   \n",
              "1         No info   7662            5              1              5   \n",
              "2         No info  13882            6              9              9   \n",
              "3         No info   6218            5             12             18   \n",
              "4         No info  13302            3              1             16   \n",
              "\n",
              "   Dep_Time_minute  Arrival_Time_hour  Arrival_Time_minute  Duration_hours  \\\n",
              "0               20                  1                   10               2   \n",
              "1               50                 13                   15               7   \n",
              "2               25                  4                   25              19   \n",
              "3                5                 23                   30               5   \n",
              "4               50                 21                   35               4   \n",
              "\n",
              "   Duration_mins  \n",
              "0             50  \n",
              "1             25  \n",
              "2              0  \n",
              "3             25  \n",
              "4             45  "
            ]
          },
          "metadata": {},
          "execution_count": 195
        }
      ]
    },
    {
      "cell_type": "code",
      "metadata": {
        "id": "B2Ra7uqEsxAf",
        "colab": {
          "base_uri": "https://localhost:8080/"
        },
        "outputId": "6709a4a4-2d5e-481e-bc96-f6487b20ad1f"
      },
      "source": [
        "train_data.dtypes"
      ],
      "execution_count": 196,
      "outputs": [
        {
          "output_type": "execute_result",
          "data": {
            "text/plain": [
              "Airline                object\n",
              "Source                 object\n",
              "Destination            object\n",
              "Route                  object\n",
              "Total_Stops            object\n",
              "Additional_Info        object\n",
              "Price                   int64\n",
              "Journey_day             int64\n",
              "Journey_month           int64\n",
              "Dep_Time_hour           int64\n",
              "Dep_Time_minute         int64\n",
              "Arrival_Time_hour       int64\n",
              "Arrival_Time_minute     int64\n",
              "Duration_hours          int64\n",
              "Duration_mins           int64\n",
              "dtype: object"
            ]
          },
          "metadata": {},
          "execution_count": 196
        }
      ]
    },
    {
      "cell_type": "code",
      "metadata": {
        "id": "6Cu8w7EpsxAg",
        "colab": {
          "base_uri": "https://localhost:8080/"
        },
        "outputId": "67cc7b8f-5f25-4563-8e7b-94d70dcd5d2d"
      },
      "source": [
        "cat_col=[col for col in train_data.columns if train_data[col].dtype=='O']\n",
        "cat_col"
      ],
      "execution_count": 197,
      "outputs": [
        {
          "output_type": "execute_result",
          "data": {
            "text/plain": [
              "['Airline', 'Source', 'Destination', 'Route', 'Total_Stops', 'Additional_Info']"
            ]
          },
          "metadata": {},
          "execution_count": 197
        }
      ]
    },
    {
      "cell_type": "code",
      "metadata": {
        "id": "SCZw0k2tsxAj",
        "colab": {
          "base_uri": "https://localhost:8080/"
        },
        "outputId": "961a9d53-2976-49c5-f08c-282b19a17bf2"
      },
      "source": [
        "cont_col=[col for col in train_data.columns if train_data[col].dtype!='O']\n",
        "cont_col"
      ],
      "execution_count": 198,
      "outputs": [
        {
          "output_type": "execute_result",
          "data": {
            "text/plain": [
              "['Price',\n",
              " 'Journey_day',\n",
              " 'Journey_month',\n",
              " 'Dep_Time_hour',\n",
              " 'Dep_Time_minute',\n",
              " 'Arrival_Time_hour',\n",
              " 'Arrival_Time_minute',\n",
              " 'Duration_hours',\n",
              " 'Duration_mins']"
            ]
          },
          "metadata": {},
          "execution_count": 198
        }
      ]
    },
    {
      "cell_type": "markdown",
      "metadata": {
        "id": "nBkedLzIsxAl"
      },
      "source": [
        "### Handling Categorical Data"
      ]
    },
    {
      "cell_type": "markdown",
      "metadata": {
        "id": "wrQPw48ssxAl"
      },
      "source": [
        "\n",
        "#### We are using 2 main Encoding Techniques to convert Categorical data into some numerical format\n",
        "    Nominal data --> data are not in any order --> OneHotEncoder is used in this case\n",
        "    Ordinal data --> data are in order -->       LabelEncoder is used in this case"
      ]
    },
    {
      "cell_type": "code",
      "metadata": {
        "id": "3_aPxXfPsxAm",
        "colab": {
          "base_uri": "https://localhost:8080/",
          "height": 206
        },
        "outputId": "e9b36bd4-eec4-440f-adc4-cb38c34d97ac"
      },
      "source": [
        "categorical=train_data[cat_col]\n",
        "categorical.head()"
      ],
      "execution_count": 199,
      "outputs": [
        {
          "output_type": "execute_result",
          "data": {
            "text/html": [
              "<div>\n",
              "<style scoped>\n",
              "    .dataframe tbody tr th:only-of-type {\n",
              "        vertical-align: middle;\n",
              "    }\n",
              "\n",
              "    .dataframe tbody tr th {\n",
              "        vertical-align: top;\n",
              "    }\n",
              "\n",
              "    .dataframe thead th {\n",
              "        text-align: right;\n",
              "    }\n",
              "</style>\n",
              "<table border=\"1\" class=\"dataframe\">\n",
              "  <thead>\n",
              "    <tr style=\"text-align: right;\">\n",
              "      <th></th>\n",
              "      <th>Airline</th>\n",
              "      <th>Source</th>\n",
              "      <th>Destination</th>\n",
              "      <th>Route</th>\n",
              "      <th>Total_Stops</th>\n",
              "      <th>Additional_Info</th>\n",
              "    </tr>\n",
              "  </thead>\n",
              "  <tbody>\n",
              "    <tr>\n",
              "      <th>0</th>\n",
              "      <td>IndiGo</td>\n",
              "      <td>Banglore</td>\n",
              "      <td>New Delhi</td>\n",
              "      <td>BLR → DEL</td>\n",
              "      <td>non-stop</td>\n",
              "      <td>No info</td>\n",
              "    </tr>\n",
              "    <tr>\n",
              "      <th>1</th>\n",
              "      <td>Air India</td>\n",
              "      <td>Kolkata</td>\n",
              "      <td>Banglore</td>\n",
              "      <td>CCU → IXR → BBI → BLR</td>\n",
              "      <td>2 stops</td>\n",
              "      <td>No info</td>\n",
              "    </tr>\n",
              "    <tr>\n",
              "      <th>2</th>\n",
              "      <td>Jet Airways</td>\n",
              "      <td>Delhi</td>\n",
              "      <td>Cochin</td>\n",
              "      <td>DEL → LKO → BOM → COK</td>\n",
              "      <td>2 stops</td>\n",
              "      <td>No info</td>\n",
              "    </tr>\n",
              "    <tr>\n",
              "      <th>3</th>\n",
              "      <td>IndiGo</td>\n",
              "      <td>Kolkata</td>\n",
              "      <td>Banglore</td>\n",
              "      <td>CCU → NAG → BLR</td>\n",
              "      <td>1 stop</td>\n",
              "      <td>No info</td>\n",
              "    </tr>\n",
              "    <tr>\n",
              "      <th>4</th>\n",
              "      <td>IndiGo</td>\n",
              "      <td>Banglore</td>\n",
              "      <td>New Delhi</td>\n",
              "      <td>BLR → NAG → DEL</td>\n",
              "      <td>1 stop</td>\n",
              "      <td>No info</td>\n",
              "    </tr>\n",
              "  </tbody>\n",
              "</table>\n",
              "</div>"
            ],
            "text/plain": [
              "       Airline    Source Destination                  Route Total_Stops  \\\n",
              "0       IndiGo  Banglore   New Delhi              BLR → DEL    non-stop   \n",
              "1    Air India   Kolkata    Banglore  CCU → IXR → BBI → BLR     2 stops   \n",
              "2  Jet Airways     Delhi      Cochin  DEL → LKO → BOM → COK     2 stops   \n",
              "3       IndiGo   Kolkata    Banglore        CCU → NAG → BLR      1 stop   \n",
              "4       IndiGo  Banglore   New Delhi        BLR → NAG → DEL      1 stop   \n",
              "\n",
              "  Additional_Info  \n",
              "0         No info  \n",
              "1         No info  \n",
              "2         No info  \n",
              "3         No info  \n",
              "4         No info  "
            ]
          },
          "metadata": {},
          "execution_count": 199
        }
      ]
    },
    {
      "cell_type": "code",
      "metadata": {
        "id": "The5D7grsxAn",
        "colab": {
          "base_uri": "https://localhost:8080/"
        },
        "outputId": "7354bb85-7289-4de1-9568-f1f65ad12d93"
      },
      "source": [
        "categorical['Airline'].value_counts()"
      ],
      "execution_count": 200,
      "outputs": [
        {
          "output_type": "execute_result",
          "data": {
            "text/plain": [
              "Jet Airways                          3849\n",
              "IndiGo                               2053\n",
              "Air India                            1751\n",
              "Multiple carriers                    1196\n",
              "SpiceJet                              818\n",
              "Vistara                               479\n",
              "Air Asia                              319\n",
              "GoAir                                 194\n",
              "Multiple carriers Premium economy      13\n",
              "Jet Airways Business                    6\n",
              "Vistara Premium economy                 3\n",
              "Trujet                                  1\n",
              "Name: Airline, dtype: int64"
            ]
          },
          "metadata": {},
          "execution_count": 200
        }
      ]
    },
    {
      "cell_type": "code",
      "metadata": {
        "id": "aq2rEz8XsxAs"
      },
      "source": [
        ""
      ],
      "execution_count": 200,
      "outputs": []
    },
    {
      "cell_type": "markdown",
      "metadata": {
        "id": "WuOm3_s4sxAt"
      },
      "source": [
        "#### Airline vs Price Analysis"
      ]
    },
    {
      "cell_type": "code",
      "metadata": {
        "id": "ud731dLYsxAu",
        "colab": {
          "base_uri": "https://localhost:8080/",
          "height": 352
        },
        "outputId": "36f6fac2-5d6a-4edd-fac8-c5217eeb5ce3"
      },
      "source": [
        "plt.figure(figsize=(15,5))\n",
        "sns.boxplot(y='Price',x='Airline',data=train_data.sort_values('Price',ascending=False))"
      ],
      "execution_count": 201,
      "outputs": [
        {
          "output_type": "execute_result",
          "data": {
            "text/plain": [
              "<matplotlib.axes._subplots.AxesSubplot at 0x7f67f825ecd0>"
            ]
          },
          "metadata": {},
          "execution_count": 201
        },
        {
          "output_type": "display_data",
          "data": {
            "image/png": "[encoded data removed]",
            "text/plain": [
              "<Figure size 1080x360 with 1 Axes>"
            ]
          },
          "metadata": {
            "needs_background": "light"
          }
        }
      ]
    },
    {
      "cell_type": "code",
      "metadata": {
        "id": "i1J2YbmlsxAw"
      },
      "source": [
        ""
      ],
      "execution_count": 201,
      "outputs": []
    },
    {
      "cell_type": "markdown",
      "metadata": {
        "id": "5euxMGfxsxAz"
      },
      "source": [
        "##### Conclusion-->  From graph we can see that Jet Airways Business have the highest Price., Apart from the first Airline almost all are having similar median"
      ]
    },
    {
      "cell_type": "code",
      "metadata": {
        "id": "TI36JFf7sxA0"
      },
      "source": [
        ""
      ],
      "execution_count": 201,
      "outputs": []
    },
    {
      "cell_type": "markdown",
      "metadata": {
        "id": "7-1egbpEsxA1"
      },
      "source": [
        "#### Perform Total_Stops vs Price Analysis"
      ]
    },
    {
      "cell_type": "code",
      "metadata": {
        "id": "UPyBN72ysxA-",
        "colab": {
          "base_uri": "https://localhost:8080/",
          "height": 353
        },
        "outputId": "f32763c3-e9de-41a9-92a5-09e5bf3060f9"
      },
      "source": [
        "plt.figure(figsize=(15,5))\n",
        "sns.boxplot(y='Price',x='Total_Stops',data=train_data.sort_values('Price',ascending=False))"
      ],
      "execution_count": 202,
      "outputs": [
        {
          "output_type": "execute_result",
          "data": {
            "text/plain": [
              "<matplotlib.axes._subplots.AxesSubplot at 0x7f67ea2b2290>"
            ]
          },
          "metadata": {},
          "execution_count": 202
        },
        {
          "output_type": "display_data",
          "data": {
            "image/png": "[encoded data removed]",
            "text/plain": [
              "<Figure size 1080x360 with 1 Axes>"
            ]
          },
          "metadata": {
            "needs_background": "light"
          }
        }
      ]
    },
    {
      "cell_type": "code",
      "metadata": {
        "id": "hTAHH2I9sxBB",
        "colab": {
          "base_uri": "https://localhost:8080/"
        },
        "outputId": "808e1a29-f940-46dc-d951-a06bede0de07"
      },
      "source": [
        "len(categorical['Airline'].unique())"
      ],
      "execution_count": 203,
      "outputs": [
        {
          "output_type": "execute_result",
          "data": {
            "text/plain": [
              "12"
            ]
          },
          "metadata": {},
          "execution_count": 203
        }
      ]
    },
    {
      "cell_type": "code",
      "metadata": {
        "id": "Ho7-pqlnsxBD",
        "colab": {
          "base_uri": "https://localhost:8080/",
          "height": 223
        },
        "outputId": "db762e8b-6e17-4a74-db83-d783011495f3"
      },
      "source": [
        "# As Airline is Nominal Categorical data we will perform OneHotEncoding\n",
        "Airline=pd.get_dummies(categorical['Airline'], drop_first=True)\n",
        "Airline.head()"
      ],
      "execution_count": 204,
      "outputs": [
        {
          "output_type": "execute_result",
          "data": {
            "text/html": [
              "<div>\n",
              "<style scoped>\n",
              "    .dataframe tbody tr th:only-of-type {\n",
              "        vertical-align: middle;\n",
              "    }\n",
              "\n",
              "    .dataframe tbody tr th {\n",
              "        vertical-align: top;\n",
              "    }\n",
              "\n",
              "    .dataframe thead th {\n",
              "        text-align: right;\n",
              "    }\n",
              "</style>\n",
              "<table border=\"1\" class=\"dataframe\">\n",
              "  <thead>\n",
              "    <tr style=\"text-align: right;\">\n",
              "      <th></th>\n",
              "      <th>Air India</th>\n",
              "      <th>GoAir</th>\n",
              "      <th>IndiGo</th>\n",
              "      <th>Jet Airways</th>\n",
              "      <th>Jet Airways Business</th>\n",
              "      <th>Multiple carriers</th>\n",
              "      <th>Multiple carriers Premium economy</th>\n",
              "      <th>SpiceJet</th>\n",
              "      <th>Trujet</th>\n",
              "      <th>Vistara</th>\n",
              "      <th>Vistara Premium economy</th>\n",
              "    </tr>\n",
              "  </thead>\n",
              "  <tbody>\n",
              "    <tr>\n",
              "      <th>0</th>\n",
              "      <td>0</td>\n",
              "      <td>0</td>\n",
              "      <td>1</td>\n",
              "      <td>0</td>\n",
              "      <td>0</td>\n",
              "      <td>0</td>\n",
              "      <td>0</td>\n",
              "      <td>0</td>\n",
              "      <td>0</td>\n",
              "      <td>0</td>\n",
              "      <td>0</td>\n",
              "    </tr>\n",
              "    <tr>\n",
              "      <th>1</th>\n",
              "      <td>1</td>\n",
              "      <td>0</td>\n",
              "      <td>0</td>\n",
              "      <td>0</td>\n",
              "      <td>0</td>\n",
              "      <td>0</td>\n",
              "      <td>0</td>\n",
              "      <td>0</td>\n",
              "      <td>0</td>\n",
              "      <td>0</td>\n",
              "      <td>0</td>\n",
              "    </tr>\n",
              "    <tr>\n",
              "      <th>2</th>\n",
              "      <td>0</td>\n",
              "      <td>0</td>\n",
              "      <td>0</td>\n",
              "      <td>1</td>\n",
              "      <td>0</td>\n",
              "      <td>0</td>\n",
              "      <td>0</td>\n",
              "      <td>0</td>\n",
              "      <td>0</td>\n",
              "      <td>0</td>\n",
              "      <td>0</td>\n",
              "    </tr>\n",
              "    <tr>\n",
              "      <th>3</th>\n",
              "      <td>0</td>\n",
              "      <td>0</td>\n",
              "      <td>1</td>\n",
              "      <td>0</td>\n",
              "      <td>0</td>\n",
              "      <td>0</td>\n",
              "      <td>0</td>\n",
              "      <td>0</td>\n",
              "      <td>0</td>\n",
              "      <td>0</td>\n",
              "      <td>0</td>\n",
              "    </tr>\n",
              "    <tr>\n",
              "      <th>4</th>\n",
              "      <td>0</td>\n",
              "      <td>0</td>\n",
              "      <td>1</td>\n",
              "      <td>0</td>\n",
              "      <td>0</td>\n",
              "      <td>0</td>\n",
              "      <td>0</td>\n",
              "      <td>0</td>\n",
              "      <td>0</td>\n",
              "      <td>0</td>\n",
              "      <td>0</td>\n",
              "    </tr>\n",
              "  </tbody>\n",
              "</table>\n",
              "</div>"
            ],
            "text/plain": [
              "   Air India  GoAir  IndiGo  Jet Airways  Jet Airways Business  \\\n",
              "0          0      0       1            0                     0   \n",
              "1          1      0       0            0                     0   \n",
              "2          0      0       0            1                     0   \n",
              "3          0      0       1            0                     0   \n",
              "4          0      0       1            0                     0   \n",
              "\n",
              "   Multiple carriers  Multiple carriers Premium economy  SpiceJet  Trujet  \\\n",
              "0                  0                                  0         0       0   \n",
              "1                  0                                  0         0       0   \n",
              "2                  0                                  0         0       0   \n",
              "3                  0                                  0         0       0   \n",
              "4                  0                                  0         0       0   \n",
              "\n",
              "   Vistara  Vistara Premium economy  \n",
              "0        0                        0  \n",
              "1        0                        0  \n",
              "2        0                        0  \n",
              "3        0                        0  \n",
              "4        0                        0  "
            ]
          },
          "metadata": {},
          "execution_count": 204
        }
      ]
    },
    {
      "cell_type": "code",
      "metadata": {
        "id": "1HZzMjyksxBD",
        "colab": {
          "base_uri": "https://localhost:8080/"
        },
        "outputId": "6437fe8e-ecdb-4635-afb4-e1b768e7da53"
      },
      "source": [
        "categorical['Source'].value_counts()"
      ],
      "execution_count": 205,
      "outputs": [
        {
          "output_type": "execute_result",
          "data": {
            "text/plain": [
              "Delhi       4536\n",
              "Kolkata     2871\n",
              "Banglore    2197\n",
              "Mumbai       697\n",
              "Chennai      381\n",
              "Name: Source, dtype: int64"
            ]
          },
          "metadata": {},
          "execution_count": 205
        }
      ]
    },
    {
      "cell_type": "code",
      "metadata": {
        "id": "AKM0qiBwsxBb",
        "colab": {
          "base_uri": "https://localhost:8080/",
          "height": 405
        },
        "outputId": "915bdaed-bc8f-428d-9c5d-0e9b26d65941"
      },
      "source": [
        "# Source vs Price\n",
        "\n",
        "plt.figure(figsize=(15,5))\n",
        "sns.catplot(y='Price',x='Source',data=train_data.sort_values('Price',ascending=False),kind='boxen')"
      ],
      "execution_count": 206,
      "outputs": [
        {
          "output_type": "execute_result",
          "data": {
            "text/plain": [
              "<seaborn.axisgrid.FacetGrid at 0x7f67ea205690>"
            ]
          },
          "metadata": {},
          "execution_count": 206
        },
        {
          "output_type": "display_data",
          "data": {
            "text/plain": [
              "<Figure size 1080x360 with 0 Axes>"
            ]
          },
          "metadata": {}
        },
        {
          "output_type": "display_data",
          "data": {
            "image/png": "[encoded data removed]",
            "text/plain": [
              "<Figure size 360x360 with 1 Axes>"
            ]
          },
          "metadata": {
            "needs_background": "light"
          }
        }
      ]
    },
    {
      "cell_type": "code",
      "metadata": {
        "id": "h681e9IysxBf",
        "colab": {
          "base_uri": "https://localhost:8080/",
          "height": 206
        },
        "outputId": "a518f368-3ab9-44e0-fa6d-39ba111c3a22"
      },
      "source": [
        "# As Source is Nominal Categorical data we will perform OneHotEncoding\n",
        "\n",
        "\n",
        "Source=pd.get_dummies(categorical['Source'], drop_first=True)\n",
        "Source.head()"
      ],
      "execution_count": 207,
      "outputs": [
        {
          "output_type": "execute_result",
          "data": {
            "text/html": [
              "<div>\n",
              "<style scoped>\n",
              "    .dataframe tbody tr th:only-of-type {\n",
              "        vertical-align: middle;\n",
              "    }\n",
              "\n",
              "    .dataframe tbody tr th {\n",
              "        vertical-align: top;\n",
              "    }\n",
              "\n",
              "    .dataframe thead th {\n",
              "        text-align: right;\n",
              "    }\n",
              "</style>\n",
              "<table border=\"1\" class=\"dataframe\">\n",
              "  <thead>\n",
              "    <tr style=\"text-align: right;\">\n",
              "      <th></th>\n",
              "      <th>Chennai</th>\n",
              "      <th>Delhi</th>\n",
              "      <th>Kolkata</th>\n",
              "      <th>Mumbai</th>\n",
              "    </tr>\n",
              "  </thead>\n",
              "  <tbody>\n",
              "    <tr>\n",
              "      <th>0</th>\n",
              "      <td>0</td>\n",
              "      <td>0</td>\n",
              "      <td>0</td>\n",
              "      <td>0</td>\n",
              "    </tr>\n",
              "    <tr>\n",
              "      <th>1</th>\n",
              "      <td>0</td>\n",
              "      <td>0</td>\n",
              "      <td>1</td>\n",
              "      <td>0</td>\n",
              "    </tr>\n",
              "    <tr>\n",
              "      <th>2</th>\n",
              "      <td>0</td>\n",
              "      <td>1</td>\n",
              "      <td>0</td>\n",
              "      <td>0</td>\n",
              "    </tr>\n",
              "    <tr>\n",
              "      <th>3</th>\n",
              "      <td>0</td>\n",
              "      <td>0</td>\n",
              "      <td>1</td>\n",
              "      <td>0</td>\n",
              "    </tr>\n",
              "    <tr>\n",
              "      <th>4</th>\n",
              "      <td>0</td>\n",
              "      <td>0</td>\n",
              "      <td>0</td>\n",
              "      <td>0</td>\n",
              "    </tr>\n",
              "  </tbody>\n",
              "</table>\n",
              "</div>"
            ],
            "text/plain": [
              "   Chennai  Delhi  Kolkata  Mumbai\n",
              "0        0      0        0       0\n",
              "1        0      0        1       0\n",
              "2        0      1        0       0\n",
              "3        0      0        1       0\n",
              "4        0      0        0       0"
            ]
          },
          "metadata": {},
          "execution_count": 207
        }
      ]
    },
    {
      "cell_type": "code",
      "metadata": {
        "id": "hJ3CclF7sxBh",
        "colab": {
          "base_uri": "https://localhost:8080/"
        },
        "outputId": "9457e288-3974-4603-d5bd-1d75f3cd1f28"
      },
      "source": [
        "categorical['Destination'].value_counts()"
      ],
      "execution_count": 208,
      "outputs": [
        {
          "output_type": "execute_result",
          "data": {
            "text/plain": [
              "Cochin       4536\n",
              "Banglore     2871\n",
              "Delhi        1265\n",
              "New Delhi     932\n",
              "Hyderabad     697\n",
              "Kolkata       381\n",
              "Name: Destination, dtype: int64"
            ]
          },
          "metadata": {},
          "execution_count": 208
        }
      ]
    },
    {
      "cell_type": "code",
      "metadata": {
        "id": "2mj52SKSsxBi",
        "colab": {
          "base_uri": "https://localhost:8080/",
          "height": 206
        },
        "outputId": "c6b18974-6c0f-4c66-b6e0-72ed40daf442"
      },
      "source": [
        "# As Destination is Nominal Categorical data we will perform OneHotEncoding\n",
        "\n",
        "Destination=pd.get_dummies(categorical['Destination'], drop_first=True)\n",
        "Destination.head()"
      ],
      "execution_count": 209,
      "outputs": [
        {
          "output_type": "execute_result",
          "data": {
            "text/html": [
              "<div>\n",
              "<style scoped>\n",
              "    .dataframe tbody tr th:only-of-type {\n",
              "        vertical-align: middle;\n",
              "    }\n",
              "\n",
              "    .dataframe tbody tr th {\n",
              "        vertical-align: top;\n",
              "    }\n",
              "\n",
              "    .dataframe thead th {\n",
              "        text-align: right;\n",
              "    }\n",
              "</style>\n",
              "<table border=\"1\" class=\"dataframe\">\n",
              "  <thead>\n",
              "    <tr style=\"text-align: right;\">\n",
              "      <th></th>\n",
              "      <th>Cochin</th>\n",
              "      <th>Delhi</th>\n",
              "      <th>Hyderabad</th>\n",
              "      <th>Kolkata</th>\n",
              "      <th>New Delhi</th>\n",
              "    </tr>\n",
              "  </thead>\n",
              "  <tbody>\n",
              "    <tr>\n",
              "      <th>0</th>\n",
              "      <td>0</td>\n",
              "      <td>0</td>\n",
              "      <td>0</td>\n",
              "      <td>0</td>\n",
              "      <td>1</td>\n",
              "    </tr>\n",
              "    <tr>\n",
              "      <th>1</th>\n",
              "      <td>0</td>\n",
              "      <td>0</td>\n",
              "      <td>0</td>\n",
              "      <td>0</td>\n",
              "      <td>0</td>\n",
              "    </tr>\n",
              "    <tr>\n",
              "      <th>2</th>\n",
              "      <td>1</td>\n",
              "      <td>0</td>\n",
              "      <td>0</td>\n",
              "      <td>0</td>\n",
              "      <td>0</td>\n",
              "    </tr>\n",
              "    <tr>\n",
              "      <th>3</th>\n",
              "      <td>0</td>\n",
              "      <td>0</td>\n",
              "      <td>0</td>\n",
              "      <td>0</td>\n",
              "      <td>0</td>\n",
              "    </tr>\n",
              "    <tr>\n",
              "      <th>4</th>\n",
              "      <td>0</td>\n",
              "      <td>0</td>\n",
              "      <td>0</td>\n",
              "      <td>0</td>\n",
              "      <td>1</td>\n",
              "    </tr>\n",
              "  </tbody>\n",
              "</table>\n",
              "</div>"
            ],
            "text/plain": [
              "   Cochin  Delhi  Hyderabad  Kolkata  New Delhi\n",
              "0       0      0          0        0          1\n",
              "1       0      0          0        0          0\n",
              "2       1      0          0        0          0\n",
              "3       0      0          0        0          0\n",
              "4       0      0          0        0          1"
            ]
          },
          "metadata": {},
          "execution_count": 209
        }
      ]
    },
    {
      "cell_type": "code",
      "metadata": {
        "id": "S8OL1G8KsxBk",
        "colab": {
          "base_uri": "https://localhost:8080/"
        },
        "outputId": "d264e9c8-4125-4438-cc11-72d18cd25faa"
      },
      "source": [
        "categorical['Route']"
      ],
      "execution_count": 210,
      "outputs": [
        {
          "output_type": "execute_result",
          "data": {
            "text/plain": [
              "0                    BLR → DEL\n",
              "1        CCU → IXR → BBI → BLR\n",
              "2        DEL → LKO → BOM → COK\n",
              "3              CCU → NAG → BLR\n",
              "4              BLR → NAG → DEL\n",
              "                 ...          \n",
              "10678                CCU → BLR\n",
              "10679                CCU → BLR\n",
              "10680                BLR → DEL\n",
              "10681                BLR → DEL\n",
              "10682    DEL → GOI → BOM → COK\n",
              "Name: Route, Length: 10682, dtype: object"
            ]
          },
          "metadata": {},
          "execution_count": 210
        }
      ]
    },
    {
      "cell_type": "code",
      "metadata": {
        "id": "ToveMlmbsxBl"
      },
      "source": [
        "categorical['Route_1']=categorical['Route'].str.split('→').str[0]\n",
        "categorical['Route_2']=categorical['Route'].str.split('→').str[1]\n",
        "categorical['Route_3']=categorical['Route'].str.split('→').str[2]\n",
        "categorical['Route_4']=categorical['Route'].str.split('→').str[3]\n",
        "categorical['Route_5']=categorical['Route'].str.split('→').str[4]"
      ],
      "execution_count": 211,
      "outputs": []
    },
    {
      "cell_type": "code",
      "metadata": {
        "id": "HLLor0ySsxBp",
        "colab": {
          "base_uri": "https://localhost:8080/",
          "height": 206
        },
        "outputId": "d0d3c930-a9a0-4d8a-95e9-e8ae15f99996"
      },
      "source": [
        "categorical.head()"
      ],
      "execution_count": 212,
      "outputs": [
        {
          "output_type": "execute_result",
          "data": {
            "text/html": [
              "<div>\n",
              "<style scoped>\n",
              "    .dataframe tbody tr th:only-of-type {\n",
              "        vertical-align: middle;\n",
              "    }\n",
              "\n",
              "    .dataframe tbody tr th {\n",
              "        vertical-align: top;\n",
              "    }\n",
              "\n",
              "    .dataframe thead th {\n",
              "        text-align: right;\n",
              "    }\n",
              "</style>\n",
              "<table border=\"1\" class=\"dataframe\">\n",
              "  <thead>\n",
              "    <tr style=\"text-align: right;\">\n",
              "      <th></th>\n",
              "      <th>Airline</th>\n",
              "      <th>Source</th>\n",
              "      <th>Destination</th>\n",
              "      <th>Route</th>\n",
              "      <th>Total_Stops</th>\n",
              "      <th>Additional_Info</th>\n",
              "      <th>Route_1</th>\n",
              "      <th>Route_2</th>\n",
              "      <th>Route_3</th>\n",
              "      <th>Route_4</th>\n",
              "      <th>Route_5</th>\n",
              "    </tr>\n",
              "  </thead>\n",
              "  <tbody>\n",
              "    <tr>\n",
              "      <th>0</th>\n",
              "      <td>IndiGo</td>\n",
              "      <td>Banglore</td>\n",
              "      <td>New Delhi</td>\n",
              "      <td>BLR → DEL</td>\n",
              "      <td>non-stop</td>\n",
              "      <td>No info</td>\n",
              "      <td>BLR</td>\n",
              "      <td>DEL</td>\n",
              "      <td>NaN</td>\n",
              "      <td>NaN</td>\n",
              "      <td>NaN</td>\n",
              "    </tr>\n",
              "    <tr>\n",
              "      <th>1</th>\n",
              "      <td>Air India</td>\n",
              "      <td>Kolkata</td>\n",
              "      <td>Banglore</td>\n",
              "      <td>CCU → IXR → BBI → BLR</td>\n",
              "      <td>2 stops</td>\n",
              "      <td>No info</td>\n",
              "      <td>CCU</td>\n",
              "      <td>IXR</td>\n",
              "      <td>BBI</td>\n",
              "      <td>BLR</td>\n",
              "      <td>NaN</td>\n",
              "    </tr>\n",
              "    <tr>\n",
              "      <th>2</th>\n",
              "      <td>Jet Airways</td>\n",
              "      <td>Delhi</td>\n",
              "      <td>Cochin</td>\n",
              "      <td>DEL → LKO → BOM → COK</td>\n",
              "      <td>2 stops</td>\n",
              "      <td>No info</td>\n",
              "      <td>DEL</td>\n",
              "      <td>LKO</td>\n",
              "      <td>BOM</td>\n",
              "      <td>COK</td>\n",
              "      <td>NaN</td>\n",
              "    </tr>\n",
              "    <tr>\n",
              "      <th>3</th>\n",
              "      <td>IndiGo</td>\n",
              "      <td>Kolkata</td>\n",
              "      <td>Banglore</td>\n",
              "      <td>CCU → NAG → BLR</td>\n",
              "      <td>1 stop</td>\n",
              "      <td>No info</td>\n",
              "      <td>CCU</td>\n",
              "      <td>NAG</td>\n",
              "      <td>BLR</td>\n",
              "      <td>NaN</td>\n",
              "      <td>NaN</td>\n",
              "    </tr>\n",
              "    <tr>\n",
              "      <th>4</th>\n",
              "      <td>IndiGo</td>\n",
              "      <td>Banglore</td>\n",
              "      <td>New Delhi</td>\n",
              "      <td>BLR → NAG → DEL</td>\n",
              "      <td>1 stop</td>\n",
              "      <td>No info</td>\n",
              "      <td>BLR</td>\n",
              "      <td>NAG</td>\n",
              "      <td>DEL</td>\n",
              "      <td>NaN</td>\n",
              "      <td>NaN</td>\n",
              "    </tr>\n",
              "  </tbody>\n",
              "</table>\n",
              "</div>"
            ],
            "text/plain": [
              "       Airline    Source Destination                  Route Total_Stops  \\\n",
              "0       IndiGo  Banglore   New Delhi              BLR → DEL    non-stop   \n",
              "1    Air India   Kolkata    Banglore  CCU → IXR → BBI → BLR     2 stops   \n",
              "2  Jet Airways     Delhi      Cochin  DEL → LKO → BOM → COK     2 stops   \n",
              "3       IndiGo   Kolkata    Banglore        CCU → NAG → BLR      1 stop   \n",
              "4       IndiGo  Banglore   New Delhi        BLR → NAG → DEL      1 stop   \n",
              "\n",
              "  Additional_Info Route_1 Route_2 Route_3 Route_4 Route_5  \n",
              "0         No info    BLR      DEL     NaN     NaN     NaN  \n",
              "1         No info    CCU     IXR     BBI      BLR     NaN  \n",
              "2         No info    DEL     LKO     BOM      COK     NaN  \n",
              "3         No info    CCU     NAG      BLR     NaN     NaN  \n",
              "4         No info    BLR     NAG      DEL     NaN     NaN  "
            ]
          },
          "metadata": {},
          "execution_count": 212
        }
      ]
    },
    {
      "cell_type": "code",
      "metadata": {
        "id": "SWc1MnYHsxBr"
      },
      "source": [
        "import warnings \n",
        "from warnings import filterwarnings\n",
        "filterwarnings('ignore')"
      ],
      "execution_count": 213,
      "outputs": []
    },
    {
      "cell_type": "code",
      "metadata": {
        "id": "f8vCFsBksxBt"
      },
      "source": [
        "categorical['Route_1'].fillna('None',inplace=True)\n",
        "categorical['Route_2'].fillna('None',inplace=True)\n",
        "categorical['Route_3'].fillna('None',inplace=True)\n",
        "categorical['Route_4'].fillna('None',inplace=True)\n",
        "categorical['Route_5'].fillna('None',inplace=True)"
      ],
      "execution_count": 214,
      "outputs": []
    },
    {
      "cell_type": "code",
      "metadata": {
        "id": "JBDDFuoosxBu",
        "colab": {
          "base_uri": "https://localhost:8080/",
          "height": 206
        },
        "outputId": "6c596567-185c-498a-99db-d6dc1ee46fd6"
      },
      "source": [
        "categorical.head()"
      ],
      "execution_count": 215,
      "outputs": [
        {
          "output_type": "execute_result",
          "data": {
            "text/html": [
              "<div>\n",
              "<style scoped>\n",
              "    .dataframe tbody tr th:only-of-type {\n",
              "        vertical-align: middle;\n",
              "    }\n",
              "\n",
              "    .dataframe tbody tr th {\n",
              "        vertical-align: top;\n",
              "    }\n",
              "\n",
              "    .dataframe thead th {\n",
              "        text-align: right;\n",
              "    }\n",
              "</style>\n",
              "<table border=\"1\" class=\"dataframe\">\n",
              "  <thead>\n",
              "    <tr style=\"text-align: right;\">\n",
              "      <th></th>\n",
              "      <th>Airline</th>\n",
              "      <th>Source</th>\n",
              "      <th>Destination</th>\n",
              "      <th>Route</th>\n",
              "      <th>Total_Stops</th>\n",
              "      <th>Additional_Info</th>\n",
              "      <th>Route_1</th>\n",
              "      <th>Route_2</th>\n",
              "      <th>Route_3</th>\n",
              "      <th>Route_4</th>\n",
              "      <th>Route_5</th>\n",
              "    </tr>\n",
              "  </thead>\n",
              "  <tbody>\n",
              "    <tr>\n",
              "      <th>0</th>\n",
              "      <td>IndiGo</td>\n",
              "      <td>Banglore</td>\n",
              "      <td>New Delhi</td>\n",
              "      <td>BLR → DEL</td>\n",
              "      <td>non-stop</td>\n",
              "      <td>No info</td>\n",
              "      <td>BLR</td>\n",
              "      <td>DEL</td>\n",
              "      <td>None</td>\n",
              "      <td>None</td>\n",
              "      <td>None</td>\n",
              "    </tr>\n",
              "    <tr>\n",
              "      <th>1</th>\n",
              "      <td>Air India</td>\n",
              "      <td>Kolkata</td>\n",
              "      <td>Banglore</td>\n",
              "      <td>CCU → IXR → BBI → BLR</td>\n",
              "      <td>2 stops</td>\n",
              "      <td>No info</td>\n",
              "      <td>CCU</td>\n",
              "      <td>IXR</td>\n",
              "      <td>BBI</td>\n",
              "      <td>BLR</td>\n",
              "      <td>None</td>\n",
              "    </tr>\n",
              "    <tr>\n",
              "      <th>2</th>\n",
              "      <td>Jet Airways</td>\n",
              "      <td>Delhi</td>\n",
              "      <td>Cochin</td>\n",
              "      <td>DEL → LKO → BOM → COK</td>\n",
              "      <td>2 stops</td>\n",
              "      <td>No info</td>\n",
              "      <td>DEL</td>\n",
              "      <td>LKO</td>\n",
              "      <td>BOM</td>\n",
              "      <td>COK</td>\n",
              "      <td>None</td>\n",
              "    </tr>\n",
              "    <tr>\n",
              "      <th>3</th>\n",
              "      <td>IndiGo</td>\n",
              "      <td>Kolkata</td>\n",
              "      <td>Banglore</td>\n",
              "      <td>CCU → NAG → BLR</td>\n",
              "      <td>1 stop</td>\n",
              "      <td>No info</td>\n",
              "      <td>CCU</td>\n",
              "      <td>NAG</td>\n",
              "      <td>BLR</td>\n",
              "      <td>None</td>\n",
              "      <td>None</td>\n",
              "    </tr>\n",
              "    <tr>\n",
              "      <th>4</th>\n",
              "      <td>IndiGo</td>\n",
              "      <td>Banglore</td>\n",
              "      <td>New Delhi</td>\n",
              "      <td>BLR → NAG → DEL</td>\n",
              "      <td>1 stop</td>\n",
              "      <td>No info</td>\n",
              "      <td>BLR</td>\n",
              "      <td>NAG</td>\n",
              "      <td>DEL</td>\n",
              "      <td>None</td>\n",
              "      <td>None</td>\n",
              "    </tr>\n",
              "  </tbody>\n",
              "</table>\n",
              "</div>"
            ],
            "text/plain": [
              "       Airline    Source Destination                  Route Total_Stops  \\\n",
              "0       IndiGo  Banglore   New Delhi              BLR → DEL    non-stop   \n",
              "1    Air India   Kolkata    Banglore  CCU → IXR → BBI → BLR     2 stops   \n",
              "2  Jet Airways     Delhi      Cochin  DEL → LKO → BOM → COK     2 stops   \n",
              "3       IndiGo   Kolkata    Banglore        CCU → NAG → BLR      1 stop   \n",
              "4       IndiGo  Banglore   New Delhi        BLR → NAG → DEL      1 stop   \n",
              "\n",
              "  Additional_Info Route_1 Route_2 Route_3 Route_4 Route_5  \n",
              "0         No info    BLR      DEL    None    None    None  \n",
              "1         No info    CCU     IXR     BBI      BLR    None  \n",
              "2         No info    DEL     LKO     BOM      COK    None  \n",
              "3         No info    CCU     NAG      BLR    None    None  \n",
              "4         No info    BLR     NAG      DEL    None    None  "
            ]
          },
          "metadata": {},
          "execution_count": 215
        }
      ]
    },
    {
      "cell_type": "code",
      "metadata": {
        "id": "h_O4P9wTsxB0",
        "colab": {
          "base_uri": "https://localhost:8080/"
        },
        "outputId": "f346c91d-8c0a-4af9-a9fd-7d52d7903644"
      },
      "source": [
        "#now extract how many categories in each cat_feature\n",
        "for feature in categorical.columns:\n",
        "    print('{} has total {} categories \\n'.format(feature,len(categorical[feature].value_counts())))"
      ],
      "execution_count": 216,
      "outputs": [
        {
          "output_type": "stream",
          "name": "stdout",
          "text": [
            "Airline has total 12 categories \n",
            "\n",
            "Source has total 5 categories \n",
            "\n",
            "Destination has total 6 categories \n",
            "\n",
            "Route has total 128 categories \n",
            "\n",
            "Total_Stops has total 5 categories \n",
            "\n",
            "Additional_Info has total 10 categories \n",
            "\n",
            "Route_1 has total 5 categories \n",
            "\n",
            "Route_2 has total 45 categories \n",
            "\n",
            "Route_3 has total 30 categories \n",
            "\n",
            "Route_4 has total 14 categories \n",
            "\n",
            "Route_5 has total 6 categories \n",
            "\n"
          ]
        }
      ]
    },
    {
      "cell_type": "code",
      "metadata": {
        "id": "Eqzi6mc-sxB1"
      },
      "source": [
        "### as we will see we have lots of features in Route , one hot encoding will not be a better option lets appply Label Encoding"
      ],
      "execution_count": 217,
      "outputs": []
    },
    {
      "cell_type": "code",
      "metadata": {
        "id": "aV_9h51SsxB2"
      },
      "source": [
        "from sklearn.preprocessing import LabelEncoder\n",
        "encoder=LabelEncoder()"
      ],
      "execution_count": 218,
      "outputs": []
    },
    {
      "cell_type": "code",
      "metadata": {
        "id": "wbe-oo0osxB2",
        "colab": {
          "base_uri": "https://localhost:8080/"
        },
        "outputId": "a9d815a2-f7bb-4f2f-9cd4-3dc093df4915"
      },
      "source": [
        "categorical.columns"
      ],
      "execution_count": 219,
      "outputs": [
        {
          "output_type": "execute_result",
          "data": {
            "text/plain": [
              "Index(['Airline', 'Source', 'Destination', 'Route', 'Total_Stops',\n",
              "       'Additional_Info', 'Route_1', 'Route_2', 'Route_3', 'Route_4',\n",
              "       'Route_5'],\n",
              "      dtype='object')"
            ]
          },
          "metadata": {},
          "execution_count": 219
        }
      ]
    },
    {
      "cell_type": "code",
      "metadata": {
        "id": "oGY1yXG_sxB3"
      },
      "source": [
        "for i in ['Route_1', 'Route_2', 'Route_3', 'Route_4','Route_5']:\n",
        "    categorical[i]=encoder.fit_transform(categorical[i])"
      ],
      "execution_count": 220,
      "outputs": []
    },
    {
      "cell_type": "code",
      "metadata": {
        "id": "fhZzO1gRsxB4",
        "colab": {
          "base_uri": "https://localhost:8080/",
          "height": 206
        },
        "outputId": "dc54b04e-765e-475c-92d3-54d99300938a"
      },
      "source": [
        "categorical.head()"
      ],
      "execution_count": 221,
      "outputs": [
        {
          "output_type": "execute_result",
          "data": {
            "text/html": [
              "<div>\n",
              "<style scoped>\n",
              "    .dataframe tbody tr th:only-of-type {\n",
              "        vertical-align: middle;\n",
              "    }\n",
              "\n",
              "    .dataframe tbody tr th {\n",
              "        vertical-align: top;\n",
              "    }\n",
              "\n",
              "    .dataframe thead th {\n",
              "        text-align: right;\n",
              "    }\n",
              "</style>\n",
              "<table border=\"1\" class=\"dataframe\">\n",
              "  <thead>\n",
              "    <tr style=\"text-align: right;\">\n",
              "      <th></th>\n",
              "      <th>Airline</th>\n",
              "      <th>Source</th>\n",
              "      <th>Destination</th>\n",
              "      <th>Route</th>\n",
              "      <th>Total_Stops</th>\n",
              "      <th>Additional_Info</th>\n",
              "      <th>Route_1</th>\n",
              "      <th>Route_2</th>\n",
              "      <th>Route_3</th>\n",
              "      <th>Route_4</th>\n",
              "      <th>Route_5</th>\n",
              "    </tr>\n",
              "  </thead>\n",
              "  <tbody>\n",
              "    <tr>\n",
              "      <th>0</th>\n",
              "      <td>IndiGo</td>\n",
              "      <td>Banglore</td>\n",
              "      <td>New Delhi</td>\n",
              "      <td>BLR → DEL</td>\n",
              "      <td>non-stop</td>\n",
              "      <td>No info</td>\n",
              "      <td>0</td>\n",
              "      <td>13</td>\n",
              "      <td>29</td>\n",
              "      <td>13</td>\n",
              "      <td>5</td>\n",
              "    </tr>\n",
              "    <tr>\n",
              "      <th>1</th>\n",
              "      <td>Air India</td>\n",
              "      <td>Kolkata</td>\n",
              "      <td>Banglore</td>\n",
              "      <td>CCU → IXR → BBI → BLR</td>\n",
              "      <td>2 stops</td>\n",
              "      <td>No info</td>\n",
              "      <td>2</td>\n",
              "      <td>25</td>\n",
              "      <td>1</td>\n",
              "      <td>3</td>\n",
              "      <td>5</td>\n",
              "    </tr>\n",
              "    <tr>\n",
              "      <th>2</th>\n",
              "      <td>Jet Airways</td>\n",
              "      <td>Delhi</td>\n",
              "      <td>Cochin</td>\n",
              "      <td>DEL → LKO → BOM → COK</td>\n",
              "      <td>2 stops</td>\n",
              "      <td>No info</td>\n",
              "      <td>3</td>\n",
              "      <td>32</td>\n",
              "      <td>4</td>\n",
              "      <td>5</td>\n",
              "      <td>5</td>\n",
              "    </tr>\n",
              "    <tr>\n",
              "      <th>3</th>\n",
              "      <td>IndiGo</td>\n",
              "      <td>Kolkata</td>\n",
              "      <td>Banglore</td>\n",
              "      <td>CCU → NAG → BLR</td>\n",
              "      <td>1 stop</td>\n",
              "      <td>No info</td>\n",
              "      <td>2</td>\n",
              "      <td>34</td>\n",
              "      <td>3</td>\n",
              "      <td>13</td>\n",
              "      <td>5</td>\n",
              "    </tr>\n",
              "    <tr>\n",
              "      <th>4</th>\n",
              "      <td>IndiGo</td>\n",
              "      <td>Banglore</td>\n",
              "      <td>New Delhi</td>\n",
              "      <td>BLR → NAG → DEL</td>\n",
              "      <td>1 stop</td>\n",
              "      <td>No info</td>\n",
              "      <td>0</td>\n",
              "      <td>34</td>\n",
              "      <td>8</td>\n",
              "      <td>13</td>\n",
              "      <td>5</td>\n",
              "    </tr>\n",
              "  </tbody>\n",
              "</table>\n",
              "</div>"
            ],
            "text/plain": [
              "       Airline    Source Destination                  Route Total_Stops  \\\n",
              "0       IndiGo  Banglore   New Delhi              BLR → DEL    non-stop   \n",
              "1    Air India   Kolkata    Banglore  CCU → IXR → BBI → BLR     2 stops   \n",
              "2  Jet Airways     Delhi      Cochin  DEL → LKO → BOM → COK     2 stops   \n",
              "3       IndiGo   Kolkata    Banglore        CCU → NAG → BLR      1 stop   \n",
              "4       IndiGo  Banglore   New Delhi        BLR → NAG → DEL      1 stop   \n",
              "\n",
              "  Additional_Info  Route_1  Route_2  Route_3  Route_4  Route_5  \n",
              "0         No info        0       13       29       13        5  \n",
              "1         No info        2       25        1        3        5  \n",
              "2         No info        3       32        4        5        5  \n",
              "3         No info        2       34        3       13        5  \n",
              "4         No info        0       34        8       13        5  "
            ]
          },
          "metadata": {},
          "execution_count": 221
        }
      ]
    },
    {
      "cell_type": "code",
      "metadata": {
        "id": "7H6YEonasxB4"
      },
      "source": [
        "# Additional_Info contains almost 80% no_info,so we can drop this column\n",
        "# we can drop Route as well as we have pre-process that column\n",
        "    \n",
        "drop_column(categorical,'Route')\n",
        "drop_column(categorical,'Additional_Info')"
      ],
      "execution_count": 222,
      "outputs": []
    },
    {
      "cell_type": "code",
      "metadata": {
        "id": "1ZpwwrDGsxCj",
        "colab": {
          "base_uri": "https://localhost:8080/",
          "height": 206
        },
        "outputId": "89a6cfb3-f016-4b0f-ee55-c2d2b00eb4b1"
      },
      "source": [
        "categorical.head()"
      ],
      "execution_count": 223,
      "outputs": [
        {
          "output_type": "execute_result",
          "data": {
            "text/html": [
              "<div>\n",
              "<style scoped>\n",
              "    .dataframe tbody tr th:only-of-type {\n",
              "        vertical-align: middle;\n",
              "    }\n",
              "\n",
              "    .dataframe tbody tr th {\n",
              "        vertical-align: top;\n",
              "    }\n",
              "\n",
              "    .dataframe thead th {\n",
              "        text-align: right;\n",
              "    }\n",
              "</style>\n",
              "<table border=\"1\" class=\"dataframe\">\n",
              "  <thead>\n",
              "    <tr style=\"text-align: right;\">\n",
              "      <th></th>\n",
              "      <th>Airline</th>\n",
              "      <th>Source</th>\n",
              "      <th>Destination</th>\n",
              "      <th>Total_Stops</th>\n",
              "      <th>Route_1</th>\n",
              "      <th>Route_2</th>\n",
              "      <th>Route_3</th>\n",
              "      <th>Route_4</th>\n",
              "      <th>Route_5</th>\n",
              "    </tr>\n",
              "  </thead>\n",
              "  <tbody>\n",
              "    <tr>\n",
              "      <th>0</th>\n",
              "      <td>IndiGo</td>\n",
              "      <td>Banglore</td>\n",
              "      <td>New Delhi</td>\n",
              "      <td>non-stop</td>\n",
              "      <td>0</td>\n",
              "      <td>13</td>\n",
              "      <td>29</td>\n",
              "      <td>13</td>\n",
              "      <td>5</td>\n",
              "    </tr>\n",
              "    <tr>\n",
              "      <th>1</th>\n",
              "      <td>Air India</td>\n",
              "      <td>Kolkata</td>\n",
              "      <td>Banglore</td>\n",
              "      <td>2 stops</td>\n",
              "      <td>2</td>\n",
              "      <td>25</td>\n",
              "      <td>1</td>\n",
              "      <td>3</td>\n",
              "      <td>5</td>\n",
              "    </tr>\n",
              "    <tr>\n",
              "      <th>2</th>\n",
              "      <td>Jet Airways</td>\n",
              "      <td>Delhi</td>\n",
              "      <td>Cochin</td>\n",
              "      <td>2 stops</td>\n",
              "      <td>3</td>\n",
              "      <td>32</td>\n",
              "      <td>4</td>\n",
              "      <td>5</td>\n",
              "      <td>5</td>\n",
              "    </tr>\n",
              "    <tr>\n",
              "      <th>3</th>\n",
              "      <td>IndiGo</td>\n",
              "      <td>Kolkata</td>\n",
              "      <td>Banglore</td>\n",
              "      <td>1 stop</td>\n",
              "      <td>2</td>\n",
              "      <td>34</td>\n",
              "      <td>3</td>\n",
              "      <td>13</td>\n",
              "      <td>5</td>\n",
              "    </tr>\n",
              "    <tr>\n",
              "      <th>4</th>\n",
              "      <td>IndiGo</td>\n",
              "      <td>Banglore</td>\n",
              "      <td>New Delhi</td>\n",
              "      <td>1 stop</td>\n",
              "      <td>0</td>\n",
              "      <td>34</td>\n",
              "      <td>8</td>\n",
              "      <td>13</td>\n",
              "      <td>5</td>\n",
              "    </tr>\n",
              "  </tbody>\n",
              "</table>\n",
              "</div>"
            ],
            "text/plain": [
              "       Airline    Source Destination Total_Stops  Route_1  Route_2  Route_3  \\\n",
              "0       IndiGo  Banglore   New Delhi    non-stop        0       13       29   \n",
              "1    Air India   Kolkata    Banglore     2 stops        2       25        1   \n",
              "2  Jet Airways     Delhi      Cochin     2 stops        3       32        4   \n",
              "3       IndiGo   Kolkata    Banglore      1 stop        2       34        3   \n",
              "4       IndiGo  Banglore   New Delhi      1 stop        0       34        8   \n",
              "\n",
              "   Route_4  Route_5  \n",
              "0       13        5  \n",
              "1        3        5  \n",
              "2        5        5  \n",
              "3       13        5  \n",
              "4       13        5  "
            ]
          },
          "metadata": {},
          "execution_count": 223
        }
      ]
    },
    {
      "cell_type": "code",
      "metadata": {
        "id": "b-PWor3CsxCk",
        "colab": {
          "base_uri": "https://localhost:8080/"
        },
        "outputId": "a37c9a60-d053-4d20-ac03-cd8f54051432"
      },
      "source": [
        "categorical['Total_Stops'].value_counts()"
      ],
      "execution_count": 224,
      "outputs": [
        {
          "output_type": "execute_result",
          "data": {
            "text/plain": [
              "1 stop      5625\n",
              "non-stop    3491\n",
              "2 stops     1520\n",
              "3 stops       45\n",
              "4 stops        1\n",
              "Name: Total_Stops, dtype: int64"
            ]
          },
          "metadata": {},
          "execution_count": 224
        }
      ]
    },
    {
      "cell_type": "code",
      "metadata": {
        "id": "GYQxEsecsxCm",
        "colab": {
          "base_uri": "https://localhost:8080/"
        },
        "outputId": "64b0d3b5-7cf6-4536-85e5-004747b3842c"
      },
      "source": [
        "categorical['Total_Stops'].unique()"
      ],
      "execution_count": 225,
      "outputs": [
        {
          "output_type": "execute_result",
          "data": {
            "text/plain": [
              "array(['non-stop', '2 stops', '1 stop', '3 stops', '4 stops'],\n",
              "      dtype=object)"
            ]
          },
          "metadata": {},
          "execution_count": 225
        }
      ]
    },
    {
      "cell_type": "code",
      "metadata": {
        "id": "iUse51DLsxCo"
      },
      "source": [
        "# As this is case of Ordinal Categorical type we perform LabelEncoder\n",
        "# Here Values are assigned with corresponding key\n",
        "\n",
        "dict={'non-stop':0, '2 stops':2, '1 stop':1, '3 stops':3, '4 stops':4}"
      ],
      "execution_count": 226,
      "outputs": []
    },
    {
      "cell_type": "code",
      "metadata": {
        "id": "iRcD3TrlsxCr"
      },
      "source": [
        "categorical['Total_Stops']=categorical['Total_Stops'].map(dict)"
      ],
      "execution_count": 227,
      "outputs": []
    },
    {
      "cell_type": "code",
      "metadata": {
        "id": "01WoDT1csxCs",
        "colab": {
          "base_uri": "https://localhost:8080/",
          "height": 206
        },
        "outputId": "7d3eff49-96ce-4d8f-b51c-0a5ac6ff8778"
      },
      "source": [
        "categorical.head()"
      ],
      "execution_count": 228,
      "outputs": [
        {
          "output_type": "execute_result",
          "data": {
            "text/html": [
              "<div>\n",
              "<style scoped>\n",
              "    .dataframe tbody tr th:only-of-type {\n",
              "        vertical-align: middle;\n",
              "    }\n",
              "\n",
              "    .dataframe tbody tr th {\n",
              "        vertical-align: top;\n",
              "    }\n",
              "\n",
              "    .dataframe thead th {\n",
              "        text-align: right;\n",
              "    }\n",
              "</style>\n",
              "<table border=\"1\" class=\"dataframe\">\n",
              "  <thead>\n",
              "    <tr style=\"text-align: right;\">\n",
              "      <th></th>\n",
              "      <th>Airline</th>\n",
              "      <th>Source</th>\n",
              "      <th>Destination</th>\n",
              "      <th>Total_Stops</th>\n",
              "      <th>Route_1</th>\n",
              "      <th>Route_2</th>\n",
              "      <th>Route_3</th>\n",
              "      <th>Route_4</th>\n",
              "      <th>Route_5</th>\n",
              "    </tr>\n",
              "  </thead>\n",
              "  <tbody>\n",
              "    <tr>\n",
              "      <th>0</th>\n",
              "      <td>IndiGo</td>\n",
              "      <td>Banglore</td>\n",
              "      <td>New Delhi</td>\n",
              "      <td>0</td>\n",
              "      <td>0</td>\n",
              "      <td>13</td>\n",
              "      <td>29</td>\n",
              "      <td>13</td>\n",
              "      <td>5</td>\n",
              "    </tr>\n",
              "    <tr>\n",
              "      <th>1</th>\n",
              "      <td>Air India</td>\n",
              "      <td>Kolkata</td>\n",
              "      <td>Banglore</td>\n",
              "      <td>2</td>\n",
              "      <td>2</td>\n",
              "      <td>25</td>\n",
              "      <td>1</td>\n",
              "      <td>3</td>\n",
              "      <td>5</td>\n",
              "    </tr>\n",
              "    <tr>\n",
              "      <th>2</th>\n",
              "      <td>Jet Airways</td>\n",
              "      <td>Delhi</td>\n",
              "      <td>Cochin</td>\n",
              "      <td>2</td>\n",
              "      <td>3</td>\n",
              "      <td>32</td>\n",
              "      <td>4</td>\n",
              "      <td>5</td>\n",
              "      <td>5</td>\n",
              "    </tr>\n",
              "    <tr>\n",
              "      <th>3</th>\n",
              "      <td>IndiGo</td>\n",
              "      <td>Kolkata</td>\n",
              "      <td>Banglore</td>\n",
              "      <td>1</td>\n",
              "      <td>2</td>\n",
              "      <td>34</td>\n",
              "      <td>3</td>\n",
              "      <td>13</td>\n",
              "      <td>5</td>\n",
              "    </tr>\n",
              "    <tr>\n",
              "      <th>4</th>\n",
              "      <td>IndiGo</td>\n",
              "      <td>Banglore</td>\n",
              "      <td>New Delhi</td>\n",
              "      <td>1</td>\n",
              "      <td>0</td>\n",
              "      <td>34</td>\n",
              "      <td>8</td>\n",
              "      <td>13</td>\n",
              "      <td>5</td>\n",
              "    </tr>\n",
              "  </tbody>\n",
              "</table>\n",
              "</div>"
            ],
            "text/plain": [
              "       Airline    Source Destination  Total_Stops  Route_1  Route_2  Route_3  \\\n",
              "0       IndiGo  Banglore   New Delhi            0        0       13       29   \n",
              "1    Air India   Kolkata    Banglore            2        2       25        1   \n",
              "2  Jet Airways     Delhi      Cochin            2        3       32        4   \n",
              "3       IndiGo   Kolkata    Banglore            1        2       34        3   \n",
              "4       IndiGo  Banglore   New Delhi            1        0       34        8   \n",
              "\n",
              "   Route_4  Route_5  \n",
              "0       13        5  \n",
              "1        3        5  \n",
              "2        5        5  \n",
              "3       13        5  \n",
              "4       13        5  "
            ]
          },
          "metadata": {},
          "execution_count": 228
        }
      ]
    },
    {
      "cell_type": "code",
      "metadata": {
        "id": "c5EQ11aTsxCt",
        "colab": {
          "base_uri": "https://localhost:8080/",
          "height": 444
        },
        "outputId": "d74c93ef-08e0-444c-b574-79e5badfe195"
      },
      "source": [
        "train_data[cont_col]"
      ],
      "execution_count": 229,
      "outputs": [
        {
          "output_type": "execute_result",
          "data": {
            "text/html": [
              "<div>\n",
              "<style scoped>\n",
              "    .dataframe tbody tr th:only-of-type {\n",
              "        vertical-align: middle;\n",
              "    }\n",
              "\n",
              "    .dataframe tbody tr th {\n",
              "        vertical-align: top;\n",
              "    }\n",
              "\n",
              "    .dataframe thead th {\n",
              "        text-align: right;\n",
              "    }\n",
              "</style>\n",
              "<table border=\"1\" class=\"dataframe\">\n",
              "  <thead>\n",
              "    <tr style=\"text-align: right;\">\n",
              "      <th></th>\n",
              "      <th>Price</th>\n",
              "      <th>Journey_day</th>\n",
              "      <th>Journey_month</th>\n",
              "      <th>Dep_Time_hour</th>\n",
              "      <th>Dep_Time_minute</th>\n",
              "      <th>Arrival_Time_hour</th>\n",
              "      <th>Arrival_Time_minute</th>\n",
              "      <th>Duration_hours</th>\n",
              "      <th>Duration_mins</th>\n",
              "    </tr>\n",
              "  </thead>\n",
              "  <tbody>\n",
              "    <tr>\n",
              "      <th>0</th>\n",
              "      <td>3897</td>\n",
              "      <td>24</td>\n",
              "      <td>3</td>\n",
              "      <td>22</td>\n",
              "      <td>20</td>\n",
              "      <td>1</td>\n",
              "      <td>10</td>\n",
              "      <td>2</td>\n",
              "      <td>50</td>\n",
              "    </tr>\n",
              "    <tr>\n",
              "      <th>1</th>\n",
              "      <td>7662</td>\n",
              "      <td>5</td>\n",
              "      <td>1</td>\n",
              "      <td>5</td>\n",
              "      <td>50</td>\n",
              "      <td>13</td>\n",
              "      <td>15</td>\n",
              "      <td>7</td>\n",
              "      <td>25</td>\n",
              "    </tr>\n",
              "    <tr>\n",
              "      <th>2</th>\n",
              "      <td>13882</td>\n",
              "      <td>6</td>\n",
              "      <td>9</td>\n",
              "      <td>9</td>\n",
              "      <td>25</td>\n",
              "      <td>4</td>\n",
              "      <td>25</td>\n",
              "      <td>19</td>\n",
              "      <td>0</td>\n",
              "    </tr>\n",
              "    <tr>\n",
              "      <th>3</th>\n",
              "      <td>6218</td>\n",
              "      <td>5</td>\n",
              "      <td>12</td>\n",
              "      <td>18</td>\n",
              "      <td>5</td>\n",
              "      <td>23</td>\n",
              "      <td>30</td>\n",
              "      <td>5</td>\n",
              "      <td>25</td>\n",
              "    </tr>\n",
              "    <tr>\n",
              "      <th>4</th>\n",
              "      <td>13302</td>\n",
              "      <td>3</td>\n",
              "      <td>1</td>\n",
              "      <td>16</td>\n",
              "      <td>50</td>\n",
              "      <td>21</td>\n",
              "      <td>35</td>\n",
              "      <td>4</td>\n",
              "      <td>45</td>\n",
              "    </tr>\n",
              "    <tr>\n",
              "      <th>...</th>\n",
              "      <td>...</td>\n",
              "      <td>...</td>\n",
              "      <td>...</td>\n",
              "      <td>...</td>\n",
              "      <td>...</td>\n",
              "      <td>...</td>\n",
              "      <td>...</td>\n",
              "      <td>...</td>\n",
              "      <td>...</td>\n",
              "    </tr>\n",
              "    <tr>\n",
              "      <th>10678</th>\n",
              "      <td>4107</td>\n",
              "      <td>4</td>\n",
              "      <td>9</td>\n",
              "      <td>19</td>\n",
              "      <td>55</td>\n",
              "      <td>22</td>\n",
              "      <td>25</td>\n",
              "      <td>2</td>\n",
              "      <td>30</td>\n",
              "    </tr>\n",
              "    <tr>\n",
              "      <th>10679</th>\n",
              "      <td>4145</td>\n",
              "      <td>27</td>\n",
              "      <td>4</td>\n",
              "      <td>20</td>\n",
              "      <td>45</td>\n",
              "      <td>23</td>\n",
              "      <td>20</td>\n",
              "      <td>2</td>\n",
              "      <td>35</td>\n",
              "    </tr>\n",
              "    <tr>\n",
              "      <th>10680</th>\n",
              "      <td>7229</td>\n",
              "      <td>27</td>\n",
              "      <td>4</td>\n",
              "      <td>8</td>\n",
              "      <td>20</td>\n",
              "      <td>11</td>\n",
              "      <td>20</td>\n",
              "      <td>3</td>\n",
              "      <td>0</td>\n",
              "    </tr>\n",
              "    <tr>\n",
              "      <th>10681</th>\n",
              "      <td>12648</td>\n",
              "      <td>3</td>\n",
              "      <td>1</td>\n",
              "      <td>11</td>\n",
              "      <td>30</td>\n",
              "      <td>14</td>\n",
              "      <td>10</td>\n",
              "      <td>2</td>\n",
              "      <td>40</td>\n",
              "    </tr>\n",
              "    <tr>\n",
              "      <th>10682</th>\n",
              "      <td>11753</td>\n",
              "      <td>5</td>\n",
              "      <td>9</td>\n",
              "      <td>10</td>\n",
              "      <td>55</td>\n",
              "      <td>19</td>\n",
              "      <td>15</td>\n",
              "      <td>8</td>\n",
              "      <td>20</td>\n",
              "    </tr>\n",
              "  </tbody>\n",
              "</table>\n",
              "<p>10682 rows × 9 columns</p>\n",
              "</div>"
            ],
            "text/plain": [
              "       Price  Journey_day  Journey_month  Dep_Time_hour  Dep_Time_minute  \\\n",
              "0       3897           24              3             22               20   \n",
              "1       7662            5              1              5               50   \n",
              "2      13882            6              9              9               25   \n",
              "3       6218            5             12             18                5   \n",
              "4      13302            3              1             16               50   \n",
              "...      ...          ...            ...            ...              ...   \n",
              "10678   4107            4              9             19               55   \n",
              "10679   4145           27              4             20               45   \n",
              "10680   7229           27              4              8               20   \n",
              "10681  12648            3              1             11               30   \n",
              "10682  11753            5              9             10               55   \n",
              "\n",
              "       Arrival_Time_hour  Arrival_Time_minute  Duration_hours  Duration_mins  \n",
              "0                      1                   10               2             50  \n",
              "1                     13                   15               7             25  \n",
              "2                      4                   25              19              0  \n",
              "3                     23                   30               5             25  \n",
              "4                     21                   35               4             45  \n",
              "...                  ...                  ...             ...            ...  \n",
              "10678                 22                   25               2             30  \n",
              "10679                 23                   20               2             35  \n",
              "10680                 11                   20               3              0  \n",
              "10681                 14                   10               2             40  \n",
              "10682                 19                   15               8             20  \n",
              "\n",
              "[10682 rows x 9 columns]"
            ]
          },
          "metadata": {},
          "execution_count": 229
        }
      ]
    },
    {
      "cell_type": "code",
      "metadata": {
        "id": "u5aXntx5sxCt",
        "colab": {
          "base_uri": "https://localhost:8080/",
          "height": 325
        },
        "outputId": "5b3b3eba-d72b-4d35-a176-3b901e625cd1"
      },
      "source": [
        "# Concatenate dataframe --> categorical + Airline + Source + Destination\n",
        "\n",
        "data_train=pd.concat([categorical,Airline,Source,Destination,train_data[cont_col]],axis=1)\n",
        "data_train.head()"
      ],
      "execution_count": 230,
      "outputs": [
        {
          "output_type": "execute_result",
          "data": {
            "text/html": [
              "<div>\n",
              "<style scoped>\n",
              "    .dataframe tbody tr th:only-of-type {\n",
              "        vertical-align: middle;\n",
              "    }\n",
              "\n",
              "    .dataframe tbody tr th {\n",
              "        vertical-align: top;\n",
              "    }\n",
              "\n",
              "    .dataframe thead th {\n",
              "        text-align: right;\n",
              "    }\n",
              "</style>\n",
              "<table border=\"1\" class=\"dataframe\">\n",
              "  <thead>\n",
              "    <tr style=\"text-align: right;\">\n",
              "      <th></th>\n",
              "      <th>Airline</th>\n",
              "      <th>Source</th>\n",
              "      <th>Destination</th>\n",
              "      <th>Total_Stops</th>\n",
              "      <th>Route_1</th>\n",
              "      <th>Route_2</th>\n",
              "      <th>Route_3</th>\n",
              "      <th>Route_4</th>\n",
              "      <th>Route_5</th>\n",
              "      <th>Air India</th>\n",
              "      <th>GoAir</th>\n",
              "      <th>IndiGo</th>\n",
              "      <th>Jet Airways</th>\n",
              "      <th>Jet Airways Business</th>\n",
              "      <th>Multiple carriers</th>\n",
              "      <th>Multiple carriers Premium economy</th>\n",
              "      <th>SpiceJet</th>\n",
              "      <th>...</th>\n",
              "      <th>Delhi</th>\n",
              "      <th>Kolkata</th>\n",
              "      <th>Mumbai</th>\n",
              "      <th>Cochin</th>\n",
              "      <th>Delhi</th>\n",
              "      <th>Hyderabad</th>\n",
              "      <th>Kolkata</th>\n",
              "      <th>New Delhi</th>\n",
              "      <th>Price</th>\n",
              "      <th>Journey_day</th>\n",
              "      <th>Journey_month</th>\n",
              "      <th>Dep_Time_hour</th>\n",
              "      <th>Dep_Time_minute</th>\n",
              "      <th>Arrival_Time_hour</th>\n",
              "      <th>Arrival_Time_minute</th>\n",
              "      <th>Duration_hours</th>\n",
              "      <th>Duration_mins</th>\n",
              "    </tr>\n",
              "  </thead>\n",
              "  <tbody>\n",
              "    <tr>\n",
              "      <th>0</th>\n",
              "      <td>IndiGo</td>\n",
              "      <td>Banglore</td>\n",
              "      <td>New Delhi</td>\n",
              "      <td>0</td>\n",
              "      <td>0</td>\n",
              "      <td>13</td>\n",
              "      <td>29</td>\n",
              "      <td>13</td>\n",
              "      <td>5</td>\n",
              "      <td>0</td>\n",
              "      <td>0</td>\n",
              "      <td>1</td>\n",
              "      <td>0</td>\n",
              "      <td>0</td>\n",
              "      <td>0</td>\n",
              "      <td>0</td>\n",
              "      <td>0</td>\n",
              "      <td>...</td>\n",
              "      <td>0</td>\n",
              "      <td>0</td>\n",
              "      <td>0</td>\n",
              "      <td>0</td>\n",
              "      <td>0</td>\n",
              "      <td>0</td>\n",
              "      <td>0</td>\n",
              "      <td>1</td>\n",
              "      <td>3897</td>\n",
              "      <td>24</td>\n",
              "      <td>3</td>\n",
              "      <td>22</td>\n",
              "      <td>20</td>\n",
              "      <td>1</td>\n",
              "      <td>10</td>\n",
              "      <td>2</td>\n",
              "      <td>50</td>\n",
              "    </tr>\n",
              "    <tr>\n",
              "      <th>1</th>\n",
              "      <td>Air India</td>\n",
              "      <td>Kolkata</td>\n",
              "      <td>Banglore</td>\n",
              "      <td>2</td>\n",
              "      <td>2</td>\n",
              "      <td>25</td>\n",
              "      <td>1</td>\n",
              "      <td>3</td>\n",
              "      <td>5</td>\n",
              "      <td>1</td>\n",
              "      <td>0</td>\n",
              "      <td>0</td>\n",
              "      <td>0</td>\n",
              "      <td>0</td>\n",
              "      <td>0</td>\n",
              "      <td>0</td>\n",
              "      <td>0</td>\n",
              "      <td>...</td>\n",
              "      <td>0</td>\n",
              "      <td>1</td>\n",
              "      <td>0</td>\n",
              "      <td>0</td>\n",
              "      <td>0</td>\n",
              "      <td>0</td>\n",
              "      <td>0</td>\n",
              "      <td>0</td>\n",
              "      <td>7662</td>\n",
              "      <td>5</td>\n",
              "      <td>1</td>\n",
              "      <td>5</td>\n",
              "      <td>50</td>\n",
              "      <td>13</td>\n",
              "      <td>15</td>\n",
              "      <td>7</td>\n",
              "      <td>25</td>\n",
              "    </tr>\n",
              "    <tr>\n",
              "      <th>2</th>\n",
              "      <td>Jet Airways</td>\n",
              "      <td>Delhi</td>\n",
              "      <td>Cochin</td>\n",
              "      <td>2</td>\n",
              "      <td>3</td>\n",
              "      <td>32</td>\n",
              "      <td>4</td>\n",
              "      <td>5</td>\n",
              "      <td>5</td>\n",
              "      <td>0</td>\n",
              "      <td>0</td>\n",
              "      <td>0</td>\n",
              "      <td>1</td>\n",
              "      <td>0</td>\n",
              "      <td>0</td>\n",
              "      <td>0</td>\n",
              "      <td>0</td>\n",
              "      <td>...</td>\n",
              "      <td>1</td>\n",
              "      <td>0</td>\n",
              "      <td>0</td>\n",
              "      <td>1</td>\n",
              "      <td>0</td>\n",
              "      <td>0</td>\n",
              "      <td>0</td>\n",
              "      <td>0</td>\n",
              "      <td>13882</td>\n",
              "      <td>6</td>\n",
              "      <td>9</td>\n",
              "      <td>9</td>\n",
              "      <td>25</td>\n",
              "      <td>4</td>\n",
              "      <td>25</td>\n",
              "      <td>19</td>\n",
              "      <td>0</td>\n",
              "    </tr>\n",
              "    <tr>\n",
              "      <th>3</th>\n",
              "      <td>IndiGo</td>\n",
              "      <td>Kolkata</td>\n",
              "      <td>Banglore</td>\n",
              "      <td>1</td>\n",
              "      <td>2</td>\n",
              "      <td>34</td>\n",
              "      <td>3</td>\n",
              "      <td>13</td>\n",
              "      <td>5</td>\n",
              "      <td>0</td>\n",
              "      <td>0</td>\n",
              "      <td>1</td>\n",
              "      <td>0</td>\n",
              "      <td>0</td>\n",
              "      <td>0</td>\n",
              "      <td>0</td>\n",
              "      <td>0</td>\n",
              "      <td>...</td>\n",
              "      <td>0</td>\n",
              "      <td>1</td>\n",
              "      <td>0</td>\n",
              "      <td>0</td>\n",
              "      <td>0</td>\n",
              "      <td>0</td>\n",
              "      <td>0</td>\n",
              "      <td>0</td>\n",
              "      <td>6218</td>\n",
              "      <td>5</td>\n",
              "      <td>12</td>\n",
              "      <td>18</td>\n",
              "      <td>5</td>\n",
              "      <td>23</td>\n",
              "      <td>30</td>\n",
              "      <td>5</td>\n",
              "      <td>25</td>\n",
              "    </tr>\n",
              "    <tr>\n",
              "      <th>4</th>\n",
              "      <td>IndiGo</td>\n",
              "      <td>Banglore</td>\n",
              "      <td>New Delhi</td>\n",
              "      <td>1</td>\n",
              "      <td>0</td>\n",
              "      <td>34</td>\n",
              "      <td>8</td>\n",
              "      <td>13</td>\n",
              "      <td>5</td>\n",
              "      <td>0</td>\n",
              "      <td>0</td>\n",
              "      <td>1</td>\n",
              "      <td>0</td>\n",
              "      <td>0</td>\n",
              "      <td>0</td>\n",
              "      <td>0</td>\n",
              "      <td>0</td>\n",
              "      <td>...</td>\n",
              "      <td>0</td>\n",
              "      <td>0</td>\n",
              "      <td>0</td>\n",
              "      <td>0</td>\n",
              "      <td>0</td>\n",
              "      <td>0</td>\n",
              "      <td>0</td>\n",
              "      <td>1</td>\n",
              "      <td>13302</td>\n",
              "      <td>3</td>\n",
              "      <td>1</td>\n",
              "      <td>16</td>\n",
              "      <td>50</td>\n",
              "      <td>21</td>\n",
              "      <td>35</td>\n",
              "      <td>4</td>\n",
              "      <td>45</td>\n",
              "    </tr>\n",
              "  </tbody>\n",
              "</table>\n",
              "<p>5 rows × 38 columns</p>\n",
              "</div>"
            ],
            "text/plain": [
              "       Airline    Source Destination  Total_Stops  Route_1  Route_2  Route_3  \\\n",
              "0       IndiGo  Banglore   New Delhi            0        0       13       29   \n",
              "1    Air India   Kolkata    Banglore            2        2       25        1   \n",
              "2  Jet Airways     Delhi      Cochin            2        3       32        4   \n",
              "3       IndiGo   Kolkata    Banglore            1        2       34        3   \n",
              "4       IndiGo  Banglore   New Delhi            1        0       34        8   \n",
              "\n",
              "   Route_4  Route_5  Air India  GoAir  IndiGo  Jet Airways  \\\n",
              "0       13        5          0      0       1            0   \n",
              "1        3        5          1      0       0            0   \n",
              "2        5        5          0      0       0            1   \n",
              "3       13        5          0      0       1            0   \n",
              "4       13        5          0      0       1            0   \n",
              "\n",
              "   Jet Airways Business  Multiple carriers  Multiple carriers Premium economy  \\\n",
              "0                     0                  0                                  0   \n",
              "1                     0                  0                                  0   \n",
              "2                     0                  0                                  0   \n",
              "3                     0                  0                                  0   \n",
              "4                     0                  0                                  0   \n",
              "\n",
              "   SpiceJet  ...  Delhi  Kolkata  Mumbai  Cochin  Delhi  Hyderabad  Kolkata  \\\n",
              "0         0  ...      0        0       0       0      0          0        0   \n",
              "1         0  ...      0        1       0       0      0          0        0   \n",
              "2         0  ...      1        0       0       1      0          0        0   \n",
              "3         0  ...      0        1       0       0      0          0        0   \n",
              "4         0  ...      0        0       0       0      0          0        0   \n",
              "\n",
              "   New Delhi  Price  Journey_day  Journey_month  Dep_Time_hour  \\\n",
              "0          1   3897           24              3             22   \n",
              "1          0   7662            5              1              5   \n",
              "2          0  13882            6              9              9   \n",
              "3          0   6218            5             12             18   \n",
              "4          1  13302            3              1             16   \n",
              "\n",
              "   Dep_Time_minute  Arrival_Time_hour  Arrival_Time_minute  Duration_hours  \\\n",
              "0               20                  1                   10               2   \n",
              "1               50                 13                   15               7   \n",
              "2               25                  4                   25              19   \n",
              "3                5                 23                   30               5   \n",
              "4               50                 21                   35               4   \n",
              "\n",
              "   Duration_mins  \n",
              "0             50  \n",
              "1             25  \n",
              "2              0  \n",
              "3             25  \n",
              "4             45  \n",
              "\n",
              "[5 rows x 38 columns]"
            ]
          },
          "metadata": {},
          "execution_count": 230
        }
      ]
    },
    {
      "cell_type": "code",
      "metadata": {
        "id": "A2pJAIxfsxCx"
      },
      "source": [
        "drop_column(data_train,'Airline')\n",
        "drop_column(data_train,'Source')\n",
        "drop_column(data_train,'Destination')"
      ],
      "execution_count": 231,
      "outputs": []
    },
    {
      "cell_type": "code",
      "metadata": {
        "id": "0Hd9UgH6sxCz",
        "colab": {
          "base_uri": "https://localhost:8080/",
          "height": 278
        },
        "outputId": "81e632cd-d813-43b2-cf5c-3fb967864083"
      },
      "source": [
        "data_train.head()"
      ],
      "execution_count": 232,
      "outputs": [
        {
          "output_type": "execute_result",
          "data": {
            "text/html": [
              "<div>\n",
              "<style scoped>\n",
              "    .dataframe tbody tr th:only-of-type {\n",
              "        vertical-align: middle;\n",
              "    }\n",
              "\n",
              "    .dataframe tbody tr th {\n",
              "        vertical-align: top;\n",
              "    }\n",
              "\n",
              "    .dataframe thead th {\n",
              "        text-align: right;\n",
              "    }\n",
              "</style>\n",
              "<table border=\"1\" class=\"dataframe\">\n",
              "  <thead>\n",
              "    <tr style=\"text-align: right;\">\n",
              "      <th></th>\n",
              "      <th>Total_Stops</th>\n",
              "      <th>Route_1</th>\n",
              "      <th>Route_2</th>\n",
              "      <th>Route_3</th>\n",
              "      <th>Route_4</th>\n",
              "      <th>Route_5</th>\n",
              "      <th>Air India</th>\n",
              "      <th>GoAir</th>\n",
              "      <th>IndiGo</th>\n",
              "      <th>Jet Airways</th>\n",
              "      <th>Jet Airways Business</th>\n",
              "      <th>Multiple carriers</th>\n",
              "      <th>Multiple carriers Premium economy</th>\n",
              "      <th>SpiceJet</th>\n",
              "      <th>Trujet</th>\n",
              "      <th>Vistara</th>\n",
              "      <th>Vistara Premium economy</th>\n",
              "      <th>Chennai</th>\n",
              "      <th>Delhi</th>\n",
              "      <th>Kolkata</th>\n",
              "      <th>Mumbai</th>\n",
              "      <th>Cochin</th>\n",
              "      <th>Delhi</th>\n",
              "      <th>Hyderabad</th>\n",
              "      <th>Kolkata</th>\n",
              "      <th>New Delhi</th>\n",
              "      <th>Price</th>\n",
              "      <th>Journey_day</th>\n",
              "      <th>Journey_month</th>\n",
              "      <th>Dep_Time_hour</th>\n",
              "      <th>Dep_Time_minute</th>\n",
              "      <th>Arrival_Time_hour</th>\n",
              "      <th>Arrival_Time_minute</th>\n",
              "      <th>Duration_hours</th>\n",
              "      <th>Duration_mins</th>\n",
              "    </tr>\n",
              "  </thead>\n",
              "  <tbody>\n",
              "    <tr>\n",
              "      <th>0</th>\n",
              "      <td>0</td>\n",
              "      <td>0</td>\n",
              "      <td>13</td>\n",
              "      <td>29</td>\n",
              "      <td>13</td>\n",
              "      <td>5</td>\n",
              "      <td>0</td>\n",
              "      <td>0</td>\n",
              "      <td>1</td>\n",
              "      <td>0</td>\n",
              "      <td>0</td>\n",
              "      <td>0</td>\n",
              "      <td>0</td>\n",
              "      <td>0</td>\n",
              "      <td>0</td>\n",
              "      <td>0</td>\n",
              "      <td>0</td>\n",
              "      <td>0</td>\n",
              "      <td>0</td>\n",
              "      <td>0</td>\n",
              "      <td>0</td>\n",
              "      <td>0</td>\n",
              "      <td>0</td>\n",
              "      <td>0</td>\n",
              "      <td>0</td>\n",
              "      <td>1</td>\n",
              "      <td>3897</td>\n",
              "      <td>24</td>\n",
              "      <td>3</td>\n",
              "      <td>22</td>\n",
              "      <td>20</td>\n",
              "      <td>1</td>\n",
              "      <td>10</td>\n",
              "      <td>2</td>\n",
              "      <td>50</td>\n",
              "    </tr>\n",
              "    <tr>\n",
              "      <th>1</th>\n",
              "      <td>2</td>\n",
              "      <td>2</td>\n",
              "      <td>25</td>\n",
              "      <td>1</td>\n",
              "      <td>3</td>\n",
              "      <td>5</td>\n",
              "      <td>1</td>\n",
              "      <td>0</td>\n",
              "      <td>0</td>\n",
              "      <td>0</td>\n",
              "      <td>0</td>\n",
              "      <td>0</td>\n",
              "      <td>0</td>\n",
              "      <td>0</td>\n",
              "      <td>0</td>\n",
              "      <td>0</td>\n",
              "      <td>0</td>\n",
              "      <td>0</td>\n",
              "      <td>0</td>\n",
              "      <td>1</td>\n",
              "      <td>0</td>\n",
              "      <td>0</td>\n",
              "      <td>0</td>\n",
              "      <td>0</td>\n",
              "      <td>0</td>\n",
              "      <td>0</td>\n",
              "      <td>7662</td>\n",
              "      <td>5</td>\n",
              "      <td>1</td>\n",
              "      <td>5</td>\n",
              "      <td>50</td>\n",
              "      <td>13</td>\n",
              "      <td>15</td>\n",
              "      <td>7</td>\n",
              "      <td>25</td>\n",
              "    </tr>\n",
              "    <tr>\n",
              "      <th>2</th>\n",
              "      <td>2</td>\n",
              "      <td>3</td>\n",
              "      <td>32</td>\n",
              "      <td>4</td>\n",
              "      <td>5</td>\n",
              "      <td>5</td>\n",
              "      <td>0</td>\n",
              "      <td>0</td>\n",
              "      <td>0</td>\n",
              "      <td>1</td>\n",
              "      <td>0</td>\n",
              "      <td>0</td>\n",
              "      <td>0</td>\n",
              "      <td>0</td>\n",
              "      <td>0</td>\n",
              "      <td>0</td>\n",
              "      <td>0</td>\n",
              "      <td>0</td>\n",
              "      <td>1</td>\n",
              "      <td>0</td>\n",
              "      <td>0</td>\n",
              "      <td>1</td>\n",
              "      <td>0</td>\n",
              "      <td>0</td>\n",
              "      <td>0</td>\n",
              "      <td>0</td>\n",
              "      <td>13882</td>\n",
              "      <td>6</td>\n",
              "      <td>9</td>\n",
              "      <td>9</td>\n",
              "      <td>25</td>\n",
              "      <td>4</td>\n",
              "      <td>25</td>\n",
              "      <td>19</td>\n",
              "      <td>0</td>\n",
              "    </tr>\n",
              "    <tr>\n",
              "      <th>3</th>\n",
              "      <td>1</td>\n",
              "      <td>2</td>\n",
              "      <td>34</td>\n",
              "      <td>3</td>\n",
              "      <td>13</td>\n",
              "      <td>5</td>\n",
              "      <td>0</td>\n",
              "      <td>0</td>\n",
              "      <td>1</td>\n",
              "      <td>0</td>\n",
              "      <td>0</td>\n",
              "      <td>0</td>\n",
              "      <td>0</td>\n",
              "      <td>0</td>\n",
              "      <td>0</td>\n",
              "      <td>0</td>\n",
              "      <td>0</td>\n",
              "      <td>0</td>\n",
              "      <td>0</td>\n",
              "      <td>1</td>\n",
              "      <td>0</td>\n",
              "      <td>0</td>\n",
              "      <td>0</td>\n",
              "      <td>0</td>\n",
              "      <td>0</td>\n",
              "      <td>0</td>\n",
              "      <td>6218</td>\n",
              "      <td>5</td>\n",
              "      <td>12</td>\n",
              "      <td>18</td>\n",
              "      <td>5</td>\n",
              "      <td>23</td>\n",
              "      <td>30</td>\n",
              "      <td>5</td>\n",
              "      <td>25</td>\n",
              "    </tr>\n",
              "    <tr>\n",
              "      <th>4</th>\n",
              "      <td>1</td>\n",
              "      <td>0</td>\n",
              "      <td>34</td>\n",
              "      <td>8</td>\n",
              "      <td>13</td>\n",
              "      <td>5</td>\n",
              "      <td>0</td>\n",
              "      <td>0</td>\n",
              "      <td>1</td>\n",
              "      <td>0</td>\n",
              "      <td>0</td>\n",
              "      <td>0</td>\n",
              "      <td>0</td>\n",
              "      <td>0</td>\n",
              "      <td>0</td>\n",
              "      <td>0</td>\n",
              "      <td>0</td>\n",
              "      <td>0</td>\n",
              "      <td>0</td>\n",
              "      <td>0</td>\n",
              "      <td>0</td>\n",
              "      <td>0</td>\n",
              "      <td>0</td>\n",
              "      <td>0</td>\n",
              "      <td>0</td>\n",
              "      <td>1</td>\n",
              "      <td>13302</td>\n",
              "      <td>3</td>\n",
              "      <td>1</td>\n",
              "      <td>16</td>\n",
              "      <td>50</td>\n",
              "      <td>21</td>\n",
              "      <td>35</td>\n",
              "      <td>4</td>\n",
              "      <td>45</td>\n",
              "    </tr>\n",
              "  </tbody>\n",
              "</table>\n",
              "</div>"
            ],
            "text/plain": [
              "   Total_Stops  Route_1  Route_2  Route_3  Route_4  Route_5  Air India  GoAir  \\\n",
              "0            0        0       13       29       13        5          0      0   \n",
              "1            2        2       25        1        3        5          1      0   \n",
              "2            2        3       32        4        5        5          0      0   \n",
              "3            1        2       34        3       13        5          0      0   \n",
              "4            1        0       34        8       13        5          0      0   \n",
              "\n",
              "   IndiGo  Jet Airways  Jet Airways Business  Multiple carriers  \\\n",
              "0       1            0                     0                  0   \n",
              "1       0            0                     0                  0   \n",
              "2       0            1                     0                  0   \n",
              "3       1            0                     0                  0   \n",
              "4       1            0                     0                  0   \n",
              "\n",
              "   Multiple carriers Premium economy  SpiceJet  Trujet  Vistara  \\\n",
              "0                                  0         0       0        0   \n",
              "1                                  0         0       0        0   \n",
              "2                                  0         0       0        0   \n",
              "3                                  0         0       0        0   \n",
              "4                                  0         0       0        0   \n",
              "\n",
              "   Vistara Premium economy  Chennai  Delhi  Kolkata  Mumbai  Cochin  Delhi  \\\n",
              "0                        0        0      0        0       0       0      0   \n",
              "1                        0        0      0        1       0       0      0   \n",
              "2                        0        0      1        0       0       1      0   \n",
              "3                        0        0      0        1       0       0      0   \n",
              "4                        0        0      0        0       0       0      0   \n",
              "\n",
              "   Hyderabad  Kolkata  New Delhi  Price  Journey_day  Journey_month  \\\n",
              "0          0        0          1   3897           24              3   \n",
              "1          0        0          0   7662            5              1   \n",
              "2          0        0          0  13882            6              9   \n",
              "3          0        0          0   6218            5             12   \n",
              "4          0        0          1  13302            3              1   \n",
              "\n",
              "   Dep_Time_hour  Dep_Time_minute  Arrival_Time_hour  Arrival_Time_minute  \\\n",
              "0             22               20                  1                   10   \n",
              "1              5               50                 13                   15   \n",
              "2              9               25                  4                   25   \n",
              "3             18                5                 23                   30   \n",
              "4             16               50                 21                   35   \n",
              "\n",
              "   Duration_hours  Duration_mins  \n",
              "0               2             50  \n",
              "1               7             25  \n",
              "2              19              0  \n",
              "3               5             25  \n",
              "4               4             45  "
            ]
          },
          "metadata": {},
          "execution_count": 232
        }
      ]
    },
    {
      "cell_type": "code",
      "metadata": {
        "id": "kvBJx36EsxC1"
      },
      "source": [
        ""
      ],
      "execution_count": 232,
      "outputs": []
    },
    {
      "cell_type": "code",
      "metadata": {
        "id": "xvRN_NRvsxC3"
      },
      "source": [
        "pd.set_option('display.max_columns',35)"
      ],
      "execution_count": 233,
      "outputs": []
    },
    {
      "cell_type": "code",
      "metadata": {
        "id": "EbZy0YBvsxC4",
        "colab": {
          "base_uri": "https://localhost:8080/",
          "height": 278
        },
        "outputId": "a1fb1f1f-9ef1-45ab-c172-5bf9c5a523ba"
      },
      "source": [
        "data_train.head()"
      ],
      "execution_count": 234,
      "outputs": [
        {
          "output_type": "execute_result",
          "data": {
            "text/html": [
              "<div>\n",
              "<style scoped>\n",
              "    .dataframe tbody tr th:only-of-type {\n",
              "        vertical-align: middle;\n",
              "    }\n",
              "\n",
              "    .dataframe tbody tr th {\n",
              "        vertical-align: top;\n",
              "    }\n",
              "\n",
              "    .dataframe thead th {\n",
              "        text-align: right;\n",
              "    }\n",
              "</style>\n",
              "<table border=\"1\" class=\"dataframe\">\n",
              "  <thead>\n",
              "    <tr style=\"text-align: right;\">\n",
              "      <th></th>\n",
              "      <th>Total_Stops</th>\n",
              "      <th>Route_1</th>\n",
              "      <th>Route_2</th>\n",
              "      <th>Route_3</th>\n",
              "      <th>Route_4</th>\n",
              "      <th>Route_5</th>\n",
              "      <th>Air India</th>\n",
              "      <th>GoAir</th>\n",
              "      <th>IndiGo</th>\n",
              "      <th>Jet Airways</th>\n",
              "      <th>Jet Airways Business</th>\n",
              "      <th>Multiple carriers</th>\n",
              "      <th>Multiple carriers Premium economy</th>\n",
              "      <th>SpiceJet</th>\n",
              "      <th>Trujet</th>\n",
              "      <th>Vistara</th>\n",
              "      <th>Vistara Premium economy</th>\n",
              "      <th>Chennai</th>\n",
              "      <th>Delhi</th>\n",
              "      <th>Kolkata</th>\n",
              "      <th>Mumbai</th>\n",
              "      <th>Cochin</th>\n",
              "      <th>Delhi</th>\n",
              "      <th>Hyderabad</th>\n",
              "      <th>Kolkata</th>\n",
              "      <th>New Delhi</th>\n",
              "      <th>Price</th>\n",
              "      <th>Journey_day</th>\n",
              "      <th>Journey_month</th>\n",
              "      <th>Dep_Time_hour</th>\n",
              "      <th>Dep_Time_minute</th>\n",
              "      <th>Arrival_Time_hour</th>\n",
              "      <th>Arrival_Time_minute</th>\n",
              "      <th>Duration_hours</th>\n",
              "      <th>Duration_mins</th>\n",
              "    </tr>\n",
              "  </thead>\n",
              "  <tbody>\n",
              "    <tr>\n",
              "      <th>0</th>\n",
              "      <td>0</td>\n",
              "      <td>0</td>\n",
              "      <td>13</td>\n",
              "      <td>29</td>\n",
              "      <td>13</td>\n",
              "      <td>5</td>\n",
              "      <td>0</td>\n",
              "      <td>0</td>\n",
              "      <td>1</td>\n",
              "      <td>0</td>\n",
              "      <td>0</td>\n",
              "      <td>0</td>\n",
              "      <td>0</td>\n",
              "      <td>0</td>\n",
              "      <td>0</td>\n",
              "      <td>0</td>\n",
              "      <td>0</td>\n",
              "      <td>0</td>\n",
              "      <td>0</td>\n",
              "      <td>0</td>\n",
              "      <td>0</td>\n",
              "      <td>0</td>\n",
              "      <td>0</td>\n",
              "      <td>0</td>\n",
              "      <td>0</td>\n",
              "      <td>1</td>\n",
              "      <td>3897</td>\n",
              "      <td>24</td>\n",
              "      <td>3</td>\n",
              "      <td>22</td>\n",
              "      <td>20</td>\n",
              "      <td>1</td>\n",
              "      <td>10</td>\n",
              "      <td>2</td>\n",
              "      <td>50</td>\n",
              "    </tr>\n",
              "    <tr>\n",
              "      <th>1</th>\n",
              "      <td>2</td>\n",
              "      <td>2</td>\n",
              "      <td>25</td>\n",
              "      <td>1</td>\n",
              "      <td>3</td>\n",
              "      <td>5</td>\n",
              "      <td>1</td>\n",
              "      <td>0</td>\n",
              "      <td>0</td>\n",
              "      <td>0</td>\n",
              "      <td>0</td>\n",
              "      <td>0</td>\n",
              "      <td>0</td>\n",
              "      <td>0</td>\n",
              "      <td>0</td>\n",
              "      <td>0</td>\n",
              "      <td>0</td>\n",
              "      <td>0</td>\n",
              "      <td>0</td>\n",
              "      <td>1</td>\n",
              "      <td>0</td>\n",
              "      <td>0</td>\n",
              "      <td>0</td>\n",
              "      <td>0</td>\n",
              "      <td>0</td>\n",
              "      <td>0</td>\n",
              "      <td>7662</td>\n",
              "      <td>5</td>\n",
              "      <td>1</td>\n",
              "      <td>5</td>\n",
              "      <td>50</td>\n",
              "      <td>13</td>\n",
              "      <td>15</td>\n",
              "      <td>7</td>\n",
              "      <td>25</td>\n",
              "    </tr>\n",
              "    <tr>\n",
              "      <th>2</th>\n",
              "      <td>2</td>\n",
              "      <td>3</td>\n",
              "      <td>32</td>\n",
              "      <td>4</td>\n",
              "      <td>5</td>\n",
              "      <td>5</td>\n",
              "      <td>0</td>\n",
              "      <td>0</td>\n",
              "      <td>0</td>\n",
              "      <td>1</td>\n",
              "      <td>0</td>\n",
              "      <td>0</td>\n",
              "      <td>0</td>\n",
              "      <td>0</td>\n",
              "      <td>0</td>\n",
              "      <td>0</td>\n",
              "      <td>0</td>\n",
              "      <td>0</td>\n",
              "      <td>1</td>\n",
              "      <td>0</td>\n",
              "      <td>0</td>\n",
              "      <td>1</td>\n",
              "      <td>0</td>\n",
              "      <td>0</td>\n",
              "      <td>0</td>\n",
              "      <td>0</td>\n",
              "      <td>13882</td>\n",
              "      <td>6</td>\n",
              "      <td>9</td>\n",
              "      <td>9</td>\n",
              "      <td>25</td>\n",
              "      <td>4</td>\n",
              "      <td>25</td>\n",
              "      <td>19</td>\n",
              "      <td>0</td>\n",
              "    </tr>\n",
              "    <tr>\n",
              "      <th>3</th>\n",
              "      <td>1</td>\n",
              "      <td>2</td>\n",
              "      <td>34</td>\n",
              "      <td>3</td>\n",
              "      <td>13</td>\n",
              "      <td>5</td>\n",
              "      <td>0</td>\n",
              "      <td>0</td>\n",
              "      <td>1</td>\n",
              "      <td>0</td>\n",
              "      <td>0</td>\n",
              "      <td>0</td>\n",
              "      <td>0</td>\n",
              "      <td>0</td>\n",
              "      <td>0</td>\n",
              "      <td>0</td>\n",
              "      <td>0</td>\n",
              "      <td>0</td>\n",
              "      <td>0</td>\n",
              "      <td>1</td>\n",
              "      <td>0</td>\n",
              "      <td>0</td>\n",
              "      <td>0</td>\n",
              "      <td>0</td>\n",
              "      <td>0</td>\n",
              "      <td>0</td>\n",
              "      <td>6218</td>\n",
              "      <td>5</td>\n",
              "      <td>12</td>\n",
              "      <td>18</td>\n",
              "      <td>5</td>\n",
              "      <td>23</td>\n",
              "      <td>30</td>\n",
              "      <td>5</td>\n",
              "      <td>25</td>\n",
              "    </tr>\n",
              "    <tr>\n",
              "      <th>4</th>\n",
              "      <td>1</td>\n",
              "      <td>0</td>\n",
              "      <td>34</td>\n",
              "      <td>8</td>\n",
              "      <td>13</td>\n",
              "      <td>5</td>\n",
              "      <td>0</td>\n",
              "      <td>0</td>\n",
              "      <td>1</td>\n",
              "      <td>0</td>\n",
              "      <td>0</td>\n",
              "      <td>0</td>\n",
              "      <td>0</td>\n",
              "      <td>0</td>\n",
              "      <td>0</td>\n",
              "      <td>0</td>\n",
              "      <td>0</td>\n",
              "      <td>0</td>\n",
              "      <td>0</td>\n",
              "      <td>0</td>\n",
              "      <td>0</td>\n",
              "      <td>0</td>\n",
              "      <td>0</td>\n",
              "      <td>0</td>\n",
              "      <td>0</td>\n",
              "      <td>1</td>\n",
              "      <td>13302</td>\n",
              "      <td>3</td>\n",
              "      <td>1</td>\n",
              "      <td>16</td>\n",
              "      <td>50</td>\n",
              "      <td>21</td>\n",
              "      <td>35</td>\n",
              "      <td>4</td>\n",
              "      <td>45</td>\n",
              "    </tr>\n",
              "  </tbody>\n",
              "</table>\n",
              "</div>"
            ],
            "text/plain": [
              "   Total_Stops  Route_1  Route_2  Route_3  Route_4  Route_5  Air India  GoAir  \\\n",
              "0            0        0       13       29       13        5          0      0   \n",
              "1            2        2       25        1        3        5          1      0   \n",
              "2            2        3       32        4        5        5          0      0   \n",
              "3            1        2       34        3       13        5          0      0   \n",
              "4            1        0       34        8       13        5          0      0   \n",
              "\n",
              "   IndiGo  Jet Airways  Jet Airways Business  Multiple carriers  \\\n",
              "0       1            0                     0                  0   \n",
              "1       0            0                     0                  0   \n",
              "2       0            1                     0                  0   \n",
              "3       1            0                     0                  0   \n",
              "4       1            0                     0                  0   \n",
              "\n",
              "   Multiple carriers Premium economy  SpiceJet  Trujet  Vistara  \\\n",
              "0                                  0         0       0        0   \n",
              "1                                  0         0       0        0   \n",
              "2                                  0         0       0        0   \n",
              "3                                  0         0       0        0   \n",
              "4                                  0         0       0        0   \n",
              "\n",
              "   Vistara Premium economy  Chennai  Delhi  Kolkata  Mumbai  Cochin  Delhi  \\\n",
              "0                        0        0      0        0       0       0      0   \n",
              "1                        0        0      0        1       0       0      0   \n",
              "2                        0        0      1        0       0       1      0   \n",
              "3                        0        0      0        1       0       0      0   \n",
              "4                        0        0      0        0       0       0      0   \n",
              "\n",
              "   Hyderabad  Kolkata  New Delhi  Price  Journey_day  Journey_month  \\\n",
              "0          0        0          1   3897           24              3   \n",
              "1          0        0          0   7662            5              1   \n",
              "2          0        0          0  13882            6              9   \n",
              "3          0        0          0   6218            5             12   \n",
              "4          0        0          1  13302            3              1   \n",
              "\n",
              "   Dep_Time_hour  Dep_Time_minute  Arrival_Time_hour  Arrival_Time_minute  \\\n",
              "0             22               20                  1                   10   \n",
              "1              5               50                 13                   15   \n",
              "2              9               25                  4                   25   \n",
              "3             18                5                 23                   30   \n",
              "4             16               50                 21                   35   \n",
              "\n",
              "   Duration_hours  Duration_mins  \n",
              "0               2             50  \n",
              "1               7             25  \n",
              "2              19              0  \n",
              "3               5             25  \n",
              "4               4             45  "
            ]
          },
          "metadata": {},
          "execution_count": 234
        }
      ]
    },
    {
      "cell_type": "code",
      "metadata": {
        "id": "9w9jdAk3sxC4",
        "colab": {
          "base_uri": "https://localhost:8080/"
        },
        "outputId": "eed5683e-df91-4fe6-80d2-80e52c56e6e1"
      },
      "source": [
        "data_train.columns"
      ],
      "execution_count": 235,
      "outputs": [
        {
          "output_type": "execute_result",
          "data": {
            "text/plain": [
              "Index(['Total_Stops', 'Route_1', 'Route_2', 'Route_3', 'Route_4', 'Route_5',\n",
              "       'Air India', 'GoAir', 'IndiGo', 'Jet Airways', 'Jet Airways Business',\n",
              "       'Multiple carriers', 'Multiple carriers Premium economy', 'SpiceJet',\n",
              "       'Trujet', 'Vistara', 'Vistara Premium economy', 'Chennai', 'Delhi',\n",
              "       'Kolkata', 'Mumbai', 'Cochin', 'Delhi', 'Hyderabad', 'Kolkata',\n",
              "       'New Delhi', 'Price', 'Journey_day', 'Journey_month', 'Dep_Time_hour',\n",
              "       'Dep_Time_minute', 'Arrival_Time_hour', 'Arrival_Time_minute',\n",
              "       'Duration_hours', 'Duration_mins'],\n",
              "      dtype='object')"
            ]
          },
          "metadata": {},
          "execution_count": 235
        }
      ]
    },
    {
      "cell_type": "code",
      "metadata": {
        "id": "B0HTKIupsxC8"
      },
      "source": [
        ""
      ],
      "execution_count": 235,
      "outputs": []
    },
    {
      "cell_type": "markdown",
      "metadata": {
        "id": "7BA5hqNTsxC-"
      },
      "source": [
        "### outlier detection"
      ]
    },
    {
      "cell_type": "code",
      "metadata": {
        "id": "VXqzTMSWsxC-"
      },
      "source": [
        "def plot(df,col):\n",
        "    fig,(ax1,ax2)=plt.subplots(2,1)\n",
        "    sns.distplot(df[col],ax=ax1)\n",
        "    sns.boxplot(df[col],ax=ax2)\n",
        "    "
      ],
      "execution_count": 236,
      "outputs": []
    },
    {
      "cell_type": "code",
      "metadata": {
        "id": "dIFZ-bBdsxDA",
        "colab": {
          "base_uri": "https://localhost:8080/",
          "height": 297
        },
        "outputId": "857e107c-03f2-4426-f834-cde93a673a52"
      },
      "source": [
        "plt.figure(figsize=(30,20))\n",
        "plot(data_train,'Price')"
      ],
      "execution_count": 237,
      "outputs": [
        {
          "output_type": "display_data",
          "data": {
            "text/plain": [
              "<Figure size 2160x1440 with 0 Axes>"
            ]
          },
          "metadata": {}
        },
        {
          "output_type": "display_data",
          "data": {
            "image/png": "[encoded data removed]",
            "text/plain": [
              "<Figure size 432x288 with 2 Axes>"
            ]
          },
          "metadata": {
            "needs_background": "light"
          }
        }
      ]
    },
    {
      "cell_type": "code",
      "metadata": {
        "id": "Fi_Pkm0JsxDC"
      },
      "source": [
        ""
      ],
      "execution_count": 237,
      "outputs": []
    },
    {
      "cell_type": "code",
      "metadata": {
        "id": "OlT2fbEAsxDF"
      },
      "source": [
        ""
      ],
      "execution_count": 237,
      "outputs": []
    },
    {
      "cell_type": "markdown",
      "metadata": {
        "id": "JluK1oBjsxFY"
      },
      "source": [
        "#### dealing with Outliers"
      ]
    },
    {
      "cell_type": "code",
      "metadata": {
        "id": "SLK3laj7sxFa"
      },
      "source": [
        "data_train['Price']=np.where(data_train['Price']>=40000,data_train['Price'].median(),data_train['Price'])"
      ],
      "execution_count": 238,
      "outputs": []
    },
    {
      "cell_type": "code",
      "metadata": {
        "id": "iEacMnp5sxFe",
        "colab": {
          "base_uri": "https://localhost:8080/",
          "height": 297
        },
        "outputId": "ccb3a09e-f5f6-4e0a-fce6-2290d2d74aa2"
      },
      "source": [
        "plt.figure(figsize=(30,20))\n",
        "plot(data_train,'Price')"
      ],
      "execution_count": 282,
      "outputs": [
        {
          "output_type": "display_data",
          "data": {
            "text/plain": [
              "<Figure size 2160x1440 with 0 Axes>"
            ]
          },
          "metadata": {}
        },
        {
          "output_type": "display_data",
          "data": {
            "image/png": "[encoded data removed]",
            "text/plain": [
              "<Figure size 432x288 with 2 Axes>"
            ]
          },
          "metadata": {
            "needs_background": "light"
          }
        }
      ]
    },
    {
      "cell_type": "code",
      "metadata": {
        "id": "XkmzR7ClsxFg"
      },
      "source": [
        ""
      ],
      "execution_count": 239,
      "outputs": []
    },
    {
      "cell_type": "code",
      "metadata": {
        "id": "4A4iRNmwsxFh"
      },
      "source": [
        "### separate your independent & dependent data"
      ],
      "execution_count": 240,
      "outputs": []
    },
    {
      "cell_type": "code",
      "metadata": {
        "id": "Ikt2nBhhsxFh",
        "colab": {
          "base_uri": "https://localhost:8080/",
          "height": 278
        },
        "outputId": "3f017feb-5cb6-40d8-a6d6-dbfb56251b55"
      },
      "source": [
        "X=data_train.drop('Price',axis=1)\n",
        "X.head()"
      ],
      "execution_count": 241,
      "outputs": [
        {
          "output_type": "execute_result",
          "data": {
            "text/html": [
              "<div>\n",
              "<style scoped>\n",
              "    .dataframe tbody tr th:only-of-type {\n",
              "        vertical-align: middle;\n",
              "    }\n",
              "\n",
              "    .dataframe tbody tr th {\n",
              "        vertical-align: top;\n",
              "    }\n",
              "\n",
              "    .dataframe thead th {\n",
              "        text-align: right;\n",
              "    }\n",
              "</style>\n",
              "<table border=\"1\" class=\"dataframe\">\n",
              "  <thead>\n",
              "    <tr style=\"text-align: right;\">\n",
              "      <th></th>\n",
              "      <th>Total_Stops</th>\n",
              "      <th>Route_1</th>\n",
              "      <th>Route_2</th>\n",
              "      <th>Route_3</th>\n",
              "      <th>Route_4</th>\n",
              "      <th>Route_5</th>\n",
              "      <th>Air India</th>\n",
              "      <th>GoAir</th>\n",
              "      <th>IndiGo</th>\n",
              "      <th>Jet Airways</th>\n",
              "      <th>Jet Airways Business</th>\n",
              "      <th>Multiple carriers</th>\n",
              "      <th>Multiple carriers Premium economy</th>\n",
              "      <th>SpiceJet</th>\n",
              "      <th>Trujet</th>\n",
              "      <th>Vistara</th>\n",
              "      <th>Vistara Premium economy</th>\n",
              "      <th>Chennai</th>\n",
              "      <th>Delhi</th>\n",
              "      <th>Kolkata</th>\n",
              "      <th>Mumbai</th>\n",
              "      <th>Cochin</th>\n",
              "      <th>Delhi</th>\n",
              "      <th>Hyderabad</th>\n",
              "      <th>Kolkata</th>\n",
              "      <th>New Delhi</th>\n",
              "      <th>Journey_day</th>\n",
              "      <th>Journey_month</th>\n",
              "      <th>Dep_Time_hour</th>\n",
              "      <th>Dep_Time_minute</th>\n",
              "      <th>Arrival_Time_hour</th>\n",
              "      <th>Arrival_Time_minute</th>\n",
              "      <th>Duration_hours</th>\n",
              "      <th>Duration_mins</th>\n",
              "    </tr>\n",
              "  </thead>\n",
              "  <tbody>\n",
              "    <tr>\n",
              "      <th>0</th>\n",
              "      <td>0</td>\n",
              "      <td>0</td>\n",
              "      <td>13</td>\n",
              "      <td>29</td>\n",
              "      <td>13</td>\n",
              "      <td>5</td>\n",
              "      <td>0</td>\n",
              "      <td>0</td>\n",
              "      <td>1</td>\n",
              "      <td>0</td>\n",
              "      <td>0</td>\n",
              "      <td>0</td>\n",
              "      <td>0</td>\n",
              "      <td>0</td>\n",
              "      <td>0</td>\n",
              "      <td>0</td>\n",
              "      <td>0</td>\n",
              "      <td>0</td>\n",
              "      <td>0</td>\n",
              "      <td>0</td>\n",
              "      <td>0</td>\n",
              "      <td>0</td>\n",
              "      <td>0</td>\n",
              "      <td>0</td>\n",
              "      <td>0</td>\n",
              "      <td>1</td>\n",
              "      <td>24</td>\n",
              "      <td>3</td>\n",
              "      <td>22</td>\n",
              "      <td>20</td>\n",
              "      <td>1</td>\n",
              "      <td>10</td>\n",
              "      <td>2</td>\n",
              "      <td>50</td>\n",
              "    </tr>\n",
              "    <tr>\n",
              "      <th>1</th>\n",
              "      <td>2</td>\n",
              "      <td>2</td>\n",
              "      <td>25</td>\n",
              "      <td>1</td>\n",
              "      <td>3</td>\n",
              "      <td>5</td>\n",
              "      <td>1</td>\n",
              "      <td>0</td>\n",
              "      <td>0</td>\n",
              "      <td>0</td>\n",
              "      <td>0</td>\n",
              "      <td>0</td>\n",
              "      <td>0</td>\n",
              "      <td>0</td>\n",
              "      <td>0</td>\n",
              "      <td>0</td>\n",
              "      <td>0</td>\n",
              "      <td>0</td>\n",
              "      <td>0</td>\n",
              "      <td>1</td>\n",
              "      <td>0</td>\n",
              "      <td>0</td>\n",
              "      <td>0</td>\n",
              "      <td>0</td>\n",
              "      <td>0</td>\n",
              "      <td>0</td>\n",
              "      <td>5</td>\n",
              "      <td>1</td>\n",
              "      <td>5</td>\n",
              "      <td>50</td>\n",
              "      <td>13</td>\n",
              "      <td>15</td>\n",
              "      <td>7</td>\n",
              "      <td>25</td>\n",
              "    </tr>\n",
              "    <tr>\n",
              "      <th>2</th>\n",
              "      <td>2</td>\n",
              "      <td>3</td>\n",
              "      <td>32</td>\n",
              "      <td>4</td>\n",
              "      <td>5</td>\n",
              "      <td>5</td>\n",
              "      <td>0</td>\n",
              "      <td>0</td>\n",
              "      <td>0</td>\n",
              "      <td>1</td>\n",
              "      <td>0</td>\n",
              "      <td>0</td>\n",
              "      <td>0</td>\n",
              "      <td>0</td>\n",
              "      <td>0</td>\n",
              "      <td>0</td>\n",
              "      <td>0</td>\n",
              "      <td>0</td>\n",
              "      <td>1</td>\n",
              "      <td>0</td>\n",
              "      <td>0</td>\n",
              "      <td>1</td>\n",
              "      <td>0</td>\n",
              "      <td>0</td>\n",
              "      <td>0</td>\n",
              "      <td>0</td>\n",
              "      <td>6</td>\n",
              "      <td>9</td>\n",
              "      <td>9</td>\n",
              "      <td>25</td>\n",
              "      <td>4</td>\n",
              "      <td>25</td>\n",
              "      <td>19</td>\n",
              "      <td>0</td>\n",
              "    </tr>\n",
              "    <tr>\n",
              "      <th>3</th>\n",
              "      <td>1</td>\n",
              "      <td>2</td>\n",
              "      <td>34</td>\n",
              "      <td>3</td>\n",
              "      <td>13</td>\n",
              "      <td>5</td>\n",
              "      <td>0</td>\n",
              "      <td>0</td>\n",
              "      <td>1</td>\n",
              "      <td>0</td>\n",
              "      <td>0</td>\n",
              "      <td>0</td>\n",
              "      <td>0</td>\n",
              "      <td>0</td>\n",
              "      <td>0</td>\n",
              "      <td>0</td>\n",
              "      <td>0</td>\n",
              "      <td>0</td>\n",
              "      <td>0</td>\n",
              "      <td>1</td>\n",
              "      <td>0</td>\n",
              "      <td>0</td>\n",
              "      <td>0</td>\n",
              "      <td>0</td>\n",
              "      <td>0</td>\n",
              "      <td>0</td>\n",
              "      <td>5</td>\n",
              "      <td>12</td>\n",
              "      <td>18</td>\n",
              "      <td>5</td>\n",
              "      <td>23</td>\n",
              "      <td>30</td>\n",
              "      <td>5</td>\n",
              "      <td>25</td>\n",
              "    </tr>\n",
              "    <tr>\n",
              "      <th>4</th>\n",
              "      <td>1</td>\n",
              "      <td>0</td>\n",
              "      <td>34</td>\n",
              "      <td>8</td>\n",
              "      <td>13</td>\n",
              "      <td>5</td>\n",
              "      <td>0</td>\n",
              "      <td>0</td>\n",
              "      <td>1</td>\n",
              "      <td>0</td>\n",
              "      <td>0</td>\n",
              "      <td>0</td>\n",
              "      <td>0</td>\n",
              "      <td>0</td>\n",
              "      <td>0</td>\n",
              "      <td>0</td>\n",
              "      <td>0</td>\n",
              "      <td>0</td>\n",
              "      <td>0</td>\n",
              "      <td>0</td>\n",
              "      <td>0</td>\n",
              "      <td>0</td>\n",
              "      <td>0</td>\n",
              "      <td>0</td>\n",
              "      <td>0</td>\n",
              "      <td>1</td>\n",
              "      <td>3</td>\n",
              "      <td>1</td>\n",
              "      <td>16</td>\n",
              "      <td>50</td>\n",
              "      <td>21</td>\n",
              "      <td>35</td>\n",
              "      <td>4</td>\n",
              "      <td>45</td>\n",
              "    </tr>\n",
              "  </tbody>\n",
              "</table>\n",
              "</div>"
            ],
            "text/plain": [
              "   Total_Stops  Route_1  Route_2  Route_3  Route_4  Route_5  Air India  GoAir  \\\n",
              "0            0        0       13       29       13        5          0      0   \n",
              "1            2        2       25        1        3        5          1      0   \n",
              "2            2        3       32        4        5        5          0      0   \n",
              "3            1        2       34        3       13        5          0      0   \n",
              "4            1        0       34        8       13        5          0      0   \n",
              "\n",
              "   IndiGo  Jet Airways  Jet Airways Business  Multiple carriers  \\\n",
              "0       1            0                     0                  0   \n",
              "1       0            0                     0                  0   \n",
              "2       0            1                     0                  0   \n",
              "3       1            0                     0                  0   \n",
              "4       1            0                     0                  0   \n",
              "\n",
              "   Multiple carriers Premium economy  SpiceJet  Trujet  Vistara  \\\n",
              "0                                  0         0       0        0   \n",
              "1                                  0         0       0        0   \n",
              "2                                  0         0       0        0   \n",
              "3                                  0         0       0        0   \n",
              "4                                  0         0       0        0   \n",
              "\n",
              "   Vistara Premium economy  Chennai  Delhi  Kolkata  Mumbai  Cochin  Delhi  \\\n",
              "0                        0        0      0        0       0       0      0   \n",
              "1                        0        0      0        1       0       0      0   \n",
              "2                        0        0      1        0       0       1      0   \n",
              "3                        0        0      0        1       0       0      0   \n",
              "4                        0        0      0        0       0       0      0   \n",
              "\n",
              "   Hyderabad  Kolkata  New Delhi  Journey_day  Journey_month  Dep_Time_hour  \\\n",
              "0          0        0          1           24              3             22   \n",
              "1          0        0          0            5              1              5   \n",
              "2          0        0          0            6              9              9   \n",
              "3          0        0          0            5             12             18   \n",
              "4          0        0          1            3              1             16   \n",
              "\n",
              "   Dep_Time_minute  Arrival_Time_hour  Arrival_Time_minute  Duration_hours  \\\n",
              "0               20                  1                   10               2   \n",
              "1               50                 13                   15               7   \n",
              "2               25                  4                   25              19   \n",
              "3                5                 23                   30               5   \n",
              "4               50                 21                   35               4   \n",
              "\n",
              "   Duration_mins  \n",
              "0             50  \n",
              "1             25  \n",
              "2              0  \n",
              "3             25  \n",
              "4             45  "
            ]
          },
          "metadata": {},
          "execution_count": 241
        }
      ]
    },
    {
      "cell_type": "code",
      "metadata": {
        "id": "yvSiTQrwsxFi"
      },
      "source": [
        ""
      ],
      "execution_count": 241,
      "outputs": []
    },
    {
      "cell_type": "code",
      "metadata": {
        "id": "FMcQrqIVsxFj",
        "colab": {
          "base_uri": "https://localhost:8080/"
        },
        "outputId": "2dcafbf5-86bf-43d9-a710-950403dd3d03"
      },
      "source": [
        "y=data_train['Price']\n",
        "y"
      ],
      "execution_count": 242,
      "outputs": [
        {
          "output_type": "execute_result",
          "data": {
            "text/plain": [
              "0         3897.0\n",
              "1         7662.0\n",
              "2        13882.0\n",
              "3         6218.0\n",
              "4        13302.0\n",
              "          ...   \n",
              "10678     4107.0\n",
              "10679     4145.0\n",
              "10680     7229.0\n",
              "10681    12648.0\n",
              "10682    11753.0\n",
              "Name: Price, Length: 10682, dtype: float64"
            ]
          },
          "metadata": {},
          "execution_count": 242
        }
      ]
    },
    {
      "cell_type": "code",
      "metadata": {
        "id": "nb6z7L46sxFj"
      },
      "source": [
        "##type(X)"
      ],
      "execution_count": 243,
      "outputs": []
    },
    {
      "cell_type": "code",
      "metadata": {
        "id": "bM9ISbmisxFk"
      },
      "source": [
        "##type(y)"
      ],
      "execution_count": 244,
      "outputs": []
    },
    {
      "cell_type": "code",
      "metadata": {
        "id": "Tlv9GNy_sxFk"
      },
      "source": [
        "##X.isnull().sum()"
      ],
      "execution_count": 245,
      "outputs": []
    },
    {
      "cell_type": "code",
      "metadata": {
        "id": "urk-3GtKsxFm"
      },
      "source": [
        "##y.isnull().sum()"
      ],
      "execution_count": 246,
      "outputs": []
    },
    {
      "cell_type": "code",
      "metadata": {
        "id": "wLXwtWotsxFn"
      },
      "source": [
        "#### as now we dont have any missing value in data, we can definitely go ahead with Feature Selection"
      ],
      "execution_count": 247,
      "outputs": []
    },
    {
      "cell_type": "code",
      "metadata": {
        "id": "Bx1p0Ba0sxFq"
      },
      "source": [
        ""
      ],
      "execution_count": 247,
      "outputs": []
    },
    {
      "cell_type": "markdown",
      "metadata": {
        "id": "4WYGyjdusxFs"
      },
      "source": [
        "### Feature Selection\n",
        "    Finding out the best feature which will contribute and have good relation with target variable. \n",
        "    \n",
        "### Why to apply Feature Selection?\n",
        "    To select important features to get rid of curse of dimensionality ie..to get rid of duplicate features"
      ]
    },
    {
      "cell_type": "code",
      "metadata": {
        "id": "HNs5IwDqsxFs"
      },
      "source": [
        "###np.array(X)"
      ],
      "execution_count": 277,
      "outputs": []
    },
    {
      "cell_type": "code",
      "metadata": {
        "id": "jYdChecysxFt"
      },
      "source": [
        "##np.array(y)"
      ],
      "execution_count": 278,
      "outputs": []
    },
    {
      "cell_type": "markdown",
      "metadata": {
        "id": "LlwX0QzEsxFt"
      },
      "source": [
        "### I wanted to find mutual information scores or matrix to get to know about the relationship between all features."
      ]
    },
    {
      "cell_type": "markdown",
      "metadata": {
        "id": "PceGuF11sxFu"
      },
      "source": [
        "####  Feature Selection using Information Gain,"
      ]
    },
    {
      "cell_type": "code",
      "metadata": {
        "id": "Ac3El6G1sxFu"
      },
      "source": [
        "from sklearn.feature_selection import mutual_info_classif"
      ],
      "execution_count": 306,
      "outputs": []
    },
    {
      "cell_type": "code",
      "metadata": {
        "id": "BjV5OvPnsxFv"
      },
      "source": [
        "###mutual_info_classif(np.array(X),np.array(y))"
      ],
      "execution_count": 308,
      "outputs": []
    },
    {
      "cell_type": "code",
      "metadata": {
        "id": "qa088bqasxFv",
        "colab": {
          "base_uri": "https://localhost:8080/"
        },
        "outputId": "0af1c443-575b-4d3a-aea3-bc7afb511bd6"
      },
      "source": [
        "X.dtypes"
      ],
      "execution_count": 309,
      "outputs": [
        {
          "output_type": "execute_result",
          "data": {
            "text/plain": [
              "Total_Stops                          int64\n",
              "Route_1                              int64\n",
              "Route_2                              int64\n",
              "Route_3                              int64\n",
              "Route_4                              int64\n",
              "Route_5                              int64\n",
              "Air India                            uint8\n",
              "GoAir                                uint8\n",
              "IndiGo                               uint8\n",
              "Jet Airways                          uint8\n",
              "Jet Airways Business                 uint8\n",
              "Multiple carriers                    uint8\n",
              "Multiple carriers Premium economy    uint8\n",
              "SpiceJet                             uint8\n",
              "Trujet                               uint8\n",
              "Vistara                              uint8\n",
              "Vistara Premium economy              uint8\n",
              "Chennai                              uint8\n",
              "Delhi                                uint8\n",
              "Kolkata                              uint8\n",
              "Mumbai                               uint8\n",
              "Cochin                               uint8\n",
              "Delhi                                uint8\n",
              "Hyderabad                            uint8\n",
              "Kolkata                              uint8\n",
              "New Delhi                            uint8\n",
              "Journey_day                          int64\n",
              "Journey_month                        int64\n",
              "Dep_Time_hour                        int64\n",
              "Dep_Time_minute                      int64\n",
              "Arrival_Time_hour                    int64\n",
              "Arrival_Time_minute                  int64\n",
              "Duration_hours                       int64\n",
              "Duration_mins                        int64\n",
              "dtype: object"
            ]
          },
          "metadata": {},
          "execution_count": 309
        }
      ]
    },
    {
      "cell_type": "code",
      "metadata": {
        "id": "_GPK1ucWsxFw",
        "colab": {
          "base_uri": "https://localhost:8080/"
        },
        "outputId": "90cefcd1-1f58-4af9-ed68-43aaa5aa6ed1"
      },
      "source": [
        "mutual_info_classif(X,y)"
      ],
      "execution_count": 310,
      "outputs": [
        {
          "output_type": "execute_result",
          "data": {
            "text/plain": [
              "array([2.11531517, 2.03863849, 2.77843185, 2.24528799, 1.47198377,\n",
              "       0.73846686, 0.75618083, 0.08840075, 0.66577626, 0.93189716,\n",
              "       0.        , 0.57931706, 0.0049751 , 0.33414758, 0.00484795,\n",
              "       0.21764184, 0.00423708, 0.16790924, 1.57921025, 0.89954129,\n",
              "       0.28927603, 1.55777801, 0.41735909, 0.29215203, 0.17366143,\n",
              "       0.35749092, 1.08143683, 0.868205  , 1.4099694 , 1.22447883,\n",
              "       1.83320233, 1.55763162, 1.8080919 , 1.08737932])"
            ]
          },
          "metadata": {},
          "execution_count": 310
        }
      ]
    },
    {
      "cell_type": "code",
      "metadata": {
        "id": "tLSyShntsxF1",
        "colab": {
          "base_uri": "https://localhost:8080/",
          "height": 1000
        },
        "outputId": "79ef67cc-0223-4d33-8380-2bf16d0f46ba"
      },
      "source": [
        "imp=pd.DataFrame(mutual_info_classif(X,y),index=X.columns)\n",
        "imp"
      ],
      "execution_count": 311,
      "outputs": [
        {
          "output_type": "execute_result",
          "data": {
            "text/html": [
              "<div>\n",
              "<style scoped>\n",
              "    .dataframe tbody tr th:only-of-type {\n",
              "        vertical-align: middle;\n",
              "    }\n",
              "\n",
              "    .dataframe tbody tr th {\n",
              "        vertical-align: top;\n",
              "    }\n",
              "\n",
              "    .dataframe thead th {\n",
              "        text-align: right;\n",
              "    }\n",
              "</style>\n",
              "<table border=\"1\" class=\"dataframe\">\n",
              "  <thead>\n",
              "    <tr style=\"text-align: right;\">\n",
              "      <th></th>\n",
              "      <th>0</th>\n",
              "    </tr>\n",
              "  </thead>\n",
              "  <tbody>\n",
              "    <tr>\n",
              "      <th>Total_Stops</th>\n",
              "      <td>2.125253</td>\n",
              "    </tr>\n",
              "    <tr>\n",
              "      <th>Route_1</th>\n",
              "      <td>2.022079</td>\n",
              "    </tr>\n",
              "    <tr>\n",
              "      <th>Route_2</th>\n",
              "      <td>2.790161</td>\n",
              "    </tr>\n",
              "    <tr>\n",
              "      <th>Route_3</th>\n",
              "      <td>2.258216</td>\n",
              "    </tr>\n",
              "    <tr>\n",
              "      <th>Route_4</th>\n",
              "      <td>1.439528</td>\n",
              "    </tr>\n",
              "    <tr>\n",
              "      <th>Route_5</th>\n",
              "      <td>0.777775</td>\n",
              "    </tr>\n",
              "    <tr>\n",
              "      <th>Air India</th>\n",
              "      <td>0.763056</td>\n",
              "    </tr>\n",
              "    <tr>\n",
              "      <th>GoAir</th>\n",
              "      <td>0.087256</td>\n",
              "    </tr>\n",
              "    <tr>\n",
              "      <th>IndiGo</th>\n",
              "      <td>0.685294</td>\n",
              "    </tr>\n",
              "    <tr>\n",
              "      <th>Jet Airways</th>\n",
              "      <td>0.916156</td>\n",
              "    </tr>\n",
              "    <tr>\n",
              "      <th>Jet Airways Business</th>\n",
              "      <td>0.009263</td>\n",
              "    </tr>\n",
              "    <tr>\n",
              "      <th>Multiple carriers</th>\n",
              "      <td>0.560720</td>\n",
              "    </tr>\n",
              "    <tr>\n",
              "      <th>Multiple carriers Premium economy</th>\n",
              "      <td>0.002501</td>\n",
              "    </tr>\n",
              "    <tr>\n",
              "      <th>SpiceJet</th>\n",
              "      <td>0.318948</td>\n",
              "    </tr>\n",
              "    <tr>\n",
              "      <th>Trujet</th>\n",
              "      <td>0.009781</td>\n",
              "    </tr>\n",
              "    <tr>\n",
              "      <th>Vistara</th>\n",
              "      <td>0.206781</td>\n",
              "    </tr>\n",
              "    <tr>\n",
              "      <th>Vistara Premium economy</th>\n",
              "      <td>0.000000</td>\n",
              "    </tr>\n",
              "    <tr>\n",
              "      <th>Chennai</th>\n",
              "      <td>0.167578</td>\n",
              "    </tr>\n",
              "    <tr>\n",
              "      <th>Delhi</th>\n",
              "      <td>1.556569</td>\n",
              "    </tr>\n",
              "    <tr>\n",
              "      <th>Kolkata</th>\n",
              "      <td>0.883197</td>\n",
              "    </tr>\n",
              "    <tr>\n",
              "      <th>Mumbai</th>\n",
              "      <td>0.275429</td>\n",
              "    </tr>\n",
              "    <tr>\n",
              "      <th>Cochin</th>\n",
              "      <td>1.558451</td>\n",
              "    </tr>\n",
              "    <tr>\n",
              "      <th>Delhi</th>\n",
              "      <td>0.399634</td>\n",
              "    </tr>\n",
              "    <tr>\n",
              "      <th>Hyderabad</th>\n",
              "      <td>0.283562</td>\n",
              "    </tr>\n",
              "    <tr>\n",
              "      <th>Kolkata</th>\n",
              "      <td>0.176239</td>\n",
              "    </tr>\n",
              "    <tr>\n",
              "      <th>New Delhi</th>\n",
              "      <td>0.378723</td>\n",
              "    </tr>\n",
              "    <tr>\n",
              "      <th>Journey_day</th>\n",
              "      <td>1.090277</td>\n",
              "    </tr>\n",
              "    <tr>\n",
              "      <th>Journey_month</th>\n",
              "      <td>0.826718</td>\n",
              "    </tr>\n",
              "    <tr>\n",
              "      <th>Dep_Time_hour</th>\n",
              "      <td>1.437774</td>\n",
              "    </tr>\n",
              "    <tr>\n",
              "      <th>Dep_Time_minute</th>\n",
              "      <td>1.179403</td>\n",
              "    </tr>\n",
              "    <tr>\n",
              "      <th>Arrival_Time_hour</th>\n",
              "      <td>1.818463</td>\n",
              "    </tr>\n",
              "    <tr>\n",
              "      <th>Arrival_Time_minute</th>\n",
              "      <td>1.531122</td>\n",
              "    </tr>\n",
              "    <tr>\n",
              "      <th>Duration_hours</th>\n",
              "      <td>1.791560</td>\n",
              "    </tr>\n",
              "    <tr>\n",
              "      <th>Duration_mins</th>\n",
              "      <td>1.075312</td>\n",
              "    </tr>\n",
              "  </tbody>\n",
              "</table>\n",
              "</div>"
            ],
            "text/plain": [
              "                                          0\n",
              "Total_Stops                        2.125253\n",
              "Route_1                            2.022079\n",
              "Route_2                            2.790161\n",
              "Route_3                            2.258216\n",
              "Route_4                            1.439528\n",
              "Route_5                            0.777775\n",
              "Air India                          0.763056\n",
              "GoAir                              0.087256\n",
              "IndiGo                             0.685294\n",
              "Jet Airways                        0.916156\n",
              "Jet Airways Business               0.009263\n",
              "Multiple carriers                  0.560720\n",
              "Multiple carriers Premium economy  0.002501\n",
              "SpiceJet                           0.318948\n",
              "Trujet                             0.009781\n",
              "Vistara                            0.206781\n",
              "Vistara Premium economy            0.000000\n",
              "Chennai                            0.167578\n",
              "Delhi                              1.556569\n",
              "Kolkata                            0.883197\n",
              "Mumbai                             0.275429\n",
              "Cochin                             1.558451\n",
              "Delhi                              0.399634\n",
              "Hyderabad                          0.283562\n",
              "Kolkata                            0.176239\n",
              "New Delhi                          0.378723\n",
              "Journey_day                        1.090277\n",
              "Journey_month                      0.826718\n",
              "Dep_Time_hour                      1.437774\n",
              "Dep_Time_minute                    1.179403\n",
              "Arrival_Time_hour                  1.818463\n",
              "Arrival_Time_minute                1.531122\n",
              "Duration_hours                     1.791560\n",
              "Duration_mins                      1.075312"
            ]
          },
          "metadata": {},
          "execution_count": 311
        }
      ]
    },
    {
      "cell_type": "code",
      "metadata": {
        "id": "TmlhNqr1sxF3",
        "colab": {
          "base_uri": "https://localhost:8080/",
          "height": 1000
        },
        "outputId": "6a04e4bf-3589-4d70-ad91-9ffb49f2af8b"
      },
      "source": [
        "imp.columns=['importance']\n",
        "imp.sort_values(by='importance',ascending=False)"
      ],
      "execution_count": 312,
      "outputs": [
        {
          "output_type": "execute_result",
          "data": {
            "text/html": [
              "<div>\n",
              "<style scoped>\n",
              "    .dataframe tbody tr th:only-of-type {\n",
              "        vertical-align: middle;\n",
              "    }\n",
              "\n",
              "    .dataframe tbody tr th {\n",
              "        vertical-align: top;\n",
              "    }\n",
              "\n",
              "    .dataframe thead th {\n",
              "        text-align: right;\n",
              "    }\n",
              "</style>\n",
              "<table border=\"1\" class=\"dataframe\">\n",
              "  <thead>\n",
              "    <tr style=\"text-align: right;\">\n",
              "      <th></th>\n",
              "      <th>importance</th>\n",
              "    </tr>\n",
              "  </thead>\n",
              "  <tbody>\n",
              "    <tr>\n",
              "      <th>Route_2</th>\n",
              "      <td>2.790161</td>\n",
              "    </tr>\n",
              "    <tr>\n",
              "      <th>Route_3</th>\n",
              "      <td>2.258216</td>\n",
              "    </tr>\n",
              "    <tr>\n",
              "      <th>Total_Stops</th>\n",
              "      <td>2.125253</td>\n",
              "    </tr>\n",
              "    <tr>\n",
              "      <th>Route_1</th>\n",
              "      <td>2.022079</td>\n",
              "    </tr>\n",
              "    <tr>\n",
              "      <th>Arrival_Time_hour</th>\n",
              "      <td>1.818463</td>\n",
              "    </tr>\n",
              "    <tr>\n",
              "      <th>Duration_hours</th>\n",
              "      <td>1.791560</td>\n",
              "    </tr>\n",
              "    <tr>\n",
              "      <th>Cochin</th>\n",
              "      <td>1.558451</td>\n",
              "    </tr>\n",
              "    <tr>\n",
              "      <th>Delhi</th>\n",
              "      <td>1.556569</td>\n",
              "    </tr>\n",
              "    <tr>\n",
              "      <th>Arrival_Time_minute</th>\n",
              "      <td>1.531122</td>\n",
              "    </tr>\n",
              "    <tr>\n",
              "      <th>Route_4</th>\n",
              "      <td>1.439528</td>\n",
              "    </tr>\n",
              "    <tr>\n",
              "      <th>Dep_Time_hour</th>\n",
              "      <td>1.437774</td>\n",
              "    </tr>\n",
              "    <tr>\n",
              "      <th>Dep_Time_minute</th>\n",
              "      <td>1.179403</td>\n",
              "    </tr>\n",
              "    <tr>\n",
              "      <th>Journey_day</th>\n",
              "      <td>1.090277</td>\n",
              "    </tr>\n",
              "    <tr>\n",
              "      <th>Duration_mins</th>\n",
              "      <td>1.075312</td>\n",
              "    </tr>\n",
              "    <tr>\n",
              "      <th>Jet Airways</th>\n",
              "      <td>0.916156</td>\n",
              "    </tr>\n",
              "    <tr>\n",
              "      <th>Kolkata</th>\n",
              "      <td>0.883197</td>\n",
              "    </tr>\n",
              "    <tr>\n",
              "      <th>Journey_month</th>\n",
              "      <td>0.826718</td>\n",
              "    </tr>\n",
              "    <tr>\n",
              "      <th>Route_5</th>\n",
              "      <td>0.777775</td>\n",
              "    </tr>\n",
              "    <tr>\n",
              "      <th>Air India</th>\n",
              "      <td>0.763056</td>\n",
              "    </tr>\n",
              "    <tr>\n",
              "      <th>IndiGo</th>\n",
              "      <td>0.685294</td>\n",
              "    </tr>\n",
              "    <tr>\n",
              "      <th>Multiple carriers</th>\n",
              "      <td>0.560720</td>\n",
              "    </tr>\n",
              "    <tr>\n",
              "      <th>Delhi</th>\n",
              "      <td>0.399634</td>\n",
              "    </tr>\n",
              "    <tr>\n",
              "      <th>New Delhi</th>\n",
              "      <td>0.378723</td>\n",
              "    </tr>\n",
              "    <tr>\n",
              "      <th>SpiceJet</th>\n",
              "      <td>0.318948</td>\n",
              "    </tr>\n",
              "    <tr>\n",
              "      <th>Hyderabad</th>\n",
              "      <td>0.283562</td>\n",
              "    </tr>\n",
              "    <tr>\n",
              "      <th>Mumbai</th>\n",
              "      <td>0.275429</td>\n",
              "    </tr>\n",
              "    <tr>\n",
              "      <th>Vistara</th>\n",
              "      <td>0.206781</td>\n",
              "    </tr>\n",
              "    <tr>\n",
              "      <th>Kolkata</th>\n",
              "      <td>0.176239</td>\n",
              "    </tr>\n",
              "    <tr>\n",
              "      <th>Chennai</th>\n",
              "      <td>0.167578</td>\n",
              "    </tr>\n",
              "    <tr>\n",
              "      <th>GoAir</th>\n",
              "      <td>0.087256</td>\n",
              "    </tr>\n",
              "    <tr>\n",
              "      <th>Trujet</th>\n",
              "      <td>0.009781</td>\n",
              "    </tr>\n",
              "    <tr>\n",
              "      <th>Jet Airways Business</th>\n",
              "      <td>0.009263</td>\n",
              "    </tr>\n",
              "    <tr>\n",
              "      <th>Multiple carriers Premium economy</th>\n",
              "      <td>0.002501</td>\n",
              "    </tr>\n",
              "    <tr>\n",
              "      <th>Vistara Premium economy</th>\n",
              "      <td>0.000000</td>\n",
              "    </tr>\n",
              "  </tbody>\n",
              "</table>\n",
              "</div>"
            ],
            "text/plain": [
              "                                   importance\n",
              "Route_2                              2.790161\n",
              "Route_3                              2.258216\n",
              "Total_Stops                          2.125253\n",
              "Route_1                              2.022079\n",
              "Arrival_Time_hour                    1.818463\n",
              "Duration_hours                       1.791560\n",
              "Cochin                               1.558451\n",
              "Delhi                                1.556569\n",
              "Arrival_Time_minute                  1.531122\n",
              "Route_4                              1.439528\n",
              "Dep_Time_hour                        1.437774\n",
              "Dep_Time_minute                      1.179403\n",
              "Journey_day                          1.090277\n",
              "Duration_mins                        1.075312\n",
              "Jet Airways                          0.916156\n",
              "Kolkata                              0.883197\n",
              "Journey_month                        0.826718\n",
              "Route_5                              0.777775\n",
              "Air India                            0.763056\n",
              "IndiGo                               0.685294\n",
              "Multiple carriers                    0.560720\n",
              "Delhi                                0.399634\n",
              "New Delhi                            0.378723\n",
              "SpiceJet                             0.318948\n",
              "Hyderabad                            0.283562\n",
              "Mumbai                               0.275429\n",
              "Vistara                              0.206781\n",
              "Kolkata                              0.176239\n",
              "Chennai                              0.167578\n",
              "GoAir                                0.087256\n",
              "Trujet                               0.009781\n",
              "Jet Airways Business                 0.009263\n",
              "Multiple carriers Premium economy    0.002501\n",
              "Vistara Premium economy              0.000000"
            ]
          },
          "metadata": {},
          "execution_count": 312
        }
      ]
    },
    {
      "cell_type": "code",
      "metadata": {
        "id": "Vrdb9ZwWsxF5"
      },
      "source": [
        ""
      ],
      "execution_count": 312,
      "outputs": []
    },
    {
      "cell_type": "markdown",
      "metadata": {
        "id": "NWN48ww4sxF8"
      },
      "source": [
        "#### split dataset into train & test"
      ]
    },
    {
      "cell_type": "code",
      "metadata": {
        "id": "nHEfGUEasxF-"
      },
      "source": [
        "from sklearn.model_selection import train_test_split"
      ],
      "execution_count": 313,
      "outputs": []
    },
    {
      "cell_type": "code",
      "metadata": {
        "id": "uWpiWN0YsxF_"
      },
      "source": [
        "X_train,X_test,y_train,y_test=train_test_split(X,y,test_size=0.2)"
      ],
      "execution_count": 314,
      "outputs": []
    },
    {
      "cell_type": "code",
      "metadata": {
        "id": "S8NnJheNsxGA"
      },
      "source": [
        ""
      ],
      "execution_count": 314,
      "outputs": []
    },
    {
      "cell_type": "code",
      "metadata": {
        "id": "sDUnKD-qsxGA"
      },
      "source": [
        "from sklearn import metrics\n",
        "##dump your model using pickle so that we will re-use\n",
        "import pickle\n",
        "def predict(ml_model,dump):\n",
        "    model=ml_model.fit(X_train,y_train)\n",
        "    print('Training score : {}'.format(model.score(X_train,y_train)))\n",
        "    y_prediction=model.predict(X_test)\n",
        "    print('predictions are: \\n {}'.format(y_prediction))\n",
        "    print('\\n')\n",
        "    r2_score=metrics.r2_score(y_test,y_prediction)\n",
        "    print('r2 score: {}'.format(r2_score))\n",
        "    print('MAE:',metrics.mean_absolute_error(y_test,y_prediction))\n",
        "    print('MSE:',metrics.mean_squared_error(y_test,y_prediction))\n",
        "    print('RMSE:',np.sqrt(metrics.mean_squared_error(y_test,y_prediction)))\n",
        "    sns.distplot(y_test-y_prediction)\n",
        "    \n",
        "    if dump==1:\n",
        "        ##dump your model using pickle so that we will re-use\n",
        "        file=open('/content/rf_random.pkl','wb')\n",
        "        pickle.dump(model,file)"
      ],
      "execution_count": 315,
      "outputs": []
    },
    {
      "cell_type": "code",
      "metadata": {
        "id": "ujWezevCsxGD"
      },
      "source": [
        ""
      ],
      "execution_count": 315,
      "outputs": []
    },
    {
      "cell_type": "markdown",
      "metadata": {
        "id": "UjpVcNm_sxGE"
      },
      "source": [
        "#### import randomforest class"
      ]
    },
    {
      "cell_type": "code",
      "metadata": {
        "id": "WGGLnam8sxGE"
      },
      "source": [
        "from sklearn.ensemble import RandomForestRegressor"
      ],
      "execution_count": 316,
      "outputs": []
    },
    {
      "cell_type": "code",
      "metadata": {
        "id": "3AScXy_WsxGF",
        "colab": {
          "base_uri": "https://localhost:8080/",
          "height": 461
        },
        "outputId": "795c0fea-711b-44ec-e8b2-5e7be6c2e560"
      },
      "source": [
        "predict(RandomForestRegressor(),1)"
      ],
      "execution_count": 317,
      "outputs": [
        {
          "output_type": "stream",
          "name": "stdout",
          "text": [
            "Training score : 0.9536714250744001\n",
            "predictions are: \n",
            " [ 4053.92       14050.7275     11726.39216667 ...  4926.71\n",
            "  7088.11       27919.58      ]\n",
            "\n",
            "\n",
            "r2 score: 0.8241459460996068\n",
            "MAE: 1117.5054567243901\n",
            "MSE: 3143708.522649019\n",
            "RMSE: 1773.0506260817876\n"
          ]
        },
        {
          "output_type": "display_data",
          "data": {
            "image/png": "[encoded data removed]",
            "text/plain": [
              "<Figure size 432x288 with 1 Axes>"
            ]
          },
          "metadata": {
            "needs_background": "light"
          }
        }
      ]
    },
    {
      "cell_type": "code",
      "metadata": {
        "id": "tskGaMB4sxGH"
      },
      "source": [
        ""
      ],
      "execution_count": 317,
      "outputs": []
    },
    {
      "cell_type": "code",
      "metadata": {
        "id": "42xCIA_BsxGI"
      },
      "source": [
        ""
      ],
      "execution_count": 317,
      "outputs": []
    },
    {
      "cell_type": "code",
      "metadata": {
        "id": "RqhODYVLsxGJ"
      },
      "source": [
        ""
      ],
      "execution_count": 317,
      "outputs": []
    },
    {
      "cell_type": "markdown",
      "metadata": {
        "id": "V6aw86hCsxGK"
      },
      "source": [
        "#### play with multiple Algorithms"
      ]
    },
    {
      "cell_type": "code",
      "metadata": {
        "id": "7ifOQB94sxGM"
      },
      "source": [
        "\n",
        "from sklearn.linear_model import LinearRegression\n",
        "from sklearn.neighbors import KNeighborsRegressor\n",
        "from sklearn.ensemble import RandomForestRegressor\n",
        "from sklearn.tree import DecisionTreeRegressor"
      ],
      "execution_count": 318,
      "outputs": []
    },
    {
      "cell_type": "code",
      "metadata": {
        "id": "7lWqioZ1sxGN"
      },
      "source": [
        ""
      ],
      "execution_count": 318,
      "outputs": []
    },
    {
      "cell_type": "code",
      "metadata": {
        "id": "YOKtVMC9sxGO",
        "colab": {
          "base_uri": "https://localhost:8080/",
          "height": 443
        },
        "outputId": "5a97c72e-b3c5-4d41-ba8a-3a1edc1bb965"
      },
      "source": [
        "predict(DecisionTreeRegressor(),0)"
      ],
      "execution_count": 319,
      "outputs": [
        {
          "output_type": "stream",
          "name": "stdout",
          "text": [
            "Training score : 0.9679534264633165\n",
            "predictions are: \n",
            " [ 3943. 14714. 10844. ...  4729.  8378. 36235.]\n",
            "\n",
            "\n",
            "r2 score: 0.727854119392193\n",
            "MAE: 1307.502659491499\n",
            "MSE: 4865098.672989263\n",
            "RMSE: 2205.6968678830876\n"
          ]
        },
        {
          "output_type": "display_data",
          "data": {
            "image/png": "[encoded data removed]",
            "text/plain": [
              "<Figure size 432x288 with 1 Axes>"
            ]
          },
          "metadata": {
            "needs_background": "light"
          }
        }
      ]
    },
    {
      "cell_type": "code",
      "metadata": {
        "id": "R1Xb1FNmsxGP",
        "colab": {
          "base_uri": "https://localhost:8080/",
          "height": 461
        },
        "outputId": "0824cbda-0298-435f-e3e2-781350787247"
      },
      "source": [
        "predict(LinearRegression(),0)"
      ],
      "execution_count": 320,
      "outputs": [
        {
          "output_type": "stream",
          "name": "stdout",
          "text": [
            "Training score : 0.6134069095405368\n",
            "predictions are: \n",
            " [ 3493.0216807  12336.21337806 11773.83396415 ...  5439.62242857\n",
            "  9806.48308611 15175.66413084]\n",
            "\n",
            "\n",
            "r2 score: 0.6248737069456641\n",
            "MAE: 1911.2618035698133\n",
            "MSE: 6706059.362228965\n",
            "RMSE: 2589.6060245197464\n"
          ]
        },
        {
          "output_type": "display_data",
          "data": {
            "image/png": "[encoded data removed]",
            "text/plain": [
              "<Figure size 432x288 with 1 Axes>"
            ]
          },
          "metadata": {
            "needs_background": "light"
          }
        }
      ]
    },
    {
      "cell_type": "code",
      "metadata": {
        "id": "LdhnnvO4sxGR"
      },
      "source": [
        "from sklearn.ensemble import RandomForestRegressor"
      ],
      "execution_count": 321,
      "outputs": []
    },
    {
      "cell_type": "code",
      "metadata": {
        "id": "ezfYA5mq2kCR"
      },
      "source": [
        "reg_rf=RandomForestRegressor()"
      ],
      "execution_count": 322,
      "outputs": []
    },
    {
      "cell_type": "markdown",
      "metadata": {
        "id": "barddajXsxGR"
      },
      "source": [
        "#### Hyperparameter Tuning\n",
        "    1.Choose following method for hyperparameter tuning\n",
        "        a.RandomizedSearchCV --> Fast way to Hypertune model\n",
        "        b.GridSearchCV--> Slow way to hypertune my model\n",
        "    \n",
        "    2.Assign hyperparameters in form of dictionary\n",
        "    3.Fit the model\n",
        "    4.Check best paramters and best score"
      ]
    },
    {
      "cell_type": "code",
      "metadata": {
        "id": "lLiS5VE2sxGS"
      },
      "source": [
        "from sklearn.model_selection import RandomizedSearchCV"
      ],
      "execution_count": 323,
      "outputs": []
    },
    {
      "cell_type": "code",
      "metadata": {
        "id": "ggjHeWbbsxGS"
      },
      "source": [
        "# Number of trees in random forest\n",
        "n_estimators=[int(x) for x in np.linspace(start=100,stop=1200,num=6)]\n",
        "\n",
        "# Number of features to consider at every split\n",
        "max_features=['auto','sqrt']\n",
        "\n",
        "# Maximum number of levels in tree\n",
        "max_depth=[int(x) for x in np.linspace(5,30,num=4)]\n",
        "\n",
        "# Minimum number of samples required to split a node\n",
        "min_samples_split=[5,10,15,100]"
      ],
      "execution_count": 324,
      "outputs": []
    },
    {
      "cell_type": "code",
      "metadata": {
        "id": "vG4KsJtasxGU"
      },
      "source": [
        "# Create the random grid\n",
        "\n",
        "random_grid={\n",
        "    'n_estimators':n_estimators,\n",
        "    'max_features':max_features,\n",
        "'max_depth':max_depth,\n",
        "    'min_samples_split':min_samples_split\n",
        "}"
      ],
      "execution_count": 325,
      "outputs": []
    },
    {
      "cell_type": "code",
      "metadata": {
        "id": "tyhAS0y4sxGV",
        "colab": {
          "base_uri": "https://localhost:8080/"
        },
        "outputId": "73d01141-e888-429b-a88b-4895558ab042"
      },
      "source": [
        "random_grid"
      ],
      "execution_count": 326,
      "outputs": [
        {
          "output_type": "execute_result",
          "data": {
            "text/plain": [
              "{'max_depth': [5, 13, 21, 30],\n",
              " 'max_features': ['auto', 'sqrt'],\n",
              " 'min_samples_split': [5, 10, 15, 100],\n",
              " 'n_estimators': [100, 320, 540, 760, 980, 1200]}"
            ]
          },
          "metadata": {},
          "execution_count": 326
        }
      ]
    },
    {
      "cell_type": "code",
      "metadata": {
        "id": "idvUy0CxsxGW"
      },
      "source": [
        " # Random search of parameters, using 3 fold cross validation\n",
        "\n",
        "rf_random = RandomizedSearchCV(estimator=reg_rf,param_distributions=random_grid,cv=3,verbose=2,n_jobs=-1)"
      ],
      "execution_count": 327,
      "outputs": []
    },
    {
      "cell_type": "code",
      "metadata": {
        "id": "PvcV3rVosxGX",
        "colab": {
          "base_uri": "https://localhost:8080/"
        },
        "outputId": "4b8ab01e-9044-4733-b3e0-eb72f25416ac"
      },
      "source": [
        "rf_random.fit(X_train,y_train)"
      ],
      "execution_count": 328,
      "outputs": [
        {
          "output_type": "stream",
          "name": "stderr",
          "text": [
            "[Parallel(n_jobs=-1)]: Done  30 out of  30 | elapsed:  1.4min finished\n"
          ]
        },
        {
          "output_type": "execute_result",
          "data": {
            "text/plain": [
              "RandomizedSearchCV(cv=3, error_score=nan,\n",
              "                   estimator=RandomForestRegressor(bootstrap=True,\n",
              "                                                   ccp_alpha=0.0,\n",
              "                                                   criterion='mse',\n",
              "                                                   max_depth=None,\n",
              "                                                   max_features='auto',\n",
              "                                                   max_leaf_nodes=None,\n",
              "                                                   max_samples=None,\n",
              "                                                   min_impurity_decrease=0.0,\n",
              "                                                   min_impurity_split=None,\n",
              "                                                   min_samples_leaf=1,\n",
              "                                                   min_samples_split=2,\n",
              "                                                   min_weight_fraction_leaf=0.0,\n",
              "                                                   n_estimators=100,\n",
              "                                                   n_jobs=None, oob_score=False,\n",
              "                                                   random_state=None, verbose=0,\n",
              "                                                   warm_start=False),\n",
              "                   iid='deprecated', n_iter=10, n_jobs=-1,\n",
              "                   param_distributions={'max_depth': [5, 13, 21, 30],\n",
              "                                        'max_features': ['auto', 'sqrt'],\n",
              "                                        'min_samples_split': [5, 10, 15, 100],\n",
              "                                        'n_estimators': [100, 320, 540, 760,\n",
              "                                                         980, 1200]},\n",
              "                   pre_dispatch='2*n_jobs', random_state=None, refit=True,\n",
              "                   return_train_score=False, scoring=None, verbose=2)"
            ]
          },
          "metadata": {},
          "execution_count": 328
        }
      ]
    },
    {
      "cell_type": "code",
      "metadata": {
        "id": "TrDspbBxsxGY",
        "colab": {
          "base_uri": "https://localhost:8080/"
        },
        "outputId": "4155fb97-cb96-4c19-cd7d-4b5d04e57b66"
      },
      "source": [
        "rf_random.best_params_"
      ],
      "execution_count": 329,
      "outputs": [
        {
          "output_type": "execute_result",
          "data": {
            "text/plain": [
              "{'max_depth': 13,\n",
              " 'max_features': 'auto',\n",
              " 'min_samples_split': 5,\n",
              " 'n_estimators': 100}"
            ]
          },
          "metadata": {},
          "execution_count": 329
        }
      ]
    },
    {
      "cell_type": "code",
      "metadata": {
        "id": "1m6Hx55LsxGb"
      },
      "source": [
        "prediction=rf_random.predict(X_test)"
      ],
      "execution_count": 330,
      "outputs": []
    },
    {
      "cell_type": "code",
      "metadata": {
        "id": "DuWkug3bsxGc",
        "colab": {
          "base_uri": "https://localhost:8080/",
          "height": 297
        },
        "outputId": "8f3a32e1-9b8e-45ee-a7a9-1f1b4b574d9c"
      },
      "source": [
        "sns.distplot(y_test-prediction)"
      ],
      "execution_count": 331,
      "outputs": [
        {
          "output_type": "execute_result",
          "data": {
            "text/plain": [
              "<matplotlib.axes._subplots.AxesSubplot at 0x7f67e9ea7090>"
            ]
          },
          "metadata": {},
          "execution_count": 331
        },
        {
          "output_type": "display_data",
          "data": {
            "image/png": "[encoded data removed]",
            "text/plain": [
              "<Figure size 432x288 with 1 Axes>"
            ]
          },
          "metadata": {
            "needs_background": "light"
          }
        }
      ]
    },
    {
      "cell_type": "code",
      "metadata": {
        "id": "J9UhHOdPsxGe"
      },
      "source": [
        "metrics.r2_score(y_test,prediction)"
      ],
      "execution_count": null,
      "outputs": []
    },
    {
      "cell_type": "code",
      "metadata": {
        "id": "OROJ77ZZsxGh",
        "colab": {
          "base_uri": "https://localhost:8080/"
        },
        "outputId": "35b4e842-cb1f-4fbe-c9ab-a9bf07a6e191"
      },
      "source": [
        "print('MAE',metrics.mean_absolute_error(y_test,prediction))\n",
        "print('MSE',metrics.mean_squared_error(y_test,prediction))\n",
        "print('RMSE',np.sqrt(metrics.mean_squared_error(y_test,prediction)))"
      ],
      "execution_count": 333,
      "outputs": [
        {
          "output_type": "stream",
          "name": "stdout",
          "text": [
            "MAE 1064.8273729456039\n",
            "MSE 2562768.2821568274\n",
            "RMSE 1600.864854432387\n"
          ]
        }
      ]
    },
    {
      "cell_type": "code",
      "metadata": {
        "id": "XiDS2m7isxGi"
      },
      "source": [
        ""
      ],
      "execution_count": 333,
      "outputs": []
    },
    {
      "cell_type": "markdown",
      "metadata": {
        "id": "KFCTaLZ_sxGj"
      },
      "source": [
        "##### Save the model to reuse it again"
      ]
    },
    {
      "cell_type": "code",
      "metadata": {
        "id": "RLXy-XYRsxGm"
      },
      "source": [
        "import pickle"
      ],
      "execution_count": 336,
      "outputs": []
    },
    {
      "cell_type": "code",
      "metadata": {
        "id": "k3sSCVAPsxGo"
      },
      "source": [
        "# open a file, where you want to store the data\n",
        "file=open('rf_random.pkl','wb')"
      ],
      "execution_count": 337,
      "outputs": []
    },
    {
      "cell_type": "code",
      "metadata": {
        "id": "rCtQOFKusxGp"
      },
      "source": [
        "# dump information to that file\n",
        "pickle.dump(rf_random,file)"
      ],
      "execution_count": 338,
      "outputs": []
    },
    {
      "cell_type": "code",
      "metadata": {
        "id": "L3m68v7CsxGv"
      },
      "source": [
        ""
      ],
      "execution_count": null,
      "outputs": []
    },
    {
      "cell_type": "code",
      "metadata": {
        "id": "9s7OO2ttsxHD"
      },
      "source": [
        "model=open('rf_random.pkl','rb')\n",
        "forest=pickle.load(model)"
      ],
      "execution_count": 339,
      "outputs": []
    },
    {
      "cell_type": "code",
      "metadata": {
        "id": "iLSDXfn2sxHF"
      },
      "source": [
        "y_prediction=forest.predict(X_test)"
      ],
      "execution_count": 340,
      "outputs": []
    },
    {
      "cell_type": "code",
      "metadata": {
        "id": "hkA7LQbRsxHH",
        "colab": {
          "base_uri": "https://localhost:8080/"
        },
        "outputId": "e1feb721-33c8-45c2-fb17-b69f91ca45c5"
      },
      "source": [
        "y_prediction"
      ],
      "execution_count": 341,
      "outputs": [
        {
          "output_type": "execute_result",
          "data": {
            "text/plain": [
              "array([ 4106.28548881, 13531.14889591, 12165.28317357, ...,\n",
              "        5165.71409609,  7071.80006323, 27860.45991667])"
            ]
          },
          "metadata": {},
          "execution_count": 341
        }
      ]
    },
    {
      "cell_type": "code",
      "metadata": {
        "id": "uThhRolGsxHJ",
        "colab": {
          "base_uri": "https://localhost:8080/"
        },
        "outputId": "cb41a2a2-b101-4d67-829c-7c28fd381101"
      },
      "source": [
        "metrics.r2_score(y_test,y_prediction)"
      ],
      "execution_count": 342,
      "outputs": [
        {
          "output_type": "execute_result",
          "data": {
            "text/plain": [
              "0.8566428190216346"
            ]
          },
          "metadata": {},
          "execution_count": 342
        }
      ]
    },
    {
      "cell_type": "code",
      "metadata": {
        "id": "p9HE3dSwsxHJ"
      },
      "source": [
        ""
      ],
      "execution_count": null,
      "outputs": []
    },
    {
      "cell_type": "code",
      "metadata": {
        "id": "umfsEi2FsxHK"
      },
      "source": [
        ""
      ],
      "execution_count": null,
      "outputs": []
    },
    {
      "cell_type": "code",
      "metadata": {
        "id": "Ocaz73G7sxHK"
      },
      "source": [
        ""
      ],
      "execution_count": null,
      "outputs": []
    }
  ]
}